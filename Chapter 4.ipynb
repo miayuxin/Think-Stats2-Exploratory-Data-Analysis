{
 "cells": [
  {
   "cell_type": "markdown",
   "metadata": {},
   "source": [
    "# Mia's solution for 4.2 exercise"
   ]
  },
  {
   "cell_type": "code",
   "execution_count": 2,
   "metadata": {},
   "outputs": [],
   "source": [
    "from __future__ import print_function, division\n",
    "\n",
    "%matplotlib inline\n",
    "\n",
    "import numpy as np\n",
    "\n",
    "import nsfg\n",
    "import first\n",
    "import thinkstats2\n",
    "import thinkplot"
   ]
  },
  {
   "cell_type": "markdown",
   "metadata": {},
   "source": [
    "## Examples of chapter 4 "
   ]
  },
  {
   "cell_type": "code",
   "execution_count": 3,
   "metadata": {},
   "outputs": [],
   "source": [
    "live, firsts, others = first.MakeFrames()"
   ]
  },
  {
   "cell_type": "markdown",
   "metadata": {},
   "source": [
    "And compute the distribution of birth weight for first babies and others."
   ]
  },
  {
   "cell_type": "code",
   "execution_count": 4,
   "metadata": {},
   "outputs": [
    {
     "name": "stdout",
     "output_type": "stream",
     "text": [
      "Firsts 4413 4363\n",
      "Others 4735 4675\n"
     ]
    }
   ],
   "source": [
    "first_wgt = firsts.totalwgt_lb\n",
    "first_wgt_dropna = first_wgt.dropna()\n",
    "print('Firsts', len(first_wgt), len(first_wgt_dropna))\n",
    " \n",
    "other_wgt = others.totalwgt_lb\n",
    "other_wgt_dropna = other_wgt.dropna()\n",
    "print('Others', len(other_wgt), len(other_wgt_dropna))\n",
    "\n",
    "first_pmf = thinkstats2.Pmf(first_wgt_dropna, label='first')\n",
    "other_pmf = thinkstats2.Pmf(other_wgt_dropna, label='other')"
   ]
  },
  {
   "cell_type": "markdown",
   "metadata": {},
   "source": [
    "We can plot the PMFs on the same scale, but it is hard to see if there is a difference."
   ]
  },
  {
   "cell_type": "code",
   "execution_count": 5,
   "metadata": {},
   "outputs": [
    {
     "data": {
      "image/png": "[encoded data removed]",
      "text/plain": [
       "<Figure size 432x288 with 1 Axes>"
      ]
     },
     "metadata": {
      "needs_background": "light"
     },
     "output_type": "display_data"
    }
   ],
   "source": [
    "width = 0.4 / 16\n",
    "\n",
    "# plot PMFs of birth weights for first babies and others\n",
    "thinkplot.PrePlot(2)\n",
    "thinkplot.Hist(first_pmf, align='right', width=width)\n",
    "thinkplot.Hist(other_pmf, align='left', width=width)\n",
    "thinkplot.Config(xlabel='Weight (pounds)', ylabel='PMF')"
   ]
  },
  {
   "cell_type": "markdown",
   "metadata": {},
   "source": [
    "`PercentileRank` computes the fraction of `scores` less than or equal to `your_score`."
   ]
  },
  {
   "cell_type": "code",
   "execution_count": 6,
   "metadata": {},
   "outputs": [],
   "source": [
    "def PercentileRank(scores, your_score):\n",
    "    count = 0\n",
    "    for score in scores:\n",
    "        if score <= your_score:\n",
    "            count += 1\n",
    "\n",
    "    percentile_rank = 100.0 * count / len(scores)\n",
    "    return percentile_rank"
   ]
  },
  {
   "cell_type": "markdown",
   "metadata": {},
   "source": [
    "If this is the list of scores."
   ]
  },
  {
   "cell_type": "code",
   "execution_count": 6,
   "metadata": {},
   "outputs": [],
   "source": [
    "t = [55, 66, 77, 88, 99]"
   ]
  },
  {
   "cell_type": "markdown",
   "metadata": {},
   "source": [
    "And you got the 88, your percentile rank is 80."
   ]
  },
  {
   "cell_type": "code",
   "execution_count": 7,
   "metadata": {},
   "outputs": [
    {
     "data": {
      "text/plain": [
       "80.0"
      ]
     },
     "execution_count": 7,
     "metadata": {},
     "output_type": "execute_result"
    }
   ],
   "source": [
    "PercentileRank(t, 88)"
   ]
  },
  {
   "cell_type": "markdown",
   "metadata": {},
   "source": [
    "`Percentile` takes a percentile rank and computes the corresponding percentile. "
   ]
  },
  {
   "cell_type": "code",
   "execution_count": 7,
   "metadata": {},
   "outputs": [],
   "source": [
    "def Percentile(scores, percentile_rank):\n",
    "    scores.sort()\n",
    "    for score in scores:\n",
    "        if PercentileRank(scores, score) >= percentile_rank:\n",
    "            return score"
   ]
  },
  {
   "cell_type": "markdown",
   "metadata": {},
   "source": [
    "The median is the 50th percentile, which is 77."
   ]
  },
  {
   "cell_type": "code",
   "execution_count": 9,
   "metadata": {},
   "outputs": [
    {
     "data": {
      "text/plain": [
       "77"
      ]
     },
     "execution_count": 9,
     "metadata": {},
     "output_type": "execute_result"
    }
   ],
   "source": [
    "Percentile(t, 50)"
   ]
  },
  {
   "cell_type": "markdown",
   "metadata": {},
   "source": [
    "Here's a more efficient way to compute percentiles."
   ]
  },
  {
   "cell_type": "code",
   "execution_count": 8,
   "metadata": {},
   "outputs": [],
   "source": [
    "def Percentile2(scores, percentile_rank):\n",
    "    scores.sort()\n",
    "    index = percentile_rank * (len(scores)-1) // 100\n",
    "    return scores[index]"
   ]
  },
  {
   "cell_type": "markdown",
   "metadata": {},
   "source": [
    "Let's hope we get the same answer."
   ]
  },
  {
   "cell_type": "code",
   "execution_count": 11,
   "metadata": {},
   "outputs": [
    {
     "data": {
      "text/plain": [
       "77"
      ]
     },
     "execution_count": 11,
     "metadata": {},
     "output_type": "execute_result"
    }
   ],
   "source": [
    "Percentile2(t, 50)"
   ]
  },
  {
   "cell_type": "markdown",
   "metadata": {},
   "source": [
    "The Cumulative Distribution Function (CDF) is almost the same as `PercentileRank`.  The only difference is that the result is 0-1 instead of 0-100."
   ]
  },
  {
   "cell_type": "code",
   "execution_count": 9,
   "metadata": {},
   "outputs": [],
   "source": [
    "def EvalCdf(sample, x):\n",
    "    count = 0.0\n",
    "    for value in sample:\n",
    "        if value <= x:\n",
    "            count += 1\n",
    "\n",
    "    prob = count / len(sample)\n",
    "    return prob"
   ]
  },
  {
   "cell_type": "markdown",
   "metadata": {},
   "source": [
    "In this list"
   ]
  },
  {
   "cell_type": "code",
   "execution_count": 13,
   "metadata": {},
   "outputs": [],
   "source": [
    "t = [1, 2, 2, 3, 5]"
   ]
  },
  {
   "cell_type": "markdown",
   "metadata": {},
   "source": [
    "We can evaluate the CDF for various values:"
   ]
  },
  {
   "cell_type": "code",
   "execution_count": 14,
   "metadata": {},
   "outputs": [
    {
     "data": {
      "text/plain": [
       "(0.0, 0.2, 0.6, 0.8, 0.8, 1.0)"
      ]
     },
     "execution_count": 14,
     "metadata": {},
     "output_type": "execute_result"
    }
   ],
   "source": [
    "EvalCdf(t, 0), EvalCdf(t, 1), EvalCdf(t, 2), EvalCdf(t, 3), EvalCdf(t, 4), EvalCdf(t, 5)"
   ]
  },
  {
   "cell_type": "markdown",
   "metadata": {},
   "source": [
    "Here's an example using real data, the distribution of pregnancy length for live births."
   ]
  },
  {
   "cell_type": "code",
   "execution_count": 10,
   "metadata": {},
   "outputs": [
    {
     "data": {
      "image/png": "[encoded data removed]",
      "text/plain": [
       "<Figure size 432x288 with 1 Axes>"
      ]
     },
     "metadata": {
      "needs_background": "light"
     },
     "output_type": "display_data"
    }
   ],
   "source": [
    "cdf = thinkstats2.Cdf(live.prglngth, label='prglngth')\n",
    "thinkplot.Cdf(cdf)\n",
    "thinkplot.Config(xlabel='Pregnancy length (weeks)', ylabel='CDF', loc='upper left')"
   ]
  },
  {
   "cell_type": "markdown",
   "metadata": {},
   "source": [
    "`Cdf` provides `Prob`, which evaluates the CDF; that is, it computes the fraction of values less than or equal to the given value.  For example, 94% of pregnancy lengths are less than or equal to 41."
   ]
  },
  {
   "cell_type": "code",
   "execution_count": 11,
   "metadata": {},
   "outputs": [
    {
     "data": {
      "text/plain": [
       "0.9406427634455619"
      ]
     },
     "execution_count": 11,
     "metadata": {},
     "output_type": "execute_result"
    }
   ],
   "source": [
    "cdf.Prob(41)"
   ]
  },
  {
   "cell_type": "markdown",
   "metadata": {
    "collapsed": true
   },
   "source": [
    "`Value` evaluates the inverse CDF; given a fraction, it computes the corresponding value.  For example, the median is the value that corresponds to 0.5."
   ]
  },
  {
   "cell_type": "code",
   "execution_count": 12,
   "metadata": {},
   "outputs": [
    {
     "data": {
      "text/plain": [
       "39"
      ]
     },
     "execution_count": 12,
     "metadata": {},
     "output_type": "execute_result"
    }
   ],
   "source": [
    "cdf.Value(0.5)"
   ]
  },
  {
   "cell_type": "markdown",
   "metadata": {},
   "source": [
    "In general, CDFs are a good way to visualize distributions.  They are not as noisy as PMFs, and if you plot several CDFs on the same axes, any differences between them are apparent."
   ]
  },
  {
   "cell_type": "code",
   "execution_count": 13,
   "metadata": {},
   "outputs": [
    {
     "data": {
      "image/png": "[encoded data removed]",
      "text/plain": [
       "<Figure size 432x288 with 1 Axes>"
      ]
     },
     "metadata": {
      "needs_background": "light"
     },
     "output_type": "display_data"
    }
   ],
   "source": [
    "first_cdf = thinkstats2.Cdf(firsts.totalwgt_lb, label='first')\n",
    "other_cdf = thinkstats2.Cdf(others.totalwgt_lb, label='other')\n",
    "\n",
    "thinkplot.PrePlot(2)\n",
    "thinkplot.Cdfs([first_cdf, other_cdf])\n",
    "thinkplot.Config(xlabel='Weight (pounds)', ylabel='CDF')"
   ]
  },
  {
   "cell_type": "markdown",
   "metadata": {},
   "source": [
    "In this example, we can see that first babies are slightly, but consistently, lighter than others.\n",
    "\n",
    "We can use the CDF of birth weight to compute percentile-based statistics."
   ]
  },
  {
   "cell_type": "code",
   "execution_count": 14,
   "metadata": {},
   "outputs": [],
   "source": [
    "weights = live.totalwgt_lb\n",
    "live_cdf = thinkstats2.Cdf(weights, label='live')"
   ]
  },
  {
   "cell_type": "markdown",
   "metadata": {},
   "source": [
    "Again, the median is the 50th percentile."
   ]
  },
  {
   "cell_type": "code",
   "execution_count": 15,
   "metadata": {},
   "outputs": [
    {
     "data": {
      "text/plain": [
       "7.375"
      ]
     },
     "execution_count": 15,
     "metadata": {},
     "output_type": "execute_result"
    }
   ],
   "source": [
    "median = live_cdf.Percentile(50)\n",
    "median"
   ]
  },
  {
   "cell_type": "markdown",
   "metadata": {},
   "source": [
    "The interquartile range is the interval from the 25th to 75th percentile."
   ]
  },
  {
   "cell_type": "code",
   "execution_count": 16,
   "metadata": {},
   "outputs": [
    {
     "data": {
      "text/plain": [
       "(6.5, 8.125)"
      ]
     },
     "execution_count": 16,
     "metadata": {},
     "output_type": "execute_result"
    }
   ],
   "source": [
    "iqr = (live_cdf.Percentile(25), live_cdf.Percentile(75))\n",
    "iqr"
   ]
  },
  {
   "cell_type": "markdown",
   "metadata": {},
   "source": [
    "We can use the CDF to look up the percentile rank of a particular value.  For example, my second daughter was 10.2 pounds at birth, which is near the 99th percentile."
   ]
  },
  {
   "cell_type": "code",
   "execution_count": 17,
   "metadata": {},
   "outputs": [
    {
     "data": {
      "text/plain": [
       "98.82717415357381"
      ]
     },
     "execution_count": 17,
     "metadata": {},
     "output_type": "execute_result"
    }
   ],
   "source": [
    "live_cdf.PercentileRank(10.2)"
   ]
  },
  {
   "cell_type": "markdown",
   "metadata": {},
   "source": [
    "If we draw a random sample from the observed weights and map each weigh to its percentile rank."
   ]
  },
  {
   "cell_type": "code",
   "execution_count": 18,
   "metadata": {},
   "outputs": [
    {
     "name": "stdout",
     "output_type": "stream",
     "text": [
      "[70.39167957512724, 16.629785350741315, 40.185881832263775, 52.83248506306705, 52.83248506306705, 49.679132551449435, 11.827838017260456, 35.760123921221506, 14.461163974330605, 78.68997565833149, 54.414693516264656, 47.75392786014605, 82.6289001991591, 52.83248506306705, 60.83204248727595, 92.48727594600575, 14.461163974330605, 70.39167957512724, 30.869661429519805, 89.47776056649701, 45.707014826289, 44.03629121487055, 21.06660765656119, 69.04182341225935, 96.05001106439478, 97.45518920115069, 82.6289001991591, 36.855499004204475, 81.42288116840008, 21.06660765656119, 70.39167957512724, 86.63421110865237, 65.60079663642398, 32.59570701482629, 35.760123921221506, 73.32374419119274, 82.6289001991591, 32.59570701482629, 79.89599468909051, 30.869661429519805, 9.692409825182564, 63.266209338349185, 21.06660765656119, 49.679132551449435, 36.855499004204475, 57.75614073910157, 67.13874751051118, 30.869661429519805, 88.42664306262448, 41.668510732462934, 94.01416242531533, 22.40539942465147, 29.331710555432615, 30.869661429519805, 81.42288116840008, 82.6289001991591, 59.283027218411156, 92.90772294755477, 84.06727152024784, 44.03629121487055, 84.06727152024784, 84.06727152024784, 70.39167957512724, 88.42664306262448, 44.03629121487055, 18.079221066607655, 36.855499004204475, 44.03629121487055, 67.13874751051118, 44.03629121487055, 89.47776056649701, 45.707014826289, 73.32374419119274, 60.83204248727595, 35.760123921221506, 34.277495021022354, 57.75614073910157, 40.185881832263775, 63.266209338349185, 86.63421110865237, 78.68997565833149, 81.42288116840008, 3.3857048019473335, 16.629785350741315, 30.869661429519805, 27.970789997787122, 99.30294312901084, 29.331710555432615, 67.13874751051118, 44.03629121487055, 78.68997565833149, 7.158663421110865, 14.461163974330605, 73.32374419119274, 57.75614073910157, 40.185881832263775, 85.43925647267095, 74.55189201150696, 87.39765434830716, 84.06727152024784]\n"
     ]
    }
   ],
   "source": [
    "sample = np.random.choice(weights, 100, replace=True)\n",
    "ranks = [live_cdf.PercentileRank(x) for x in sample]\n",
    "print(ranks)"
   ]
  },
  {
   "cell_type": "markdown",
   "metadata": {},
   "source": [
    "The resulting list of ranks should be approximately uniform from 0-1."
   ]
  },
  {
   "cell_type": "code",
   "execution_count": 19,
   "metadata": {},
   "outputs": [
    {
     "data": {
      "image/png": "[encoded data removed]",
      "text/plain": [
       "<Figure size 432x288 with 1 Axes>"
      ]
     },
     "metadata": {
      "needs_background": "light"
     },
     "output_type": "display_data"
    }
   ],
   "source": [
    "rank_cdf = thinkstats2.Cdf(ranks)\n",
    "thinkplot.Cdf(rank_cdf)\n",
    "thinkplot.Config(xlabel='Percentile rank', ylabel='CDF')"
   ]
  },
  {
   "cell_type": "markdown",
   "metadata": {},
   "source": [
    "That observation is the basis of `Cdf.Sample`, which generates a random sample from a Cdf.  Here's an example."
   ]
  },
  {
   "cell_type": "code",
   "execution_count": 20,
   "metadata": {},
   "outputs": [
    {
     "data": {
      "image/png": "[encoded data removed]",
      "text/plain": [
       "<Figure size 432x288 with 1 Axes>"
      ]
     },
     "metadata": {
      "needs_background": "light"
     },
     "output_type": "display_data"
    }
   ],
   "source": [
    "resample = live_cdf.Sample(1000)\n",
    "thinkplot.Cdf(live_cdf)\n",
    "thinkplot.Cdf(thinkstats2.Cdf(resample, label='resample'))\n",
    "thinkplot.Config(xlabel='Birth weight (pounds)', ylabel='CDF')"
   ]
  },
  {
   "cell_type": "markdown",
   "metadata": {},
   "source": [
    "This confirms that the random sample has the same distribution as the original data."
   ]
  },
  {
   "cell_type": "markdown",
   "metadata": {
    "collapsed": true
   },
   "source": [
    "## 4.2 Exercises"
   ]
  },
  {
   "cell_type": "markdown",
   "metadata": {
    "collapsed": true
   },
   "source": [
    "The numbers generated by `numpy.random.random` are supposed to be uniform between 0 and 1; that is, every value in the range should have the same probability.\n",
    "\n",
    "Generate 1000 numbers from `numpy.random.random` and plot their PMF.  What goes wrong?\n",
    "\n",
    "Now plot the CDF. Is the distribution uniform?"
   ]
  },
  {
   "cell_type": "code",
   "execution_count": 30,
   "metadata": {},
   "outputs": [
    {
     "name": "stdout",
     "output_type": "stream",
     "text": [
      "[2.03727346e-01 8.80548611e-01 9.30464705e-01 3.23122438e-01\n",
      " 7.75477259e-01 5.08053596e-01 2.11396235e-01 6.90718873e-01\n",
      " 1.83542538e-02 1.42346493e-01 4.72321628e-01 4.78086560e-01\n",
      " 4.26653315e-01 3.35908147e-02 4.39918160e-01 4.28571289e-01\n",
      " 9.82814407e-01 2.46616232e-01 8.18596423e-01 6.26885056e-01\n",
      " 8.13155876e-01 8.45214690e-01 1.05926079e-01 1.91749531e-01\n",
      " 8.08404264e-01 2.25151201e-01 2.77637074e-01 5.70009885e-01\n",
      " 6.90307113e-01 3.93637657e-01 1.81137437e-02 5.49186050e-01\n",
      " 4.66219219e-01 9.02766373e-01 2.96184106e-01 8.08441417e-01\n",
      " 2.81433620e-01 6.04487429e-01 7.08112700e-01 7.40215854e-01\n",
      " 9.60899140e-01 4.63832734e-01 4.54287407e-01 9.50410145e-01\n",
      " 1.01208527e-02 1.07169449e-01 8.69134607e-01 5.19512341e-02\n",
      " 5.72474139e-01 2.01512693e-01 5.44242705e-01 9.89385656e-01\n",
      " 5.78541937e-01 9.02399996e-01 3.59147336e-01 8.47521216e-01\n",
      " 9.85070194e-01 3.20259213e-01 5.41955164e-01 6.96659090e-01\n",
      " 3.25163336e-01 8.03393685e-01 9.27786563e-01 7.35702947e-01\n",
      " 8.16134193e-01 5.64440150e-02 1.55992745e-02 2.92380732e-01\n",
      " 3.06758047e-01 7.65543199e-01 8.79442425e-01 4.45490377e-01\n",
      " 8.84019923e-02 1.98035708e-03 2.02832457e-01 3.82185132e-01\n",
      " 8.69226744e-01 7.02142567e-01 5.70817707e-01 6.56766498e-01\n",
      " 8.27202753e-01 2.11412109e-01 5.75533359e-01 1.35222964e-01\n",
      " 6.60667646e-01 8.61530816e-01 9.33816475e-01 1.20805637e-03\n",
      " 5.46118835e-01 9.11314948e-01 1.33048959e-01 3.80362646e-01\n",
      " 1.62820148e-01 3.49631442e-01 4.31393652e-01 1.14446842e-01\n",
      " 3.49027664e-01 2.15325609e-01 7.05872828e-01 7.24558006e-02\n",
      " 3.21372164e-01 5.53555843e-01 3.25676010e-01 4.52514915e-01\n",
      " 3.78659147e-01 5.08852294e-01 6.48742289e-01 1.18302779e-01\n",
      " 4.62700237e-01 6.25841530e-01 5.46246630e-02 6.83226987e-01\n",
      " 2.57561649e-01 1.12892515e-01 3.93641585e-01 6.60448848e-01\n",
      " 4.64205254e-01 8.98261809e-01 4.31257318e-01 8.36866965e-01\n",
      " 3.66515619e-01 8.34157948e-01 7.89151252e-01 2.62042554e-01\n",
      " 3.24819110e-01 2.52480968e-02 2.53247408e-01 8.71308607e-01\n",
      " 7.40692752e-02 9.38433290e-01 3.51219612e-01 4.13844366e-01\n",
      " 5.20998589e-01 3.18726366e-01 9.94798020e-01 6.67229055e-01\n",
      " 8.25539792e-01 7.70357455e-01 8.18754220e-01 5.74684584e-01\n",
      " 6.07587291e-01 4.99497778e-01 7.02821631e-01 8.75597484e-01\n",
      " 9.62414215e-01 5.12118103e-01 7.93378318e-01 7.34604429e-01\n",
      " 6.71933650e-01 8.64268811e-01 4.63576839e-01 4.47606382e-02\n",
      " 9.46117644e-01 5.05359374e-01 5.88245860e-01 2.13460794e-01\n",
      " 1.11970900e-01 5.78405373e-01 9.71601367e-01 5.76876019e-02\n",
      " 3.53164587e-01 3.12232744e-01 6.98369865e-01 6.22507697e-02\n",
      " 2.02686192e-01 6.87002212e-01 4.86409265e-02 2.16684379e-01\n",
      " 6.01022091e-03 3.24969327e-01 3.47920110e-03 6.68482036e-01\n",
      " 2.73663708e-01 1.06080172e-01 1.31857956e-01 6.37128788e-01\n",
      " 2.20730406e-01 9.10986331e-01 7.76742364e-01 5.56949902e-01\n",
      " 7.54906015e-01 4.19253412e-03 6.11889228e-02 1.38544081e-01\n",
      " 7.42124376e-01 4.18262368e-01 9.06987806e-02 1.16902697e-01\n",
      " 4.51989547e-01 4.79761298e-02 9.72861398e-01 6.98140102e-01\n",
      " 9.54046177e-01 2.49825333e-01 9.95118879e-01 6.77178584e-01\n",
      " 3.67303406e-02 7.55785134e-01 7.58884488e-01 9.66666647e-01\n",
      " 1.74255727e-01 5.68431215e-01 9.56754951e-01 4.76168920e-01\n",
      " 8.67920130e-01 1.07447818e-02 8.01495922e-01 3.71034371e-01\n",
      " 1.40416240e-01 3.63994617e-01 7.62922781e-01 4.93136672e-01\n",
      " 1.49242663e-01 3.71904653e-01 4.53859821e-01 9.64786071e-01\n",
      " 5.66592569e-01 8.14992980e-04 4.12326995e-01 8.96168286e-01\n",
      " 7.49499027e-01 8.74514269e-01 8.92469214e-01 5.52362211e-01\n",
      " 1.48292386e-01 2.12207887e-01 5.12290760e-01 4.88751309e-01\n",
      " 3.40798650e-01 1.09447002e-01 6.11443113e-01 4.81135467e-01\n",
      " 2.20931851e-01 8.17530204e-01 1.10241288e-01 2.57416193e-01\n",
      " 7.18018472e-01 6.30801325e-01 5.18779718e-01 7.75498636e-01\n",
      " 9.03471232e-01 1.86802436e-01 8.02020608e-02 4.83596937e-01\n",
      " 3.89211893e-01 4.21822533e-01 3.69478445e-01 6.94952967e-02\n",
      " 8.99976210e-01 2.88353187e-01 1.86239230e-01 9.83297705e-01\n",
      " 5.56222296e-01 5.84751854e-01 7.49357142e-01 6.37685392e-01\n",
      " 2.75792931e-01 4.27777945e-01 8.62924369e-01 3.63366964e-03\n",
      " 2.10706711e-01 5.92293663e-01 1.09062953e-02 4.09342608e-01\n",
      " 7.49013203e-01 4.63619255e-01 7.11074778e-01 4.19700680e-01\n",
      " 3.59797185e-01 2.33711029e-01 8.80162002e-01 9.78461502e-01\n",
      " 7.04707667e-01 6.27775515e-01 5.29352976e-01 6.91086115e-01\n",
      " 8.55885621e-01 1.81856146e-01 2.72258699e-01 2.33836438e-01\n",
      " 3.27362439e-01 5.32061614e-01 1.91574856e-01 7.98003108e-01\n",
      " 9.70993837e-01 8.23087364e-01 3.72573381e-01 9.76156407e-01\n",
      " 3.59063966e-02 1.64751485e-01 5.14096220e-01 1.24752065e-01\n",
      " 1.85278568e-01 1.36371016e-01 4.87041440e-01 2.72584265e-01\n",
      " 4.55959130e-01 5.82851225e-03 3.59545201e-01 7.62361865e-01\n",
      " 6.05688362e-03 3.53414757e-01 6.34971349e-01 8.22125412e-01\n",
      " 3.54903739e-01 2.57883221e-01 1.89403898e-01 2.12122237e-01\n",
      " 6.20470497e-01 7.35729342e-02 5.53188764e-02 8.07844610e-01\n",
      " 2.54192305e-01 6.23599545e-01 3.84234909e-01 2.96722802e-02\n",
      " 6.70934391e-01 8.25777270e-01 5.24438829e-01 6.71732555e-01\n",
      " 3.99955827e-01 7.15705175e-01 9.74370352e-01 9.54805361e-01\n",
      " 1.19628620e-01 5.20982239e-02 8.56266920e-01 6.38160697e-01\n",
      " 7.76862028e-01 7.37519015e-01 5.87224687e-01 7.88019947e-02\n",
      " 4.57158071e-01 5.45518533e-01 9.14177544e-01 8.66763344e-01\n",
      " 9.95529556e-01 2.24640719e-01 7.23780880e-01 9.24326338e-01\n",
      " 8.25461808e-01 3.94710460e-01 7.34221745e-02 9.04486731e-02\n",
      " 7.71223685e-01 8.52875415e-01 5.95205907e-01 6.96205643e-01\n",
      " 8.92681365e-01 7.13407725e-01 3.02328412e-01 7.65481819e-01\n",
      " 1.11287812e-01 2.73697383e-01 1.71799811e-01 6.98174844e-01\n",
      " 1.26293678e-01 2.02777769e-01 6.79328423e-01 5.64792455e-01\n",
      " 2.87950970e-01 7.16774829e-01 1.71013270e-01 9.53944020e-01\n",
      " 9.07205509e-01 5.17260191e-01 8.00675323e-02 5.39993806e-01\n",
      " 4.22735993e-01 8.45750188e-01 5.94776642e-01 3.50546684e-01\n",
      " 4.48493931e-03 8.75826441e-01 6.97121942e-01 5.09840136e-01\n",
      " 3.55928958e-01 2.28310845e-01 8.81065420e-01 4.34622210e-01\n",
      " 1.48089798e-01 2.76138667e-01 1.29090198e-01 5.63165405e-01\n",
      " 6.56702899e-01 9.09862417e-01 6.39011418e-01 5.62909592e-01\n",
      " 4.75656777e-01 9.05879826e-02 5.83634172e-01 6.25265165e-02\n",
      " 1.63522216e-01 8.54371294e-01 2.82409942e-01 5.34937746e-01\n",
      " 1.35314431e-01 8.82073509e-01 1.47981848e-01 8.14031690e-01\n",
      " 6.25891521e-01 7.94701711e-02 7.13202755e-02 2.21446641e-01\n",
      " 9.07096473e-01 9.11522978e-01 1.62748425e-01 2.99462296e-01\n",
      " 2.54769575e-01 9.53987128e-01 1.52238217e-01 6.87665227e-01\n",
      " 4.11966848e-01 1.60126683e-01 2.82857033e-01 5.02089267e-01\n",
      " 8.51131841e-01 8.46952212e-01 8.36394391e-02 2.25273229e-02\n",
      " 4.85925592e-01 7.83843943e-03 1.86336894e-01 8.82441203e-01\n",
      " 7.99536589e-01 4.77420658e-01 8.42260866e-01 7.23631206e-01\n",
      " 4.76201880e-01 5.64429946e-01 4.33505560e-01 6.21283680e-01\n",
      " 8.25333368e-01 5.41070425e-01 2.70931325e-01 3.12980268e-01\n",
      " 2.89405940e-01 7.17158256e-01 8.32023762e-01 3.11391399e-02\n",
      " 9.00490069e-01 7.27960671e-01 8.66565102e-02 9.85122310e-02\n",
      " 5.20445566e-01 6.83274633e-01 9.12011013e-01 7.43150602e-01\n",
      " 6.33885765e-02 4.03951917e-01 2.49418253e-01 7.92148572e-02\n",
      " 9.86404642e-01 3.01498486e-01 3.88034117e-01 7.06661761e-01\n",
      " 2.69381861e-01 8.05411176e-01 5.50451935e-01 9.10048879e-02\n",
      " 2.01688878e-01 6.85611940e-01 6.68197570e-01 1.68284183e-01\n",
      " 4.74482447e-01 5.42540403e-02 8.08844946e-01 6.43406341e-01\n",
      " 1.00715386e-01 5.28211579e-01 7.86622778e-01 3.57330260e-02\n",
      " 6.50982512e-01 5.73425693e-01 8.41519812e-01 2.88040536e-01\n",
      " 3.12523719e-01 2.17297569e-01 4.85815224e-01 3.99701920e-01\n",
      " 1.25195082e-01 6.11915370e-01 1.74627817e-01 4.86866887e-02\n",
      " 3.60847665e-01 4.83000305e-01 2.79367109e-02 5.63057784e-01\n",
      " 4.27926916e-01 6.14373089e-01 5.47729530e-02 9.36734976e-02\n",
      " 6.96704206e-01 7.67641488e-01 3.32098945e-01 7.95261187e-01\n",
      " 8.26557688e-01 9.76217840e-01 6.87092300e-01 3.55089532e-01\n",
      " 9.54661609e-01 2.01533850e-01 1.35870768e-02 4.96931221e-03\n",
      " 3.27122342e-01 8.93721113e-01 3.51932768e-01 9.93554093e-01\n",
      " 5.59812931e-01 7.50638841e-02 2.73509923e-01 6.39201519e-01\n",
      " 5.57218300e-01 2.20054664e-01 2.76747548e-01 9.39020871e-01\n",
      " 6.37979889e-01 8.45136011e-01 2.13889245e-02 2.98988140e-01\n",
      " 3.40739875e-01 2.32337923e-01 6.59343347e-01 5.12601518e-01\n",
      " 2.07868224e-01 1.89285838e-01 3.94693145e-01 8.83877982e-01\n",
      " 7.78811931e-02 6.83496801e-01 6.65210807e-02 8.26461591e-01\n",
      " 2.08983374e-01 3.38192701e-01 6.63825975e-01 6.25599945e-01\n",
      " 4.97241296e-01 2.64810170e-01 8.19345224e-01 6.50687748e-01\n",
      " 9.30275685e-01 8.88891166e-02 4.43522543e-01 4.51640516e-01\n",
      " 3.50083022e-01 4.52997162e-01 9.11499420e-01 7.24098963e-01\n",
      " 6.69586382e-01 4.73478292e-01 1.13482655e-01 3.48165258e-01\n",
      " 1.75375160e-01 2.56887074e-01 6.70451579e-01 5.37754211e-01\n",
      " 2.54531956e-01 6.63220297e-01 5.05090086e-01 6.59454481e-01\n",
      " 6.85794385e-01 4.45013865e-01 3.31635376e-01 3.83932591e-01\n",
      " 1.63577466e-02 9.85088844e-01 8.55210441e-01 5.95860951e-01\n",
      " 1.36918473e-01 2.23098878e-01 7.80263614e-01 1.60747729e-01\n",
      " 4.81914965e-01 8.84798961e-01 9.18671843e-01 4.46023057e-01\n",
      " 2.74782222e-01 1.67400100e-01 6.54391519e-01 9.17263822e-01\n",
      " 4.04190999e-04 5.48804655e-01 1.02673875e-01 2.17590338e-01\n",
      " 2.25966870e-01 3.45406775e-01 9.12813760e-01 4.08025397e-01\n",
      " 1.06302378e-01 4.17568534e-01 1.25252099e-01 6.36588006e-02\n",
      " 4.19055849e-01 9.81711960e-01 2.16184929e-01 2.63993723e-01\n",
      " 8.24073070e-01 3.83126253e-01 9.92970391e-01 8.90482037e-01\n",
      " 5.34564024e-01 5.85305301e-01 2.29883120e-01 9.22413664e-01\n",
      " 5.44849727e-01 9.78161167e-01 3.46958473e-01 7.99883991e-01\n",
      " 1.26975824e-01 3.58310055e-01 7.47081222e-01 3.12927121e-01\n",
      " 3.41808076e-01 5.96499074e-01 8.17025055e-01 7.36390717e-02\n",
      " 6.48629151e-01 1.65793897e-01 2.29017883e-02 6.45773281e-02\n",
      " 8.18035155e-01 4.82045522e-01 2.66996481e-01 1.39628649e-01\n",
      " 9.77251464e-01 9.80220132e-01 9.09289815e-02 2.65413680e-01\n",
      " 6.42893248e-01 8.76914224e-01 1.30630712e-02 5.56962306e-01\n",
      " 2.84805483e-01 2.11025213e-01 5.50286109e-01 8.95563693e-01\n",
      " 7.66861880e-01 6.44965470e-02 1.75923945e-01 1.47802010e-01\n",
      " 9.04684570e-01 2.00492292e-01 7.91695548e-01 8.95965305e-01\n",
      " 8.91672180e-01 7.66733886e-01 8.75773147e-01 5.62804599e-02\n",
      " 4.09726288e-01 8.08402576e-01 7.97471162e-02 7.67171284e-01\n",
      " 4.48558339e-01 3.17809696e-02 7.92354193e-01 7.54481443e-01\n",
      " 9.02923894e-01 8.00727305e-01 5.64875135e-01 2.01663864e-01\n",
      " 1.34932618e-02 2.63407943e-01 3.69889087e-01 1.00595338e-01\n",
      " 7.87412315e-01 7.98821174e-01 7.34239103e-01 7.67616626e-01\n",
      " 9.17892315e-01 5.53705133e-01 2.25577123e-01 8.01313103e-01\n",
      " 6.45627576e-01 9.88130418e-01 6.90876560e-01 4.53123473e-01\n",
      " 2.08252120e-01 9.83645395e-01 7.89857086e-01 3.03051832e-01\n",
      " 8.28465315e-01 4.87881676e-01 7.71934560e-01 2.14825923e-01\n",
      " 2.17260251e-01 6.84562139e-01 3.36373997e-01 6.15589142e-01\n",
      " 7.91566626e-01 6.13989249e-01 7.26388693e-01 2.85976669e-01\n",
      " 2.26237025e-01 2.03416350e-01 4.82781094e-01 9.59253447e-01\n",
      " 9.54437182e-01 2.41589513e-01 6.77724285e-01 1.43738592e-01\n",
      " 8.25675312e-01 6.12195783e-01 5.29064665e-01 4.21270509e-01\n",
      " 9.63660295e-01 3.18935344e-01 2.99700857e-01 1.33199818e-01\n",
      " 1.40084053e-01 9.64754824e-01 9.75388508e-01 6.62620365e-01\n",
      " 6.27520192e-01 1.78829601e-01 8.48725351e-01 8.03055859e-02\n",
      " 6.44913515e-01 9.54255515e-01 4.75127949e-01 3.28017368e-01\n",
      " 4.72375926e-01 7.86774237e-01 2.52633437e-01 1.15870934e-01\n",
      " 9.34257924e-01 6.48345504e-01 5.62489988e-01 1.84667470e-02\n",
      " 9.92810338e-01 3.66551454e-01 5.96062003e-01 8.19558122e-01\n",
      " 7.75201930e-01 6.25989222e-01 5.86409351e-01 1.31718783e-02\n",
      " 1.99144346e-01 2.66857376e-01 1.54725400e-01 6.62006705e-01\n",
      " 5.85936912e-01 4.61434380e-01 4.10537129e-01 7.01440417e-01\n",
      " 9.65425473e-01 2.04402847e-02 6.25247959e-01 4.53978479e-01\n",
      " 6.68815569e-01 9.50136001e-01 1.21305641e-01 2.21824830e-01\n",
      " 2.96189370e-01 1.89600207e-01 5.93650813e-01 7.02135891e-01\n",
      " 9.02576444e-01 8.38241443e-01 6.18603448e-01 7.79195936e-01\n",
      " 8.51802499e-01 7.34326260e-01 4.40124516e-01 4.98562180e-01\n",
      " 6.31335092e-01 8.37335171e-01 1.32542339e-01 3.89698514e-01\n",
      " 3.88792441e-01 2.10976997e-01 1.55017657e-01 5.45471415e-01\n",
      " 2.51391476e-01 1.42461086e-01 4.38230928e-01 7.02864590e-01\n",
      " 1.34858458e-01 6.38655198e-02 7.51555020e-01 2.01072449e-01\n",
      " 1.88127023e-01 3.25857642e-01 3.31018379e-01 6.71672894e-01\n",
      " 2.46653295e-01 6.34129498e-01 9.06657680e-01 3.78275597e-02\n",
      " 2.03864563e-01 5.90984698e-01 3.53679831e-01 7.13669068e-01\n",
      " 8.25145451e-02 5.33356408e-01 7.11664676e-01 5.59872530e-01\n",
      " 5.64500941e-01 8.64247280e-01 9.19369639e-01 1.72548382e-01\n",
      " 7.51739283e-01 1.56266337e-01 3.01545286e-01 4.79173312e-01\n",
      " 1.79017153e-01 4.36299476e-01 9.64780997e-01 7.38688904e-01\n",
      " 5.99799655e-01 9.34768615e-01 3.52052362e-01 2.07952199e-01\n",
      " 1.19359370e-01 3.13125809e-01 4.45141497e-01 6.37039273e-01\n",
      " 9.53160532e-01 3.55228906e-01 7.44707318e-01 4.52518363e-01\n",
      " 3.75688194e-01 6.67553288e-01 4.05376591e-01 6.15046456e-01\n",
      " 5.29274377e-02 6.26821577e-01 5.92441291e-01 7.87888743e-02\n",
      " 6.15909663e-01 2.83609439e-01 8.81275963e-01 8.03375391e-01\n",
      " 5.74573450e-01 1.48803410e-02 3.26874383e-01 6.33688750e-01\n",
      " 1.25689706e-01 5.39504682e-01 8.05020813e-01 1.89634917e-01\n",
      " 6.84007917e-01 7.04502906e-01 3.70465272e-01 1.45429740e-01\n",
      " 3.29284317e-01 1.28601092e-01 7.67737344e-01 5.26615718e-01\n",
      " 9.01561141e-01 3.76838595e-01 6.45541269e-01 9.23356645e-01\n",
      " 7.57729898e-01 4.37505311e-02 9.92044674e-01 1.09301461e-01\n",
      " 3.55155378e-01 7.47651914e-01 1.79515260e-01 5.55472870e-01\n",
      " 1.90191298e-01 1.22375668e-01 4.86696206e-01 6.37327995e-01\n",
      " 6.42482893e-02 2.92053457e-02 4.30638558e-01 8.87702370e-01\n",
      " 7.15907282e-01 6.67176791e-01 7.49094364e-01 9.63814759e-01\n",
      " 2.51013799e-01 6.46698636e-03 6.56655274e-01 9.22852606e-01\n",
      " 2.88430857e-01 9.83146940e-01 8.92075457e-01 2.06954569e-01\n",
      " 9.18796822e-01 8.25704174e-01 4.42933041e-01 3.27908643e-01\n",
      " 4.85217223e-01 3.58444081e-01 3.33306472e-01 9.45682520e-02\n",
      " 2.60652374e-01 6.67549582e-01 9.04942630e-01 4.51813555e-01\n",
      " 9.21578507e-01 5.86862154e-01 8.93844988e-01 1.09537835e-01\n",
      " 9.49629982e-01 1.71200111e-01 5.31520963e-01 6.46598857e-01\n",
      " 5.26166689e-01 5.20445068e-01 5.01586651e-01 6.68654724e-01\n",
      " 5.37920183e-01 9.14258654e-01 8.78538102e-01 9.34318865e-02\n",
      " 2.25714931e-01 7.17253214e-02 2.25441110e-01 2.60586874e-01\n",
      " 2.23146029e-01 4.67188310e-01 6.80526562e-01 8.49891777e-01\n",
      " 9.86773698e-01 4.71275917e-01 1.07860960e-01 3.75695812e-01\n",
      " 1.69603548e-01 3.39471437e-01 5.60618700e-01 4.62748502e-01\n",
      " 2.10567998e-01 7.86728122e-01 2.54923184e-01 3.07169669e-01\n",
      " 4.34529948e-01 3.31143650e-01 1.94203382e-01 4.35204906e-01\n",
      " 1.33866047e-01 2.29838223e-01 9.00858492e-01 5.56747637e-01\n",
      " 2.76657667e-01 4.01172312e-01 3.23057522e-01 6.93698851e-01\n",
      " 8.58515871e-01 9.99171801e-01 2.79767177e-01 4.62117381e-01\n",
      " 6.48869444e-01 4.32509225e-01 9.40572728e-01 8.10775674e-01\n",
      " 2.54798549e-01 8.69795175e-02 9.43085961e-01 9.82072304e-01\n",
      " 3.68119690e-01 7.63920560e-02 9.57993436e-01 5.66963820e-01\n",
      " 7.34843309e-01 6.03155630e-01 1.59048352e-01 6.06868399e-01\n",
      " 8.45720276e-01 7.33708330e-01 4.91514901e-03 3.06167853e-01\n",
      " 3.18877679e-01 6.02253666e-01 1.97399516e-01 3.21052409e-01\n",
      " 8.94526782e-02 6.04416768e-01 6.47760514e-03 1.08911092e-01\n",
      " 8.01690202e-01 7.28527176e-01 7.66521282e-01 2.93259756e-01\n",
      " 2.58132597e-01 9.55727673e-01 1.21553799e-01 3.49235375e-01\n",
      " 9.68021960e-01 7.82122120e-01 9.37807192e-01 1.44131965e-01\n",
      " 9.90171418e-01 9.75168860e-01 2.96843692e-01 2.49808326e-01\n",
      " 8.69088053e-01 1.64997547e-01 3.53741023e-01 3.89279351e-01\n",
      " 4.75029510e-02 9.43469086e-01 3.40862467e-01 7.30311019e-01\n",
      " 7.38428831e-01 3.83086502e-02 3.86487237e-01 7.99858333e-01]\n"
     ]
    },
    {
     "ename": "AttributeError",
     "evalue": "'numpy.ndarray' object has no attribute 'head'",
     "output_type": "error",
     "traceback": [
      "\u001b[0;31m---------------------------------------------------------------------------\u001b[0m",
      "\u001b[0;31mAttributeError\u001b[0m                            Traceback (most recent call last)",
      "\u001b[0;32m<ipython-input-30-d1acda591d57>\u001b[0m in \u001b[0;36m<module>\u001b[0;34m\u001b[0m\n\u001b[1;32m      1\u001b[0m \u001b[0mt\u001b[0m \u001b[0;34m=\u001b[0m \u001b[0mnp\u001b[0m\u001b[0;34m.\u001b[0m\u001b[0mrandom\u001b[0m\u001b[0;34m.\u001b[0m\u001b[0mrandom\u001b[0m\u001b[0;34m(\u001b[0m\u001b[0;36m1000\u001b[0m\u001b[0;34m)\u001b[0m\u001b[0;34m\u001b[0m\u001b[0;34m\u001b[0m\u001b[0m\n\u001b[1;32m      2\u001b[0m \u001b[0mprint\u001b[0m\u001b[0;34m(\u001b[0m\u001b[0mt\u001b[0m\u001b[0;34m)\u001b[0m\u001b[0;34m\u001b[0m\u001b[0;34m\u001b[0m\u001b[0m\n\u001b[0;32m----> 3\u001b[0;31m \u001b[0mt\u001b[0m\u001b[0;34m.\u001b[0m\u001b[0mhead\u001b[0m\u001b[0;34m(\u001b[0m\u001b[0;34m)\u001b[0m\u001b[0;34m\u001b[0m\u001b[0;34m\u001b[0m\u001b[0m\n\u001b[0m",
      "\u001b[0;31mAttributeError\u001b[0m: 'numpy.ndarray' object has no attribute 'head'"
     ]
    }
   ],
   "source": [
    "t = np.random.random(1000)\n",
    "print(t)\n",
    "t.head()"
   ]
  },
  {
   "cell_type": "code",
   "execution_count": 28,
   "metadata": {},
   "outputs": [
    {
     "data": {
      "image/png": "[encoded data removed]",
      "text/plain": [
       "<Figure size 432x288 with 1 Axes>"
      ]
     },
     "metadata": {
      "needs_background": "light"
     },
     "output_type": "display_data"
    }
   ],
   "source": [
    "pmf = thinkstats2.Pmf(t)\n",
    "thinkplot.Pmf(pmf, linewidth=0.2)\n",
    "thinkplot.Config(xlabel = 'Random variables', ylabel = 'PMF')"
   ]
  },
  {
   "cell_type": "code",
   "execution_count": 27,
   "metadata": {},
   "outputs": [
    {
     "data": {
      "image/png": "[encoded data removed]",
      "text/plain": [
       "<Figure size 432x288 with 1 Axes>"
      ]
     },
     "metadata": {
      "needs_background": "light"
     },
     "output_type": "display_data"
    }
   ],
   "source": [
    "cdf = thinkstats2.Cdf(t)\n",
    "thinkplot.Cdf(cdf)\n",
    "thinkplot.Config(xlabel = 'Random variables', ylabel = 'CDF')"
   ]
  },
  {
   "cell_type": "code",
   "execution_count": null,
   "metadata": {},
   "outputs": [],
   "source": []
  }
 ],
 "metadata": {
  "kernelspec": {
   "display_name": "Python 3",
   "language": "python",
   "name": "python3"
  },
  "language_info": {
   "codemirror_mode": {
    "name": "ipython",
    "version": 3
   },
   "file_extension": ".py",
   "mimetype": "text/x-python",
   "name": "python",
   "nbconvert_exporter": "python",
   "pygments_lexer": "ipython3",
   "version": "3.7.4"
  }
 },
 "nbformat": 4,
 "nbformat_minor": 1
}
