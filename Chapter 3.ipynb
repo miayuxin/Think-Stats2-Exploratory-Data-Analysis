{
 "cells": [
  {
   "cell_type": "markdown",
   "metadata": {},
   "source": [
    "# Mia's solution for exercise 3.6"
   ]
  },
  {
   "cell_type": "markdown",
   "metadata": {},
   "source": [
    "## Exercise 3.1"
   ]
  },
  {
   "cell_type": "code",
   "execution_count": 31,
   "metadata": {},
   "outputs": [],
   "source": [
    "from __future__ import print_function, division\n",
    "\n",
    "%matplotlib inline\n",
    "\n",
    "import numpy as np\n",
    "\n",
    "import nsfg\n",
    "import first\n",
    "import thinkstats2\n",
    "import thinkplot"
   ]
  },
  {
   "cell_type": "markdown",
   "metadata": {},
   "source": [
    "Again, I'll load the NSFG pregnancy file and select live births:"
   ]
  },
  {
   "cell_type": "code",
   "execution_count": 32,
   "metadata": {},
   "outputs": [],
   "source": [
    "preg = nsfg.ReadFemPreg()\n",
    "live = preg[preg.outcome == 1]"
   ]
  },
  {
   "cell_type": "markdown",
   "metadata": {},
   "source": [
    "Here's the histogram of birth weights:"
   ]
  },
  {
   "cell_type": "code",
   "execution_count": 33,
   "metadata": {},
   "outputs": [
    {
     "data": {
      "image/png": "[encoded data removed]",
      "text/plain": [
       "<Figure size 432x288 with 1 Axes>"
      ]
     },
     "metadata": {
      "needs_background": "light"
     },
     "output_type": "display_data"
    }
   ],
   "source": [
    "hist = thinkstats2.Hist(live.birthwgt_lb, label='birthwgt_lb')\n",
    "thinkplot.Hist(hist)\n",
    "thinkplot.Config(xlabel='Birth weight (pounds)', ylabel='Count')"
   ]
  },
  {
   "cell_type": "markdown",
   "metadata": {},
   "source": [
    "To normalize the disrtibution, we could divide through by the total count:"
   ]
  },
  {
   "cell_type": "code",
   "execution_count": 34,
   "metadata": {},
   "outputs": [],
   "source": [
    "n = hist.Total()\n",
    "pmf = hist.Copy()\n",
    "for x, freq in hist.Items():\n",
    "    pmf[x] = freq / n"
   ]
  },
  {
   "cell_type": "markdown",
   "metadata": {},
   "source": [
    "The result is a Probability Mass Function (PMF)."
   ]
  },
  {
   "cell_type": "code",
   "execution_count": 35,
   "metadata": {},
   "outputs": [
    {
     "data": {
      "image/png": "[encoded data removed]",
      "text/plain": [
       "<Figure size 432x288 with 1 Axes>"
      ]
     },
     "metadata": {
      "needs_background": "light"
     },
     "output_type": "display_data"
    }
   ],
   "source": [
    "thinkplot.Hist(pmf)\n",
    "thinkplot.Config(xlabel='Birth weight (pounds)', ylabel='PMF')"
   ]
  },
  {
   "cell_type": "markdown",
   "metadata": {},
   "source": [
    "More directly, we can create a Pmf object."
   ]
  },
  {
   "cell_type": "code",
   "execution_count": 36,
   "metadata": {},
   "outputs": [
    {
     "data": {
      "text/plain": [
       "Pmf({1: 0.2, 2: 0.4, 3: 0.2, 5: 0.2})"
      ]
     },
     "execution_count": 36,
     "metadata": {},
     "output_type": "execute_result"
    }
   ],
   "source": [
    "pmf = thinkstats2.Pmf([1, 2, 2, 3, 5])\n",
    "pmf"
   ]
  },
  {
   "cell_type": "markdown",
   "metadata": {},
   "source": [
    "`Pmf` provides `Prob`, which looks up a value and returns its probability:"
   ]
  },
  {
   "cell_type": "code",
   "execution_count": 37,
   "metadata": {},
   "outputs": [
    {
     "data": {
      "text/plain": [
       "0.4"
      ]
     },
     "execution_count": 37,
     "metadata": {},
     "output_type": "execute_result"
    }
   ],
   "source": [
    "pmf.Prob(2)"
   ]
  },
  {
   "cell_type": "markdown",
   "metadata": {},
   "source": [
    "The bracket operator does the same thing."
   ]
  },
  {
   "cell_type": "code",
   "execution_count": 38,
   "metadata": {},
   "outputs": [
    {
     "data": {
      "text/plain": [
       "0.4"
      ]
     },
     "execution_count": 38,
     "metadata": {},
     "output_type": "execute_result"
    }
   ],
   "source": [
    "pmf[2]"
   ]
  },
  {
   "cell_type": "markdown",
   "metadata": {},
   "source": [
    "The `Incr` method adds to the probability associated with a given values."
   ]
  },
  {
   "cell_type": "code",
   "execution_count": 39,
   "metadata": {},
   "outputs": [
    {
     "data": {
      "text/plain": [
       "0.6000000000000001"
      ]
     },
     "execution_count": 39,
     "metadata": {},
     "output_type": "execute_result"
    }
   ],
   "source": [
    "pmf.Incr(2, 0.2)\n",
    "pmf[2]"
   ]
  },
  {
   "cell_type": "markdown",
   "metadata": {},
   "source": [
    "The `Mult` method multiplies the probability associated with a value."
   ]
  },
  {
   "cell_type": "code",
   "execution_count": 40,
   "metadata": {},
   "outputs": [
    {
     "data": {
      "text/plain": [
       "0.30000000000000004"
      ]
     },
     "execution_count": 40,
     "metadata": {},
     "output_type": "execute_result"
    }
   ],
   "source": [
    "pmf.Mult(2, 0.5)\n",
    "pmf[2]"
   ]
  },
  {
   "cell_type": "markdown",
   "metadata": {},
   "source": [
    "`Total` returns the total probability (which is no longer 1, because we changed one of the probabilities)."
   ]
  },
  {
   "cell_type": "code",
   "execution_count": 42,
   "metadata": {},
   "outputs": [
    {
     "data": {
      "text/plain": [
       "0.8999999999999999"
      ]
     },
     "execution_count": 42,
     "metadata": {},
     "output_type": "execute_result"
    }
   ],
   "source": [
    "pmf.Total()"
   ]
  },
  {
   "cell_type": "markdown",
   "metadata": {},
   "source": [
    "`Normalize` divides through by the total probability, making it 1 again."
   ]
  },
  {
   "cell_type": "code",
   "execution_count": 43,
   "metadata": {},
   "outputs": [
    {
     "data": {
      "text/plain": [
       "1.0"
      ]
     },
     "execution_count": 43,
     "metadata": {},
     "output_type": "execute_result"
    }
   ],
   "source": [
    "pmf.Normalize()\n",
    "pmf.Total()"
   ]
  },
  {
   "cell_type": "markdown",
   "metadata": {},
   "source": [
    "Here's the PMF of pregnancy length for live births."
   ]
  },
  {
   "cell_type": "code",
   "execution_count": 44,
   "metadata": {},
   "outputs": [],
   "source": [
    "pmf = thinkstats2.Pmf(live.prglngth, label='prglngth')"
   ]
  },
  {
   "cell_type": "markdown",
   "metadata": {},
   "source": [
    "Here's what it looks like plotted with `Hist`, which makes a bar graph."
   ]
  },
  {
   "cell_type": "code",
   "execution_count": 45,
   "metadata": {},
   "outputs": [
    {
     "data": {
      "image/png": "[encoded data removed]",
      "text/plain": [
       "<Figure size 432x288 with 1 Axes>"
      ]
     },
     "metadata": {
      "needs_background": "light"
     },
     "output_type": "display_data"
    }
   ],
   "source": [
    "thinkplot.Hist(pmf)\n",
    "thinkplot.Config(xlabel='Pregnancy length (weeks)', ylabel='Pmf')"
   ]
  },
  {
   "cell_type": "markdown",
   "metadata": {},
   "source": [
    "Here's what it looks like plotted with `Pmf`, which makes a step function."
   ]
  },
  {
   "cell_type": "code",
   "execution_count": 46,
   "metadata": {},
   "outputs": [
    {
     "data": {
      "image/png": "[encoded data removed]",
      "text/plain": [
       "<Figure size 432x288 with 1 Axes>"
      ]
     },
     "metadata": {
      "needs_background": "light"
     },
     "output_type": "display_data"
    }
   ],
   "source": [
    "thinkplot.Pmf(pmf)\n",
    "thinkplot.Config(xlabel='Pregnancy length (weeks)', ylabel='Pmf')"
   ]
  },
  {
   "cell_type": "markdown",
   "metadata": {},
   "source": [
    "We can use `MakeFrames` to return DataFrames for all live births, first babies, and others."
   ]
  },
  {
   "cell_type": "code",
   "execution_count": 48,
   "metadata": {},
   "outputs": [],
   "source": [
    "live, firsts, others = first.MakeFrames()"
   ]
  },
  {
   "cell_type": "markdown",
   "metadata": {},
   "source": [
    "Here are the distributions of pregnancy length."
   ]
  },
  {
   "cell_type": "code",
   "execution_count": 49,
   "metadata": {},
   "outputs": [],
   "source": [
    "first_pmf = thinkstats2.Pmf(firsts.prglngth, label='firsts')\n",
    "other_pmf = thinkstats2.Pmf(others.prglngth, label='others')"
   ]
  },
  {
   "cell_type": "markdown",
   "metadata": {},
   "source": [
    "And here's the code that replicates one of the figures in the chapter."
   ]
  },
  {
   "cell_type": "code",
   "execution_count": 50,
   "metadata": {},
   "outputs": [
    {
     "data": {
      "image/png": "[encoded data removed]",
      "text/plain": [
       "<Figure size 864x432 with 2 Axes>"
      ]
     },
     "metadata": {
      "needs_background": "light"
     },
     "output_type": "display_data"
    }
   ],
   "source": [
    "width=0.45\n",
    "axis = [27, 46, 0, 0.6]\n",
    "thinkplot.PrePlot(2, cols=2)\n",
    "thinkplot.Hist(first_pmf, align='right', width=width)\n",
    "thinkplot.Hist(other_pmf, align='left', width=width)\n",
    "thinkplot.Config(xlabel='Pregnancy length(weeks)', ylabel='PMF', axis=axis)\n",
    "\n",
    "thinkplot.PrePlot(2)\n",
    "thinkplot.SubPlot(2)\n",
    "thinkplot.Pmfs([first_pmf, other_pmf])\n",
    "thinkplot.Config(xlabel='Pregnancy length(weeks)', axis=axis)"
   ]
  },
  {
   "cell_type": "markdown",
   "metadata": {},
   "source": [
    "Here's the code that generates a plot of the difference in probability (in percentage points) between first babies and others, for each week of pregnancy (showing only pregnancies considered \"full term\"). "
   ]
  },
  {
   "cell_type": "code",
   "execution_count": 51,
   "metadata": {},
   "outputs": [
    {
     "data": {
      "image/png": "[encoded data removed]",
      "text/plain": [
       "<Figure size 432x288 with 1 Axes>"
      ]
     },
     "metadata": {
      "needs_background": "light"
     },
     "output_type": "display_data"
    }
   ],
   "source": [
    "weeks = range(35, 46)\n",
    "diffs = []\n",
    "for week in weeks:\n",
    "    p1 = first_pmf.Prob(week)\n",
    "    p2 = other_pmf.Prob(week)\n",
    "    diff = 100 * (p1 - p2)\n",
    "    diffs.append(diff)\n",
    "\n",
    "thinkplot.Bar(weeks, diffs)\n",
    "thinkplot.Config(xlabel='Pregnancy length(weeks)', ylabel='Difference (percentage points)')\n"
   ]
  },
  {
   "cell_type": "markdown",
   "metadata": {},
   "source": [
    "### Biasing and unbiasing PMFs\n",
    "\n",
    "Here's the example in the book showing operations we can perform with `Pmf` objects.\n",
    "\n",
    "Suppose we have the following distribution of class sizes."
   ]
  },
  {
   "cell_type": "code",
   "execution_count": 52,
   "metadata": {},
   "outputs": [],
   "source": [
    "d = { 7: 8, 12: 8, 17: 14, 22: 4, \n",
    "     27: 6, 32: 12, 37: 8, 42: 3, 47: 2 }\n",
    "\n",
    "pmf = thinkstats2.Pmf(d, label='actual')"
   ]
  },
  {
   "cell_type": "markdown",
   "metadata": {},
   "source": [
    "This function computes the biased PMF we would get if we surveyed students and asked about the size of the classes they are in."
   ]
  },
  {
   "cell_type": "code",
   "execution_count": 53,
   "metadata": {},
   "outputs": [],
   "source": [
    "def BiasPmf(pmf, label):\n",
    "    new_pmf = pmf.Copy(label=label)\n",
    "\n",
    "    for x, p in pmf.Items():\n",
    "        new_pmf.Mult(x, x)\n",
    "        \n",
    "    new_pmf.Normalize()\n",
    "    return new_pmf"
   ]
  },
  {
   "cell_type": "markdown",
   "metadata": {},
   "source": [
    "The following graph shows the difference between the actual and observed distributions."
   ]
  },
  {
   "cell_type": "code",
   "execution_count": 54,
   "metadata": {},
   "outputs": [
    {
     "data": {
      "image/png": "[encoded data removed]",
      "text/plain": [
       "<Figure size 432x288 with 1 Axes>"
      ]
     },
     "metadata": {
      "needs_background": "light"
     },
     "output_type": "display_data"
    }
   ],
   "source": [
    "biased_pmf = BiasPmf(pmf, label='observed')\n",
    "thinkplot.PrePlot(2)\n",
    "thinkplot.Pmfs([pmf, biased_pmf])\n",
    "thinkplot.Config(xlabel='Class size', ylabel='PMF')"
   ]
  },
  {
   "cell_type": "markdown",
   "metadata": {},
   "source": [
    "The observed mean is substantially higher than the actual."
   ]
  },
  {
   "cell_type": "code",
   "execution_count": 55,
   "metadata": {},
   "outputs": [
    {
     "name": "stdout",
     "output_type": "stream",
     "text": [
      "Actual mean 23.692307692307693\n",
      "Observed mean 29.123376623376625\n"
     ]
    }
   ],
   "source": [
    "print('Actual mean', pmf.Mean())\n",
    "print('Observed mean', biased_pmf.Mean())"
   ]
  },
  {
   "cell_type": "markdown",
   "metadata": {},
   "source": [
    "If we were only able to collect the biased sample, we could \"unbias\" it by applying the inverse operation."
   ]
  },
  {
   "cell_type": "code",
   "execution_count": 56,
   "metadata": {},
   "outputs": [],
   "source": [
    "def UnbiasPmf(pmf, label=None):\n",
    "    new_pmf = pmf.Copy(label=label)\n",
    "\n",
    "    for x, p in pmf.Items():\n",
    "        new_pmf[x] *= 1/x\n",
    "        \n",
    "    new_pmf.Normalize()\n",
    "    return new_pmf"
   ]
  },
  {
   "cell_type": "markdown",
   "metadata": {},
   "source": [
    "We can unbias the biased PMF:"
   ]
  },
  {
   "cell_type": "code",
   "execution_count": 57,
   "metadata": {},
   "outputs": [
    {
     "name": "stdout",
     "output_type": "stream",
     "text": [
      "Unbiased mean 23.69230769230769\n"
     ]
    }
   ],
   "source": [
    "unbiased = UnbiasPmf(biased_pmf, label='unbiased')\n",
    "print('Unbiased mean', unbiased.Mean())"
   ]
  },
  {
   "cell_type": "markdown",
   "metadata": {},
   "source": [
    "And plot the two distributions to confirm they are the same."
   ]
  },
  {
   "cell_type": "code",
   "execution_count": 58,
   "metadata": {},
   "outputs": [
    {
     "data": {
      "image/png": "[encoded data removed]",
      "text/plain": [
       "<Figure size 432x288 with 1 Axes>"
      ]
     },
     "metadata": {
      "needs_background": "light"
     },
     "output_type": "display_data"
    }
   ],
   "source": [
    "thinkplot.PrePlot(2)\n",
    "thinkplot.Pmfs([pmf, unbiased])\n",
    "thinkplot.Config(xlabel='Class size', ylabel='PMF')"
   ]
  },
  {
   "cell_type": "markdown",
   "metadata": {},
   "source": [
    "### Pandas indexing\n",
    "\n",
    "Here's an example of a small DataFrame."
   ]
  },
  {
   "cell_type": "code",
   "execution_count": 59,
   "metadata": {},
   "outputs": [
    {
     "data": {
      "text/html": [
       "<div>\n",
       "<style scoped>\n",
       "    .dataframe tbody tr th:only-of-type {\n",
       "        vertical-align: middle;\n",
       "    }\n",
       "\n",
       "    .dataframe tbody tr th {\n",
       "        vertical-align: top;\n",
       "    }\n",
       "\n",
       "    .dataframe thead th {\n",
       "        text-align: right;\n",
       "    }\n",
       "</style>\n",
       "<table border=\"1\" class=\"dataframe\">\n",
       "  <thead>\n",
       "    <tr style=\"text-align: right;\">\n",
       "      <th></th>\n",
       "      <th>0</th>\n",
       "      <th>1</th>\n",
       "    </tr>\n",
       "  </thead>\n",
       "  <tbody>\n",
       "    <tr>\n",
       "      <td>0</td>\n",
       "      <td>-0.053241</td>\n",
       "      <td>0.087836</td>\n",
       "    </tr>\n",
       "    <tr>\n",
       "      <td>1</td>\n",
       "      <td>0.610088</td>\n",
       "      <td>-0.774598</td>\n",
       "    </tr>\n",
       "    <tr>\n",
       "      <td>2</td>\n",
       "      <td>-1.746476</td>\n",
       "      <td>0.251878</td>\n",
       "    </tr>\n",
       "    <tr>\n",
       "      <td>3</td>\n",
       "      <td>0.913807</td>\n",
       "      <td>2.666080</td>\n",
       "    </tr>\n",
       "  </tbody>\n",
       "</table>\n",
       "</div>"
      ],
      "text/plain": [
       "          0         1\n",
       "0 -0.053241  0.087836\n",
       "1  0.610088 -0.774598\n",
       "2 -1.746476  0.251878\n",
       "3  0.913807  2.666080"
      ]
     },
     "execution_count": 59,
     "metadata": {},
     "output_type": "execute_result"
    }
   ],
   "source": [
    "import numpy as np\n",
    "import pandas\n",
    "array = np.random.randn(4, 2)\n",
    "df = pandas.DataFrame(array)\n",
    "df"
   ]
  },
  {
   "cell_type": "markdown",
   "metadata": {},
   "source": [
    "We can specify column names when we create the DataFrame:"
   ]
  },
  {
   "cell_type": "code",
   "execution_count": 60,
   "metadata": {},
   "outputs": [
    {
     "data": {
      "text/html": [
       "<div>\n",
       "<style scoped>\n",
       "    .dataframe tbody tr th:only-of-type {\n",
       "        vertical-align: middle;\n",
       "    }\n",
       "\n",
       "    .dataframe tbody tr th {\n",
       "        vertical-align: top;\n",
       "    }\n",
       "\n",
       "    .dataframe thead th {\n",
       "        text-align: right;\n",
       "    }\n",
       "</style>\n",
       "<table border=\"1\" class=\"dataframe\">\n",
       "  <thead>\n",
       "    <tr style=\"text-align: right;\">\n",
       "      <th></th>\n",
       "      <th>A</th>\n",
       "      <th>B</th>\n",
       "    </tr>\n",
       "  </thead>\n",
       "  <tbody>\n",
       "    <tr>\n",
       "      <td>0</td>\n",
       "      <td>-0.053241</td>\n",
       "      <td>0.087836</td>\n",
       "    </tr>\n",
       "    <tr>\n",
       "      <td>1</td>\n",
       "      <td>0.610088</td>\n",
       "      <td>-0.774598</td>\n",
       "    </tr>\n",
       "    <tr>\n",
       "      <td>2</td>\n",
       "      <td>-1.746476</td>\n",
       "      <td>0.251878</td>\n",
       "    </tr>\n",
       "    <tr>\n",
       "      <td>3</td>\n",
       "      <td>0.913807</td>\n",
       "      <td>2.666080</td>\n",
       "    </tr>\n",
       "  </tbody>\n",
       "</table>\n",
       "</div>"
      ],
      "text/plain": [
       "          A         B\n",
       "0 -0.053241  0.087836\n",
       "1  0.610088 -0.774598\n",
       "2 -1.746476  0.251878\n",
       "3  0.913807  2.666080"
      ]
     },
     "execution_count": 60,
     "metadata": {},
     "output_type": "execute_result"
    }
   ],
   "source": [
    "columns = ['A', 'B']\n",
    "df = pandas.DataFrame(array, columns=columns)\n",
    "df"
   ]
  },
  {
   "cell_type": "markdown",
   "metadata": {},
   "source": [
    "We can also specify an index that contains labels for the rows."
   ]
  },
  {
   "cell_type": "code",
   "execution_count": 61,
   "metadata": {},
   "outputs": [
    {
     "data": {
      "text/html": [
       "<div>\n",
       "<style scoped>\n",
       "    .dataframe tbody tr th:only-of-type {\n",
       "        vertical-align: middle;\n",
       "    }\n",
       "\n",
       "    .dataframe tbody tr th {\n",
       "        vertical-align: top;\n",
       "    }\n",
       "\n",
       "    .dataframe thead th {\n",
       "        text-align: right;\n",
       "    }\n",
       "</style>\n",
       "<table border=\"1\" class=\"dataframe\">\n",
       "  <thead>\n",
       "    <tr style=\"text-align: right;\">\n",
       "      <th></th>\n",
       "      <th>A</th>\n",
       "      <th>B</th>\n",
       "    </tr>\n",
       "  </thead>\n",
       "  <tbody>\n",
       "    <tr>\n",
       "      <td>a</td>\n",
       "      <td>-0.053241</td>\n",
       "      <td>0.087836</td>\n",
       "    </tr>\n",
       "    <tr>\n",
       "      <td>b</td>\n",
       "      <td>0.610088</td>\n",
       "      <td>-0.774598</td>\n",
       "    </tr>\n",
       "    <tr>\n",
       "      <td>c</td>\n",
       "      <td>-1.746476</td>\n",
       "      <td>0.251878</td>\n",
       "    </tr>\n",
       "    <tr>\n",
       "      <td>d</td>\n",
       "      <td>0.913807</td>\n",
       "      <td>2.666080</td>\n",
       "    </tr>\n",
       "  </tbody>\n",
       "</table>\n",
       "</div>"
      ],
      "text/plain": [
       "          A         B\n",
       "a -0.053241  0.087836\n",
       "b  0.610088 -0.774598\n",
       "c -1.746476  0.251878\n",
       "d  0.913807  2.666080"
      ]
     },
     "execution_count": 61,
     "metadata": {},
     "output_type": "execute_result"
    }
   ],
   "source": [
    "index = ['a', 'b', 'c', 'd']\n",
    "df = pandas.DataFrame(array, columns=columns, index=index)\n",
    "df"
   ]
  },
  {
   "cell_type": "markdown",
   "metadata": {},
   "source": [
    "Normal indexing selects columns."
   ]
  },
  {
   "cell_type": "code",
   "execution_count": 62,
   "metadata": {},
   "outputs": [
    {
     "data": {
      "text/plain": [
       "a   -0.053241\n",
       "b    0.610088\n",
       "c   -1.746476\n",
       "d    0.913807\n",
       "Name: A, dtype: float64"
      ]
     },
     "execution_count": 62,
     "metadata": {},
     "output_type": "execute_result"
    }
   ],
   "source": [
    "df['A']"
   ]
  },
  {
   "cell_type": "markdown",
   "metadata": {},
   "source": [
    "We can use the `loc` attribute to select rows."
   ]
  },
  {
   "cell_type": "code",
   "execution_count": 63,
   "metadata": {},
   "outputs": [
    {
     "data": {
      "text/plain": [
       "A   -0.053241\n",
       "B    0.087836\n",
       "Name: a, dtype: float64"
      ]
     },
     "execution_count": 63,
     "metadata": {},
     "output_type": "execute_result"
    }
   ],
   "source": [
    "df.loc['a']"
   ]
  },
  {
   "cell_type": "markdown",
   "metadata": {},
   "source": [
    "If you don't want to use the row labels and prefer to access the rows using integer indices, you can use the `iloc` attribute:"
   ]
  },
  {
   "cell_type": "code",
   "execution_count": 64,
   "metadata": {},
   "outputs": [
    {
     "data": {
      "text/plain": [
       "A   -0.053241\n",
       "B    0.087836\n",
       "Name: a, dtype: float64"
      ]
     },
     "execution_count": 64,
     "metadata": {},
     "output_type": "execute_result"
    }
   ],
   "source": [
    "df.iloc[0]"
   ]
  },
  {
   "cell_type": "markdown",
   "metadata": {},
   "source": [
    "`loc` can also take a list of labels."
   ]
  },
  {
   "cell_type": "code",
   "execution_count": 65,
   "metadata": {},
   "outputs": [
    {
     "data": {
      "text/html": [
       "<div>\n",
       "<style scoped>\n",
       "    .dataframe tbody tr th:only-of-type {\n",
       "        vertical-align: middle;\n",
       "    }\n",
       "\n",
       "    .dataframe tbody tr th {\n",
       "        vertical-align: top;\n",
       "    }\n",
       "\n",
       "    .dataframe thead th {\n",
       "        text-align: right;\n",
       "    }\n",
       "</style>\n",
       "<table border=\"1\" class=\"dataframe\">\n",
       "  <thead>\n",
       "    <tr style=\"text-align: right;\">\n",
       "      <th></th>\n",
       "      <th>A</th>\n",
       "      <th>B</th>\n",
       "    </tr>\n",
       "  </thead>\n",
       "  <tbody>\n",
       "    <tr>\n",
       "      <td>a</td>\n",
       "      <td>-0.053241</td>\n",
       "      <td>0.087836</td>\n",
       "    </tr>\n",
       "    <tr>\n",
       "      <td>c</td>\n",
       "      <td>-1.746476</td>\n",
       "      <td>0.251878</td>\n",
       "    </tr>\n",
       "  </tbody>\n",
       "</table>\n",
       "</div>"
      ],
      "text/plain": [
       "          A         B\n",
       "a -0.053241  0.087836\n",
       "c -1.746476  0.251878"
      ]
     },
     "execution_count": 65,
     "metadata": {},
     "output_type": "execute_result"
    }
   ],
   "source": [
    "indices = ['a', 'c']\n",
    "df.loc[indices]"
   ]
  },
  {
   "cell_type": "markdown",
   "metadata": {},
   "source": [
    "If you provide a slice of labels, `DataFrame` uses it to select rows."
   ]
  },
  {
   "cell_type": "code",
   "execution_count": 66,
   "metadata": {},
   "outputs": [
    {
     "data": {
      "text/html": [
       "<div>\n",
       "<style scoped>\n",
       "    .dataframe tbody tr th:only-of-type {\n",
       "        vertical-align: middle;\n",
       "    }\n",
       "\n",
       "    .dataframe tbody tr th {\n",
       "        vertical-align: top;\n",
       "    }\n",
       "\n",
       "    .dataframe thead th {\n",
       "        text-align: right;\n",
       "    }\n",
       "</style>\n",
       "<table border=\"1\" class=\"dataframe\">\n",
       "  <thead>\n",
       "    <tr style=\"text-align: right;\">\n",
       "      <th></th>\n",
       "      <th>A</th>\n",
       "      <th>B</th>\n",
       "    </tr>\n",
       "  </thead>\n",
       "  <tbody>\n",
       "    <tr>\n",
       "      <td>a</td>\n",
       "      <td>-0.053241</td>\n",
       "      <td>0.087836</td>\n",
       "    </tr>\n",
       "    <tr>\n",
       "      <td>b</td>\n",
       "      <td>0.610088</td>\n",
       "      <td>-0.774598</td>\n",
       "    </tr>\n",
       "    <tr>\n",
       "      <td>c</td>\n",
       "      <td>-1.746476</td>\n",
       "      <td>0.251878</td>\n",
       "    </tr>\n",
       "  </tbody>\n",
       "</table>\n",
       "</div>"
      ],
      "text/plain": [
       "          A         B\n",
       "a -0.053241  0.087836\n",
       "b  0.610088 -0.774598\n",
       "c -1.746476  0.251878"
      ]
     },
     "execution_count": 66,
     "metadata": {},
     "output_type": "execute_result"
    }
   ],
   "source": [
    "df['a':'c']"
   ]
  },
  {
   "cell_type": "markdown",
   "metadata": {},
   "source": [
    "If you provide a slice of integers, `DataFrame` selects rows by integer index."
   ]
  },
  {
   "cell_type": "code",
   "execution_count": 67,
   "metadata": {},
   "outputs": [
    {
     "data": {
      "text/html": [
       "<div>\n",
       "<style scoped>\n",
       "    .dataframe tbody tr th:only-of-type {\n",
       "        vertical-align: middle;\n",
       "    }\n",
       "\n",
       "    .dataframe tbody tr th {\n",
       "        vertical-align: top;\n",
       "    }\n",
       "\n",
       "    .dataframe thead th {\n",
       "        text-align: right;\n",
       "    }\n",
       "</style>\n",
       "<table border=\"1\" class=\"dataframe\">\n",
       "  <thead>\n",
       "    <tr style=\"text-align: right;\">\n",
       "      <th></th>\n",
       "      <th>A</th>\n",
       "      <th>B</th>\n",
       "    </tr>\n",
       "  </thead>\n",
       "  <tbody>\n",
       "    <tr>\n",
       "      <td>a</td>\n",
       "      <td>-0.053241</td>\n",
       "      <td>0.087836</td>\n",
       "    </tr>\n",
       "    <tr>\n",
       "      <td>b</td>\n",
       "      <td>0.610088</td>\n",
       "      <td>-0.774598</td>\n",
       "    </tr>\n",
       "  </tbody>\n",
       "</table>\n",
       "</div>"
      ],
      "text/plain": [
       "          A         B\n",
       "a -0.053241  0.087836\n",
       "b  0.610088 -0.774598"
      ]
     },
     "execution_count": 67,
     "metadata": {},
     "output_type": "execute_result"
    }
   ],
   "source": [
    "df[0:2]"
   ]
  },
  {
   "cell_type": "markdown",
   "metadata": {},
   "source": [
    "But notice that one method includes the last elements of the slice and one does not.\n",
    "\n",
    "In general, I recommend giving labels to the rows and names to the columns, and using them consistently."
   ]
  },
  {
   "cell_type": "markdown",
   "metadata": {
    "collapsed": true
   },
   "source": [
    "## 3.2 Exercises"
   ]
  },
  {
   "cell_type": "markdown",
   "metadata": {},
   "source": [
    "**Exercise:** Something like the class size paradox appears if you survey children and ask how many children are in their family. Families with many children are more likely to appear in your sample, and families with no children have no chance to be in the sample.\n",
    "\n",
    "Use the NSFG respondent variable `numkdhh` to construct the actual distribution for the number of children under 18 in the respondents' households.\n",
    "\n",
    "Now compute the biased distribution we would see if we surveyed the children and asked them how many children under 18 (including themselves) are in their household.\n",
    "\n",
    "Plot the actual and biased distributions, and compute their means."
   ]
  },
  {
   "cell_type": "code",
   "execution_count": 68,
   "metadata": {},
   "outputs": [
    {
     "data": {
      "text/html": [
       "<div>\n",
       "<style scoped>\n",
       "    .dataframe tbody tr th:only-of-type {\n",
       "        vertical-align: middle;\n",
       "    }\n",
       "\n",
       "    .dataframe tbody tr th {\n",
       "        vertical-align: top;\n",
       "    }\n",
       "\n",
       "    .dataframe thead th {\n",
       "        text-align: right;\n",
       "    }\n",
       "</style>\n",
       "<table border=\"1\" class=\"dataframe\">\n",
       "  <thead>\n",
       "    <tr style=\"text-align: right;\">\n",
       "      <th></th>\n",
       "      <th>caseid</th>\n",
       "      <th>rscrinf</th>\n",
       "      <th>rdormres</th>\n",
       "      <th>rostscrn</th>\n",
       "      <th>rscreenhisp</th>\n",
       "      <th>rscreenrace</th>\n",
       "      <th>age_a</th>\n",
       "      <th>age_r</th>\n",
       "      <th>cmbirth</th>\n",
       "      <th>agescrn</th>\n",
       "      <th>...</th>\n",
       "      <th>pubassis_i</th>\n",
       "      <th>basewgt</th>\n",
       "      <th>adj_mod_basewgt</th>\n",
       "      <th>finalwgt</th>\n",
       "      <th>secu_r</th>\n",
       "      <th>sest</th>\n",
       "      <th>cmintvw</th>\n",
       "      <th>cmlstyr</th>\n",
       "      <th>screentime</th>\n",
       "      <th>intvlngth</th>\n",
       "    </tr>\n",
       "  </thead>\n",
       "  <tbody>\n",
       "    <tr>\n",
       "      <td>0</td>\n",
       "      <td>2298</td>\n",
       "      <td>1</td>\n",
       "      <td>5</td>\n",
       "      <td>5</td>\n",
       "      <td>1</td>\n",
       "      <td>5.0</td>\n",
       "      <td>27</td>\n",
       "      <td>27</td>\n",
       "      <td>902</td>\n",
       "      <td>27</td>\n",
       "      <td>...</td>\n",
       "      <td>0</td>\n",
       "      <td>3247.916977</td>\n",
       "      <td>5123.759559</td>\n",
       "      <td>5556.717241</td>\n",
       "      <td>2</td>\n",
       "      <td>18</td>\n",
       "      <td>1234</td>\n",
       "      <td>1222</td>\n",
       "      <td>18:26:36</td>\n",
       "      <td>110.492667</td>\n",
       "    </tr>\n",
       "    <tr>\n",
       "      <td>1</td>\n",
       "      <td>5012</td>\n",
       "      <td>1</td>\n",
       "      <td>5</td>\n",
       "      <td>1</td>\n",
       "      <td>5</td>\n",
       "      <td>5.0</td>\n",
       "      <td>42</td>\n",
       "      <td>42</td>\n",
       "      <td>718</td>\n",
       "      <td>42</td>\n",
       "      <td>...</td>\n",
       "      <td>0</td>\n",
       "      <td>2335.279149</td>\n",
       "      <td>2846.799490</td>\n",
       "      <td>4744.191350</td>\n",
       "      <td>2</td>\n",
       "      <td>18</td>\n",
       "      <td>1233</td>\n",
       "      <td>1221</td>\n",
       "      <td>16:30:59</td>\n",
       "      <td>64.294000</td>\n",
       "    </tr>\n",
       "    <tr>\n",
       "      <td>2</td>\n",
       "      <td>11586</td>\n",
       "      <td>1</td>\n",
       "      <td>5</td>\n",
       "      <td>1</td>\n",
       "      <td>5</td>\n",
       "      <td>5.0</td>\n",
       "      <td>43</td>\n",
       "      <td>43</td>\n",
       "      <td>708</td>\n",
       "      <td>43</td>\n",
       "      <td>...</td>\n",
       "      <td>0</td>\n",
       "      <td>2335.279149</td>\n",
       "      <td>2846.799490</td>\n",
       "      <td>4744.191350</td>\n",
       "      <td>2</td>\n",
       "      <td>18</td>\n",
       "      <td>1234</td>\n",
       "      <td>1222</td>\n",
       "      <td>18:19:09</td>\n",
       "      <td>75.149167</td>\n",
       "    </tr>\n",
       "    <tr>\n",
       "      <td>3</td>\n",
       "      <td>6794</td>\n",
       "      <td>5</td>\n",
       "      <td>5</td>\n",
       "      <td>4</td>\n",
       "      <td>1</td>\n",
       "      <td>5.0</td>\n",
       "      <td>15</td>\n",
       "      <td>15</td>\n",
       "      <td>1042</td>\n",
       "      <td>15</td>\n",
       "      <td>...</td>\n",
       "      <td>0</td>\n",
       "      <td>3783.152221</td>\n",
       "      <td>5071.464231</td>\n",
       "      <td>5923.977368</td>\n",
       "      <td>2</td>\n",
       "      <td>18</td>\n",
       "      <td>1234</td>\n",
       "      <td>1222</td>\n",
       "      <td>15:54:43</td>\n",
       "      <td>28.642833</td>\n",
       "    </tr>\n",
       "    <tr>\n",
       "      <td>4</td>\n",
       "      <td>616</td>\n",
       "      <td>1</td>\n",
       "      <td>5</td>\n",
       "      <td>4</td>\n",
       "      <td>1</td>\n",
       "      <td>5.0</td>\n",
       "      <td>20</td>\n",
       "      <td>20</td>\n",
       "      <td>991</td>\n",
       "      <td>20</td>\n",
       "      <td>...</td>\n",
       "      <td>0</td>\n",
       "      <td>5341.329968</td>\n",
       "      <td>6437.335772</td>\n",
       "      <td>7229.128072</td>\n",
       "      <td>2</td>\n",
       "      <td>18</td>\n",
       "      <td>1233</td>\n",
       "      <td>1221</td>\n",
       "      <td>14:19:44</td>\n",
       "      <td>69.502667</td>\n",
       "    </tr>\n",
       "  </tbody>\n",
       "</table>\n",
       "<p>5 rows × 3087 columns</p>\n",
       "</div>"
      ],
      "text/plain": [
       "   caseid  rscrinf  rdormres  rostscrn  rscreenhisp  rscreenrace  age_a  \\\n",
       "0    2298        1         5         5            1          5.0     27   \n",
       "1    5012        1         5         1            5          5.0     42   \n",
       "2   11586        1         5         1            5          5.0     43   \n",
       "3    6794        5         5         4            1          5.0     15   \n",
       "4     616        1         5         4            1          5.0     20   \n",
       "\n",
       "   age_r  cmbirth  agescrn  ...  pubassis_i      basewgt  adj_mod_basewgt  \\\n",
       "0     27      902       27  ...           0  3247.916977      5123.759559   \n",
       "1     42      718       42  ...           0  2335.279149      2846.799490   \n",
       "2     43      708       43  ...           0  2335.279149      2846.799490   \n",
       "3     15     1042       15  ...           0  3783.152221      5071.464231   \n",
       "4     20      991       20  ...           0  5341.329968      6437.335772   \n",
       "\n",
       "      finalwgt  secu_r  sest  cmintvw  cmlstyr  screentime   intvlngth  \n",
       "0  5556.717241       2    18     1234     1222    18:26:36  110.492667  \n",
       "1  4744.191350       2    18     1233     1221    16:30:59   64.294000  \n",
       "2  4744.191350       2    18     1234     1222    18:19:09   75.149167  \n",
       "3  5923.977368       2    18     1234     1222    15:54:43   28.642833  \n",
       "4  7229.128072       2    18     1233     1221    14:19:44   69.502667  \n",
       "\n",
       "[5 rows x 3087 columns]"
      ]
     },
     "execution_count": 68,
     "metadata": {},
     "output_type": "execute_result"
    }
   ],
   "source": [
    "resp = nsfg.ReadFemResp()\n",
    "resp.head()"
   ]
  },
  {
   "cell_type": "code",
   "execution_count": 69,
   "metadata": {},
   "outputs": [],
   "source": [
    "pmf = thinkstats2.Pmf(resp.numkdhh, label='numkdhh (actual)')"
   ]
  },
  {
   "cell_type": "code",
   "execution_count": 70,
   "metadata": {},
   "outputs": [
    {
     "data": {
      "image/png": "[encoded data removed]",
      "text/plain": [
       "<Figure size 432x288 with 1 Axes>"
      ]
     },
     "metadata": {
      "needs_background": "light"
     },
     "output_type": "display_data"
    }
   ],
   "source": [
    "thinkplot.Pmf(pmf)\n",
    "thinkplot.Config(xlabel='Number of children', ylabel='PMF')"
   ]
  },
  {
   "cell_type": "code",
   "execution_count": 71,
   "metadata": {},
   "outputs": [],
   "source": [
    "biased = BiasPmf(pmf, label='biased')"
   ]
  },
  {
   "cell_type": "code",
   "execution_count": 72,
   "metadata": {},
   "outputs": [
    {
     "data": {
      "image/png": "[encoded data removed]",
      "text/plain": [
       "<Figure size 432x288 with 1 Axes>"
      ]
     },
     "metadata": {
      "needs_background": "light"
     },
     "output_type": "display_data"
    }
   ],
   "source": [
    "thinkplot.PrePlot(2)\n",
    "thinkplot.Pmfs([pmf, biased])\n",
    "thinkplot.Config(xlabel='Number of children', ylabel='PMF')"
   ]
  },
  {
   "cell_type": "code",
   "execution_count": 73,
   "metadata": {},
   "outputs": [
    {
     "data": {
      "text/plain": [
       "1.024205155043831"
      ]
     },
     "execution_count": 73,
     "metadata": {},
     "output_type": "execute_result"
    }
   ],
   "source": [
    "pmf.Mean()"
   ]
  },
  {
   "cell_type": "code",
   "execution_count": 74,
   "metadata": {},
   "outputs": [
    {
     "data": {
      "text/plain": [
       "2.403679100664282"
      ]
     },
     "execution_count": 74,
     "metadata": {},
     "output_type": "execute_result"
    }
   ],
   "source": [
    "biased.Mean()"
   ]
  },
  {
   "cell_type": "markdown",
   "metadata": {},
   "source": [
    "## 3.2 Exercise"
   ]
  },
  {
   "cell_type": "markdown",
   "metadata": {},
   "source": [
    "Write functions called PmfMean and PmfVar that take a Pmf object and compute the mean and variance. To test these methods, check that they are consistent with the methods Mean and Var provided by Pmf."
   ]
  },
  {
   "cell_type": "code",
   "execution_count": 89,
   "metadata": {},
   "outputs": [
    {
     "name": "stdout",
     "output_type": "stream",
     "text": [
      "Mean difference between pairs 0.18850574712643678\n"
     ]
    },
    {
     "data": {
      "image/png": "[encoded data removed]",
      "text/plain": [
       "<Figure size 432x288 with 1 Axes>"
      ]
     },
     "metadata": {
      "needs_background": "light"
     },
     "output_type": "display_data"
    },
    {
     "name": "stdout",
     "output_type": "stream",
     "text": [
      "mean/var preg length 38.56055968517709 7.301863788195439\n"
     ]
    },
    {
     "data": {
      "text/plain": [
       "<Figure size 576x432 with 0 Axes>"
      ]
     },
     "metadata": {},
     "output_type": "display_data"
    }
   ],
   "source": [
    "from __future__ import print_function\n",
    "\n",
    "import numpy as np\n",
    "\n",
    "import nsfg\n",
    "import first\n",
    "import thinkstats2\n",
    "import thinkplot\n",
    "\n",
    "\n",
    "def PmfMean(pmf):\n",
    "    \"\"\"Computes the mean of a PMF.\n",
    "\n",
    "    Returns:\n",
    "        float mean\n",
    "    \"\"\"\n",
    "    mean = 0.0\n",
    "    for x, p in pmf.d.items():\n",
    "        mean += p * x\n",
    "    return mean\n",
    "\n",
    "\n",
    "def PmfVar(pmf, mu=None):\n",
    "    \"\"\"Computes the variance of a PMF.\n",
    "\n",
    "    Args:\n",
    "        mu: the point around which the variance is computed;\n",
    "            if omitted, computes the mean\n",
    "\n",
    "    Returns:\n",
    "        float variance\n",
    "    \"\"\"\n",
    "    if mu is None:\n",
    "        mu = pmf.Mean()\n",
    "\n",
    "    var = 0.0\n",
    "    for x, p in pmf.d.items():\n",
    "        var += p * (x - mu) ** 2\n",
    "    return var\n",
    "\n",
    "\n",
    "def Diffs(t):\n",
    "    \"\"\"List of differences between the first elements and others.\n",
    "\n",
    "    t: list of numbers\n",
    "    \n",
    "    returns: list of numbers\n",
    "    \"\"\"\n",
    "    first = t[0]\n",
    "    rest = t[1:]\n",
    "    diffs = [first - x for x in rest]\n",
    "    return diffs\n",
    "\n",
    "\n",
    "def PairWiseDifferences(live):\n",
    "    \"\"\"Summarize pairwise differences for children of the same mother.\n",
    "\n",
    "    live: DataFrame of pregnancy records for live births\n",
    "    \"\"\"\n",
    "    live = live[live.prglngth >= 37]\n",
    "    preg_map = nsfg.MakePregMap(live)\n",
    "\n",
    "    diffs = []\n",
    "    for caseid, indices in preg_map.items():\n",
    "        lengths = live.loc[indices].prglngth.values\n",
    "        if len(lengths) >= 2:\n",
    "            diffs.extend(Diffs(lengths))\n",
    "\n",
    "    mean = thinkstats2.Mean(diffs)\n",
    "    print('Mean difference between pairs', mean)\n",
    "\n",
    "    pmf = thinkstats2.Pmf(diffs)\n",
    "    thinkplot.Hist(pmf, align='center')\n",
    "    thinkplot.Show(xlabel='Difference in weeks',\n",
    "                   ylabel='PMF')\n",
    "\n",
    "\n",
    "def main():\n",
    "    \"\"\"Tests the functions in this module.\n",
    "\n",
    "    \"\"\"\n",
    "    live, firsts, others = first.MakeFrames()\n",
    "    PairWiseDifferences(live)\n",
    "\n",
    "    # test PmfMean and PmfVar\n",
    "    prglngth = live.prglngth\n",
    "    pmf = thinkstats2.Pmf(prglngth)\n",
    "\n",
    "    pmf.Copy();\n",
    "\n",
    "\n",
    "\n",
    "    mean = PmfMean(pmf)\n",
    "    var = PmfVar(pmf)\n",
    "\n",
    "    assert(mean == pmf.Mean())\n",
    "    assert(var == pmf.Var())\n",
    "    print('mean/var preg length', mean, var)\n",
    "\n",
    "if __name__ == '__main__':\n",
    "    main()"
   ]
  },
  {
   "cell_type": "markdown",
   "metadata": {},
   "source": [
    "## 3.3 Exercise"
   ]
  },
  {
   "cell_type": "markdown",
   "metadata": {},
   "source": [
    "**Exercise:** I started this book with the question, \"Are first babies more likely to be late?\" To address it, I computed the difference in means between groups of babies, but I ignored the possibility that there might be a difference between first babies and others for the same woman.\n",
    "\n",
    "To address this version of the question, select respondents who have at least two live births and compute pairwise differences. Does this formulation of the question yield a different result?\n",
    "\n",
    "Hint: use `nsfg.MakePregMap`:"
   ]
  },
  {
   "cell_type": "code",
   "execution_count": 75,
   "metadata": {},
   "outputs": [],
   "source": [
    "live, firsts, others = first.MakeFrames()"
   ]
  },
  {
   "cell_type": "code",
   "execution_count": 76,
   "metadata": {},
   "outputs": [
    {
     "name": "stdout",
     "output_type": "stream",
     "text": [
      "defaultdict(<class 'list'>, {1: [0, 1], 2: [2, 3, 4], 6: [5, 6, 7], 7: [8, 9], 12: [10], 14: [11, 12], 15: [15, 16], 18: [17], 21: [19, 20], 23: [21], 24: [23, 24, 25], 28: [26], 31: [27, 28, 29], 36: [31], 38: [32, 33, 34], 39: [35], 44: [39, 40], 46: [42, 43], 49: [44, 47], 51: [48, 49], 57: [52, 53, 54], 60: [55, 56], 63: [58, 59], 69: [60], 70: [62, 64], 71: [65], 72: [67], 73: [68, 69], 77: [70, 71], 80: [72, 74, 75, 76], 81: [77], 86: [78, 79, 80], 90: [82], 91: [83, 87, 88, 89], 92: [90, 91, 92], 95: [94], 101: [95, 96], 106: [97, 98, 99], 114: [100], 115: [101], 118: [104, 105, 106], 119: [107, 108], 123: [110], 132: [113], 135: [114], 138: [115], 139: [116, 117], 142: [118, 119, 120, 121], 145: [124, 126, 127, 129], 149: [130, 131, 132], 150: [133, 134, 135, 136, 137, 138], 151: [139], 152: [140, 142, 143], 153: [147, 148], 156: [149], 159: [150, 151], 160: [154, 155, 156], 172: [157, 158, 159], 173: [160], 176: [161, 162], 181: [163, 164], 183: [165, 166], 184: [167], 186: [168, 169], 190: [170, 171, 172, 174], 193: [175, 176], 209: [178], 210: [180, 181, 182], 213: [184, 185], 215: [186, 187], 218: [188, 190], 219: [191], 222: [193], 227: [204, 205], 230: [206, 207], 234: [208, 209], 235: [210], 238: [211], 244: [212, 213, 214], 245: [215, 216], 246: [217, 218, 219, 220], 247: [222], 248: [223, 224, 225], 249: [226, 228], 251: [229, 230], 252: [233, 234], 253: [237, 238], 254: [239, 240, 241], 255: [245, 246], 256: [247, 248, 249], 259: [251, 252], 263: [253, 256], 269: [258, 259, 260, 261], 275: [262], 277: [263, 264, 265], 278: [267, 268, 269, 270, 271, 272, 273], 281: [274, 275, 276], 284: [277, 278, 279, 280, 281], 285: [282], 287: [285, 286, 287], 288: [288, 289, 290], 299: [299], 300: [305], 302: [306], 309: [311, 313], 314: [314, 315, 316, 317, 318], 315: [321, 322], 319: [323, 324, 325, 326], 320: [327, 328, 329], 324: [330, 334], 325: [335, 336], 327: [338], 328: [339, 340], 334: [341, 343, 346], 336: [347, 348, 349], 340: [350, 351, 352, 353], 343: [354, 356], 344: [357, 358], 348: [359, 360, 361], 349: [362, 363], 350: [365, 366, 367], 354: [368, 369], 356: [370, 371], 357: [374], 361: [375], 362: [377, 378], 364: [380], 365: [381, 382, 383, 384], 368: [385, 386, 388], 372: [389, 392, 393], 374: [395], 379: [398, 399], 382: [402], 383: [404, 405], 385: [408, 409, 410], 390: [411, 413], 403: [416], 407: [419], 408: [421], 413: [423, 428, 429], 415: [433, 435, 436, 437], 416: [438], 418: [440, 441], 419: [443, 444], 420: [447, 448], 425: [451], 427: [452], 429: [455], 432: [458], 434: [459], 437: [461], 438: [463, 464, 465, 466], 442: [468], 444: [470, 473, 474], 445: [475], 451: [477, 478], 455: [481], 457: [485], 459: [487, 488, 489], 465: [492, 493], 468: [496], 472: [497], 473: [498, 499, 500], 478: [501, 502], 479: [503, 504], 480: [505], 481: [506, 507, 508, 509, 510, 511, 512], 491: [514, 515], 494: [517, 518], 497: [520], 505: [521, 523], 506: [524, 525], 509: [527, 528, 529], 510: [530, 532], 512: [534], 514: [535, 536], 515: [540, 541, 542], 519: [543], 520: [546, 547, 548], 522: [549], 523: [550, 551, 552], 530: [554, 556], 535: [559], 539: [561], 540: [562, 563, 564, 565], 541: [566], 542: [567, 570], 548: [573], 551: [574, 576], 552: [577, 578], 553: [579, 580], 555: [582], 556: [583], 560: [584, 585], 562: [590], 564: [591, 592], 567: [594, 595], 571: [597, 598], 572: [599, 601], 573: [602, 603], 574: [606, 609, 610], 576: [613], 578: [614], 580: [615, 616], 581: [617, 618, 619, 620], 586: [624, 625, 626, 627], 587: [628, 629], 589: [630, 631, 633], 590: [634, 635], 591: [636], 595: [639, 640, 641], 596: [642], 599: [644], 600: [645], 601: [647, 648, 649, 650, 651], 602: [656], 606: [657, 658, 659, 660, 661], 607: [662, 663], 609: [664, 665], 620: [668], 622: [669], 623: [671], 627: [672], 628: [673, 674], 632: [676, 677], 635: [680, 681, 682, 683, 684, 685, 687, 688], 637: [689, 690, 691], 642: [693, 694, 695], 652: [697], 653: [699, 700], 656: [703, 704], 657: [705, 706, 707], 659: [708, 709, 710], 663: [713], 664: [714, 715], 665: [716, 717], 668: [719, 720], 671: [721], 676: [725], 678: [726], 679: [727, 728], 681: [730], 684: [731, 732], 685: [734], 686: [738, 739], 689: [741, 742], 693: [743, 744, 745, 746], 695: [747, 749], 701: [751, 753, 754, 755], 702: [756, 757, 760, 761, 762, 763], 704: [764], 706: [765], 707: [766, 767, 768, 769, 770], 708: [772, 774], 710: [776, 777, 778], 711: [779], 712: [780, 781, 782], 714: [784], 723: [785, 786], 724: [792], 732: [793, 794], 734: [795, 796], 737: [798, 799, 800], 739: [802], 743: [804, 805, 807], 745: [808, 809, 810, 811, 812], 750: [813, 814], 752: [816, 817], 755: [819], 756: [822, 823, 824], 758: [826, 828], 759: [829, 830], 760: [832, 833], 768: [841], 772: [842], 775: [845], 776: [846, 847], 778: [848], 781: [850], 782: [851, 853], 784: [854, 855, 856], 785: [857], 786: [859], 787: [861], 788: [863], 789: [864], 790: [866, 867, 868], 792: [869], 796: [870, 871, 872, 873, 874], 804: [877, 878], 805: [879, 880, 881, 882], 808: [885, 887], 810: [888], 811: [889, 890, 891], 814: [893, 894, 895], 816: [896, 897], 820: [900, 901, 902, 903], 822: [905], 826: [907], 827: [909, 910, 911], 829: [912, 913], 830: [914, 915, 916], 832: [917, 919], 835: [924], 836: [925, 926], 843: [928, 929], 844: [931, 932, 933, 934, 935], 845: [936, 937, 938, 939, 940, 941], 847: [944, 945], 848: [946, 947, 948, 949], 849: [950, 951, 952, 953], 852: [956, 957, 958, 959], 854: [960, 961, 962], 859: [963, 964], 861: [965, 967, 968], 862: [969, 970], 863: [971, 972, 973], 865: [978, 979, 980, 981], 867: [982, 983], 868: [984, 985], 872: [987, 988, 989, 990], 874: [991, 992], 876: [994], 877: [998, 1000], 880: [1002], 881: [1003, 1004], 882: [1006, 1007, 1009], 884: [1010, 1011], 886: [1013], 890: [1016], 895: [1017, 1018], 897: [1021, 1022], 899: [1023, 1024], 900: [1025], 901: [1027, 1028, 1029, 1030], 904: [1031, 1032], 910: [1034], 917: [1035], 918: [1036, 1037], 921: [1038, 1039], 928: [1041], 929: [1042, 1044], 930: [1045, 1046], 932: [1048, 1050], 943: [1056], 945: [1057], 947: [1060, 1061], 948: [1062, 1063], 953: [1065, 1066], 954: [1067, 1068, 1070], 959: [1075], 960: [1076], 961: [1077, 1078, 1079, 1080], 966: [1081, 1082, 1083], 967: [1084], 969: [1089, 1090], 971: [1091, 1092], 972: [1094, 1095, 1096], 974: [1097], 980: [1098, 1100, 1102], 984: [1103, 1104], 985: [1105], 989: [1112, 1113, 1114], 990: [1115, 1116], 992: [1118], 996: [1119, 1120], 997: [1121, 1122], 999: [1125], 1000: [1126, 1127, 1129], 1004: [1130], 1005: [1131], 1007: [1133, 1134], 1015: [1139, 1140], 1016: [1142, 1144], 1017: [1145, 1147, 1148], 1025: [1149], 1026: [1151], 1028: [1152], 1029: [1156], 1031: [1160, 1161], 1040: [1163], 1042: [1165, 1166, 1167, 1168, 1169], 1044: [1172, 1173], 1058: [1177, 1178, 1179, 1180, 1181], 1060: [1182], 1061: [1184, 1185], 1062: [1186, 1187, 1188], 1063: [1192], 1064: [1193], 1068: [1194, 1195, 1196], 1069: [1197], 1070: [1198], 1075: [1200, 1203], 1077: [1205], 1084: [1208, 1209], 1086: [1210, 1212, 1213, 1214, 1215], 1087: [1217], 1088: [1218, 1219, 1220], 1089: [1222, 1226], 1090: [1228], 1091: [1229, 1231], 1092: [1233, 1235], 1094: [1236], 1095: [1237], 1098: [1238], 1099: [1240], 1100: [1242, 1243, 1244], 1101: [1245, 1246, 1247], 1107: [1251], 1113: [1253, 1256], 1115: [1257], 1120: [1258, 1259], 1121: [1260, 1262], 1122: [1263], 1123: [1265], 1131: [1271, 1272, 1273], 1134: [1274, 1276], 1138: [1277, 1278, 1279], 1139: [1280], 1140: [1281], 1145: [1282], 1147: [1284, 1285], 1151: [1286, 1287, 1288], 1153: [1289, 1290, 1291], 1159: [1293], 1160: [1294, 1295, 1296], 1161: [1297, 1298], 1164: [1299], 1165: [1302], 1166: [1305], 1167: [1307], 1169: [1309, 1310, 1311, 1312, 1314, 1315, 1316, 1317, 1318, 1319], 1171: [1320, 1321], 1172: [1324], 1176: [1327, 1328, 1329], 1185: [1330, 1332], 1190: [1333, 1335], 1191: [1337, 1338, 1339], 1197: [1343], 1203: [1344, 1345], 1204: [1346, 1347, 1348], 1209: [1350, 1351, 1352], 1210: [1353, 1354, 1355], 1211: [1357, 1359], 1214: [1365, 1366, 1367, 1368, 1370], 1217: [1372], 1218: [1373], 1219: [1376, 1377, 1378], 1223: [1379, 1380], 1226: [1381], 1236: [1384, 1385, 1386], 1237: [1388, 1389], 1239: [1390, 1391], 1241: [1393], 1242: [1395], 1244: [1397, 1399], 1246: [1400, 1401], 1251: [1403, 1404, 1405], 1258: [1408, 1409], 1261: [1412, 1413], 1264: [1414, 1415], 1265: [1416, 1418, 1419], 1268: [1421, 1422], 1275: [1426, 1428], 1277: [1429, 1431, 1433], 1279: [1435, 1436, 1437], 1280: [1439, 1440, 1441, 1443], 1282: [1444, 1445], 1283: [1446, 1447], 1284: [1449, 1450, 1451], 1286: [1452], 1288: [1453, 1455], 1292: [1456, 1457, 1458], 1295: [1460, 1461, 1462, 1463], 1296: [1466, 1467], 1298: [1468], 1302: [1469], 1305: [1473, 1474, 1475], 1307: [1477], 1309: [1481, 1482], 1311: [1483, 1484], 1314: [1485, 1486, 1488], 1315: [1489, 1490], 1319: [1492], 1321: [1494, 1495], 1333: [1496, 1498, 1499], 1338: [1500, 1501, 1502], 1339: [1503, 1504, 1505], 1342: [1507, 1509], 1344: [1511], 1346: [1513, 1515], 1349: [1516, 1518, 1519], 1351: [1520, 1521, 1522, 1523], 1353: [1524], 1359: [1526, 1527, 1529], 1362: [1532, 1534], 1366: [1538, 1539, 1540, 1542], 1373: [1543, 1544], 1384: [1549, 1550, 1551, 1552], 1386: [1553], 1388: [1554, 1555, 1556], 1391: [1557], 1393: [1559, 1560, 1561, 1562], 1396: [1563, 1565, 1566], 1397: [1567, 1568, 1569, 1570], 1398: [1571], 1399: [1572, 1573, 1574, 1575], 1401: [1576, 1577], 1403: [1578, 1579], 1404: [1580], 1405: [1581, 1582], 1406: [1584], 1408: [1585], 1409: [1586], 1410: [1589, 1590, 1591], 1411: [1593, 1594, 1595, 1596], 1414: [1597, 1598, 1599, 1600], 1415: [1601, 1602], 1417: [1605], 1425: [1606], 1426: [1609, 1610], 1432: [1612, 1613], 1434: [1617, 1618, 1619], 1435: [1620, 1621], 1436: [1622, 1623], 1438: [1624], 1440: [1625, 1626, 1627, 1628], 1442: [1629, 1632], 1443: [1633, 1635, 1636, 1637, 1638], 1446: [1639, 1640, 1641], 1447: [1642, 1643], 1448: [1644], 1455: [1645], 1460: [1648, 1649], 1465: [1650, 1652, 1654], 1466: [1655, 1657, 1658, 1659], 1474: [1660], 1476: [1662, 1663], 1477: [1666], 1478: [1668], 1481: [1669, 1670], 1491: [1672, 1673, 1674, 1675], 1493: [1676, 1677], 1494: [1678, 1679, 1680], 1503: [1681, 1682], 1507: [1688], 1510: [1689], 1511: [1690, 1691, 1692], 1512: [1693, 1694], 1513: [1695, 1696], 1515: [1699], 1516: [1700, 1701], 1518: [1703, 1704, 1705, 1706], 1527: [1709, 1710, 1711, 1712], 1535: [1716], 1538: [1719, 1720], 1539: [1721], 1541: [1722, 1723], 1542: [1724, 1725], 1545: [1726, 1727], 1547: [1728], 1548: [1729], 1549: [1731, 1733, 1734], 1555: [1738, 1739], 1556: [1740, 1741], 1558: [1742], 1560: [1743], 1561: [1744, 1745], 1565: [1746, 1747], 1568: [1748], 1570: [1749, 1750], 1571: [1751], 1572: [1752, 1754], 1575: [1756, 1757, 1758], 1577: [1760], 1579: [1762], 1582: [1763, 1764], 1588: [1766, 1767, 1768], 1595: [1769, 1770, 1771], 1596: [1773], 1597: [1780, 1785, 1790], 1598: [1791, 1792], 1599: [1793, 1794], 1606: [1795, 1796, 1797, 1798], 1611: [1801, 1802, 1803, 1804, 1805, 1806, 1807], 1618: [1808, 1809, 1810], 1621: [1812, 1813], 1626: [1816, 1817], 1628: [1818, 1819], 1629: [1821, 1822, 1823], 1630: [1825, 1826, 1827], 1633: [1829], 1636: [1831, 1833, 1834], 1639: [1840, 1841], 1641: [1842], 1642: [1843, 1844], 1647: [1846], 1649: [1847, 1849], 1652: [1851, 1852, 1853, 1855], 1654: [1858, 1859], 1655: [1860, 1862, 1863, 1864, 1865], 1656: [1867, 1868], 1657: [1870], 1658: [1871], 1659: [1874], 1665: [1877], 1666: [1879], 1668: [1880, 1881, 1882], 1670: [1883], 1674: [1885], 1681: [1888, 1890], 1682: [1891, 1892, 1893], 1684: [1894, 1895, 1896, 1897, 1898, 1899], 1685: [1901, 1902, 1903], 1689: [1904, 1905, 1906], 1690: [1908], 1691: [1909], 1692: [1911, 1912, 1913, 1914, 1915, 1916], 1694: [1917, 1918, 1919], 1698: [1923], 1702: [1926, 1928], 1707: [1932, 1933, 1934], 1709: [1939], 1711: [1941, 1944], 1715: [1945], 1717: [1947], 1719: [1950, 1951, 1952, 1953], 1722: [1955, 1956, 1957], 1724: [1959, 1961], 1725: [1963, 1964], 1727: [1965], 1729: [1967, 1968, 1969, 1970, 1971], 1733: [1972, 1974], 1734: [1977], 1735: [1978], 1737: [1979, 1980], 1738: [1981, 1983], 1739: [1984, 1985], 1744: [1988, 1989], 1747: [1992, 1994, 1997, 1998], 1751: [2001, 2002, 2003], 1752: [2004, 2005, 2006, 2007, 2008, 2009], 1753: [2010, 2012, 2013, 2014], 1755: [2015, 2016, 2017, 2018], 1757: [2019], 1761: [2021, 2022, 2024, 2025, 2026, 2027], 1765: [2033], 1766: [2035], 1768: [2036, 2037, 2038], 1774: [2041], 1775: [2042, 2043, 2044], 1777: [2045], 1778: [2048, 2049], 1784: [2050, 2052], 1790: [2053, 2054], 1791: [2055, 2062, 2063], 1805: [2067], 1808: [2068], 1810: [2069, 2070], 1812: [2072, 2073], 1814: [2075, 2076], 1816: [2077, 2078], 1817: [2079, 2080], 1819: [2084, 2086], 1821: [2087], 1825: [2089, 2090, 2091], 1829: [2092, 2093], 1830: [2094], 1831: [2096], 1833: [2098, 2099], 1835: [2100, 2101], 1837: [2102], 1840: [2105, 2106, 2107], 1846: [2108, 2110], 1852: [2113, 2114, 2115], 1855: [2116, 2117, 2118], 1858: [2120], 1873: [2122, 2123, 2126], 1879: [2129], 1880: [2130, 2131], 1886: [2133, 2134], 1891: [2136, 2137], 1892: [2139, 2140, 2141, 2142], 1894: [2145, 2147], 1897: [2149, 2150], 1899: [2151, 2152, 2153], 1901: [2154, 2157], 1904: [2158], 1908: [2159, 2160, 2161, 2162], 1910: [2163, 2164], 1913: [2165], 1914: [2166], 1916: [2167, 2168, 2169], 1920: [2170], 1924: [2173], 1934: [2176, 2177], 1935: [2178, 2180], 1936: [2181], 1944: [2183, 2185, 2186], 1948: [2187], 1951: [2188, 2189], 1962: [2192], 1964: [2194, 2196, 2197, 2198], 1965: [2201], 1966: [2202], 1969: [2203, 2204], 1985: [2206, 2207, 2208, 2209], 1986: [2211, 2212, 2213, 2214], 1988: [2215, 2216], 1992: [2217, 2218], 1994: [2221], 2000: [2227, 2228], 2002: [2229, 2230], 2004: [2232, 2233], 2005: [2234], 2006: [2235], 2007: [2237], 2009: [2238, 2239], 2011: [2243], 2012: [2244, 2245, 2246], 2013: [2248, 2250, 2251], 2015: [2252], 2016: [2253, 2254], 2017: [2256], 2018: [2258, 2260], 2019: [2261, 2262], 2022: [2263, 2264], 2024: [2265], 2026: [2266, 2267], 2027: [2268, 2269], 2030: [2271, 2272], 2031: [2273, 2274], 2041: [2276], 2042: [2279, 2280], 2045: [2282, 2283], 2047: [2284, 2285, 2286, 2287], 2048: [2288, 2289, 2290, 2292], 2049: [2293, 2294], 2050: [2297, 2298], 2052: [2303, 2304], 2054: [2305, 2306, 2307], 2055: [2308, 2309], 2056: [2310, 2311, 2314], 2057: [2316, 2317, 2318], 2059: [2319], 2062: [2320], 2064: [2321], 2065: [2322, 2323, 2326], 2066: [2327, 2328], 2071: [2329], 2072: [2330, 2331], 2076: [2332, 2333, 2334], 2080: [2335, 2338], 2081: [2339], 2083: [2343], 2085: [2344, 2345], 2086: [2346], 2087: [2348, 2349], 2090: [2351], 2091: [2352], 2092: [2353, 2354, 2355], 2096: [2360], 2098: [2361, 2362], 2110: [2363], 2111: [2366, 2367, 2369], 2113: [2370, 2371], 2117: [2372], 2118: [2373, 2374, 2376, 2377], 2119: [2378], 2122: [2379, 2381], 2125: [2382], 2126: [2385, 2388], 2128: [2393], 2129: [2395, 2396], 2133: [2398], 2134: [2400], 2135: [2403, 2405], 2139: [2409, 2410], 2141: [2412, 2413], 2145: [2416, 2417], 2146: [2418], 2149: [2421, 2423], 2153: [2426, 2427, 2428], 2154: [2430], 2155: [2432], 2157: [2435], 2158: [2437], 2160: [2438, 2439], 2162: [2440], 2165: [2441, 2442], 2168: [2443, 2444, 2446], 2170: [2447], 2171: [2448, 2449, 2450, 2451, 2452, 2453], 2175: [2455], 2178: [2457], 2180: [2459, 2460], 2182: [2462], 2183: [2463], 2184: [2464, 2465], 2187: [2466, 2467, 2468], 2188: [2470, 2471], 2190: [2472, 2473, 2474], 2191: [2476, 2478], 2193: [2479, 2480, 2481], 2194: [2482, 2483, 2484], 2195: [2485, 2487, 2489, 2490, 2493, 2495], 2196: [2497], 2200: [2500, 2501], 2204: [2503, 2504], 2211: [2505, 2506, 2507], 2214: [2508, 2509, 2510, 2511, 2512, 2513], 2215: [2514], 2216: [2515, 2516, 2518], 2218: [2519], 2219: [2520], 2220: [2521, 2522], 2222: [2523, 2524], 2227: [2527], 2231: [2529, 2530], 2233: [2531, 2533], 2234: [2534], 2237: [2535, 2536], 2239: [2537, 2538], 2245: [2539, 2540], 2246: [2541, 2542, 2543, 2544], 2247: [2546], 2250: [2547], 2252: [2548, 2549, 2550, 2551, 2552], 2253: [2554], 2255: [2555, 2556], 2259: [2557, 2558, 2559], 2260: [2561], 2261: [2564], 2263: [2566, 2567], 2264: [2568], 2265: [2576], 2266: [2579, 2580, 2581], 2271: [2582], 2274: [2584], 2276: [2586], 2287: [2590, 2591, 2592], 2288: [2595, 2596, 2597], 2292: [2598, 2599, 2600], 2296: [2601, 2602, 2603, 2604, 2605], 2297: [2608], 2298: [2610, 2611, 2612, 2613], 2300: [2614], 2301: [2615], 2302: [2616, 2617, 2618], 2303: [2621, 2622], 2305: [2624], 2306: [2625, 2626], 2307: [2630], 2310: [2632, 2633], 2311: [2637, 2638], 2312: [2640, 2642], 2313: [2643, 2644], 2318: [2645, 2646, 2647], 2320: [2649], 2323: [2650, 2651], 2326: [2653, 2654], 2329: [2656, 2657, 2658], 2334: [2661, 2662], 2336: [2664, 2665], 2338: [2666, 2668, 2670], 2339: [2671], 2345: [2672, 2673], 2346: [2675, 2676], 2348: [2678, 2679], 2349: [2680], 2350: [2681], 2361: [2686, 2687], 2362: [2688, 2689, 2690], 2365: [2691], 2366: [2692, 2693], 2369: [2696], 2370: [2698, 2699, 2700], 2376: [2701, 2702], 2379: [2703, 2704], 2380: [2706, 2707, 2708], 2383: [2709, 2710], 2385: [2711], 2396: [2715, 2716, 2717, 2718], 2397: [2719, 2720], 2401: [2721, 2722], 2402: [2723, 2725], 2406: [2730], 2408: [2731, 2732, 2733, 2734, 2737, 2738, 2739], 2410: [2740], 2412: [2741, 2742, 2743, 2745], 2421: [2747, 2748, 2749, 2750, 2751], 2422: [2753, 2754], 2425: [2756, 2757, 2758], 2426: [2759, 2760, 2761], 2429: [2763, 2764], 2430: [2765], 2433: [2769, 2770], 2437: [2771, 2772], 2439: [2775, 2776, 2777], 2440: [2778], 2447: [2781], 2448: [2782], 2449: [2783], 2452: [2786, 2787], 2456: [2788], 2457: [2789, 2790], 2461: [2791, 2792], 2463: [2797, 2798], 2469: [2799], 2472: [2801], 2473: [2803, 2804], 2474: [2806, 2807, 2808, 2809], 2475: [2810, 2812, 2813, 2814, 2815], 2476: [2816, 2818], 2478: [2819, 2820], 2479: [2822, 2823], 2486: [2824, 2825], 2490: [2826, 2827], 2492: [2829], 2494: [2830, 2831], 2495: [2832, 2833], 2500: [2834], 2503: [2835], 2506: [2837, 2838, 2839], 2507: [2840], 2514: [2843, 2844], 2519: [2848], 2520: [2851, 2852], 2525: [2853, 2854, 2855, 2856], 2527: [2857, 2859], 2530: [2860, 2861], 2538: [2864, 2865, 2866], 2539: [2867], 2545: [2869, 2870, 2871, 2872], 2550: [2874], 2551: [2876, 2877], 2553: [2880, 2881, 2882], 2554: [2883, 2884], 2560: [2887, 2888], 2561: [2889], 2564: [2891], 2565: [2894, 2896], 2568: [2898, 2899, 2900, 2901], 2570: [2902, 2903, 2904], 2571: [2906, 2908], 2588: [2911, 2912], 2596: [2913, 2914], 2601: [2917, 2918], 2604: [2919, 2920, 2921], 2605: [2923, 2925, 2926], 2608: [2928, 2929], 2609: [2930, 2931, 2932], 2612: [2934, 2935, 2936], 2613: [2937, 2939, 2941], 2616: [2942, 2943], 2617: [2944], 2618: [2946], 2621: [2949], 2623: [2953], 2624: [2956, 2957, 2958, 2960, 2961], 2640: [2968, 2969], 2641: [2971], 2642: [2974, 2975, 2976], 2643: [2977, 2980, 2981, 2983], 2645: [2984, 2985], 2648: [2986, 2987, 2988, 2989], 2654: [2990, 2991, 2992], 2655: [2993], 2658: [2996, 2998], 2660: [3001], 2666: [3004, 3005, 3006, 3007, 3008], 2667: [3009, 3010, 3011], 2671: [3012], 2675: [3013, 3014, 3015], 2677: [3016], 2678: [3017, 3018, 3019, 3020, 3021, 3022, 3023], 2679: [3027, 3028, 3029, 3030], 2680: [3031, 3032, 3033], 2682: [3035], 2684: [3037], 2688: [3042, 3043], 2697: [3045], 2698: [3047, 3048], 2702: [3050, 3051], 2704: [3053, 3054], 2706: [3056, 3057], 2707: [3058, 3060], 2709: [3061, 3062], 2710: [3065], 2715: [3066], 2719: [3068, 3069, 3070], 2721: [3072, 3073, 3074], 2725: [3075, 3076, 3077], 2727: [3078, 3079], 2730: [3080, 3083, 3084], 2732: [3085, 3086, 3089, 3090, 3091], 2733: [3092, 3093], 2734: [3094], 2741: [3098, 3100, 3101, 3102], 2745: [3105, 3106, 3107, 3108], 2747: [3110], 2749: [3112], 2753: [3114, 3115], 2754: [3116, 3119], 2758: [3120], 2763: [3122, 3124], 2767: [3126, 3128], 2770: [3130], 2771: [3131, 3132, 3134], 2775: [3136, 3137], 2784: [3138], 2788: [3141, 3142, 3143, 3144], 2789: [3145, 3146, 3147, 3148, 3149, 3150], 2791: [3154], 2792: [3155, 3156, 3157], 2798: [3160, 3161], 2799: [3162, 3163], 2806: [3165], 2807: [3167, 3168, 3169], 2815: [3172, 3173], 2817: [3175, 3176, 3177], 2818: [3178], 2825: [3179], 2828: [3180, 3181], 2831: [3182, 3183], 2840: [3185, 3186], 2841: [3187, 3188, 3189, 3190, 3191], 2842: [3192], 2844: [3194, 3195, 3196, 3197, 3198, 3199, 3200], 2853: [3202, 3203, 3204], 2855: [3205, 3206], 2859: [3207, 3208, 3209], 2865: [3211, 3212, 3213, 3214], 2866: [3216, 3217, 3218], 2877: [3219, 3220, 3222], 2881: [3224, 3226], 2882: [3228, 3229, 3230], 2883: [3231], 2888: [3233, 3234, 3235], 2893: [3237], 2894: [3238, 3239, 3240], 2896: [3241], 2899: [3242, 3243, 3244], 2908: [3247, 3248, 3249, 3250], 2909: [3251, 3252, 3254], 2910: [3255, 3256, 3257, 3258, 3259, 3260, 3261], 2912: [3262], 2914: [3265, 3266], 2915: [3268], 2916: [3274], 2922: [3275, 3276], 2924: [3278, 3279, 3280], 2926: [3284, 3285, 3286], 2929: [3287, 3288], 2930: [3290, 3291], 2936: [3293], 2941: [3295], 2943: [3296], 2944: [3298, 3299, 3301], 2945: [3302, 3303], 2947: [3306], 2950: [3308, 3309], 2951: [3310, 3311, 3312, 3313], 2952: [3314, 3315], 2954: [3316], 2956: [3317, 3318, 3319], 2959: [3320, 3321, 3322, 3323], 2963: [3325, 3326], 2965: [3327, 3328], 2966: [3332], 2967: [3333, 3334, 3335], 2968: [3336, 3337], 2972: [3338, 3339], 2973: [3341], 2974: [3343], 2975: [3345, 3346], 2977: [3347, 3348, 3349, 3350], 2978: [3351, 3353], 2980: [3354, 3355, 3356, 3357], 2982: [3361, 3362], 2983: [3363], 2985: [3364], 2989: [3365, 3366, 3367], 2993: [3368, 3369], 2999: [3370, 3371, 3373, 3374], 3002: [3376], 3005: [3380, 3381], 3008: [3382], 3011: [3384, 3385, 3387], 3015: [3388, 3390, 3391], 3016: [3392, 3393], 3019: [3394, 3395], 3021: [3396, 3397], 3022: [3398], 3025: [3399, 3401, 3402, 3403], 3027: [3404], 3035: [3405, 3406], 3036: [3408, 3409], 3037: [3410], 3038: [3411], 3039: [3413, 3414], 3043: [3415, 3416], 3046: [3419, 3421], 3047: [3423, 3426], 3051: [3430, 3431], 3054: [3433], 3055: [3435], 3056: [3437, 3438], 3057: [3440, 3441, 3443], 3060: [3444, 3445, 3446, 3447], 3064: [3450, 3451, 3452, 3453], 3066: [3454, 3455], 3070: [3456, 3457], 3072: [3459, 3460, 3461], 3075: [3462, 3463, 3464], 3078: [3467], 3079: [3468, 3469], 3080: [3470, 3471], 3082: [3473], 3084: [3474, 3475], 3086: [3477, 3478, 3479, 3482], 3090: [3485, 3486], 3093: [3487, 3489], 3095: [3490], 3098: [3493], 3101: [3495, 3496], 3103: [3498], 3107: [3499, 3501], 3109: [3502, 3503], 3111: [3504, 3508], 3112: [3509, 3510], 3113: [3512], 3115: [3514, 3519], 3118: [3522, 3524], 3122: [3529], 3129: [3532, 3533], 3130: [3535, 3537], 3131: [3538, 3539, 3540], 3139: [3544], 3140: [3546], 3145: [3547, 3548, 3549], 3150: [3550], 3152: [3551], 3153: [3552, 3553, 3554], 3154: [3555], 3155: [3558, 3560], 3157: [3562], 3159: [3563, 3564], 3160: [3567, 3568], 3162: [3570], 3167: [3572], 3168: [3573, 3574], 3171: [3579, 3580], 3172: [3581, 3582], 3178: [3583], 3179: [3585, 3586], 3180: [3588, 3589], 3182: [3590, 3591, 3592], 3185: [3593, 3594, 3595], 3187: [3596, 3597], 3188: [3598], 3190: [3600, 3601], 3195: [3603, 3604], 3197: [3606], 3199: [3607], 3200: [3608, 3609], 3212: [3612, 3613, 3614], 3213: [3616], 3217: [3617, 3618, 3620], 3218: [3621], 3219: [3622, 3624, 3625], 3222: [3626, 3627, 3628], 3226: [3629, 3630, 3631, 3632], 3229: [3634, 3635, 3636], 3232: [3637, 3638, 3639, 3640], 3234: [3644, 3645], 3235: [3646, 3648, 3649], 3237: [3650, 3651], 3248: [3655, 3656, 3658], 3249: [3662], 3250: [3663], 3251: [3667, 3668, 3670, 3673], 3252: [3674], 3254: [3678, 3679, 3680, 3681, 3682], 3255: [3683, 3684, 3686, 3687, 3690], 3259: [3693], 3261: [3696, 3697], 3267: [3698, 3699, 3700], 3270: [3704], 3271: [3705], 3272: [3706, 3707], 3273: [3708, 3709], 3276: [3713], 3279: [3714, 3715], 3281: [3716], 3282: [3717], 3283: [3718], 3286: [3719], 3287: [3720, 3721], 3296: [3722, 3723], 3298: [3724, 3725, 3726], 3300: [3727, 3729], 3302: [3730, 3731], 3303: [3732, 3733], 3315: [3736, 3737, 3738], 3316: [3739], 3317: [3741], 3318: [3742, 3743], 3321: [3745, 3746], 3323: [3748, 3749, 3750], 3325: [3751], 3326: [3752], 3331: [3754, 3756], 3332: [3757, 3758], 3334: [3760, 3761, 3763], 3346: [3771, 3774], 3349: [3775, 3776], 3352: [3778, 3779], 3356: [3782, 3783], 3358: [3784], 3360: [3785, 3787], 3362: [3789, 3790, 3791], 3364: [3793, 3794], 3369: [3796], 3379: [3800, 3801, 3802], 3382: [3803, 3804], 3384: [3805, 3806], 3386: [3807, 3808, 3809, 3810], 3391: [3811, 3812, 3813, 3814, 3815], 3397: [3816, 3817], 3400: [3819, 3820], 3402: [3821], 3406: [3822, 3823], 3408: [3824, 3825, 3826], 3416: [3828], 3417: [3830, 3831], 3418: [3833, 3835, 3836], 3422: [3839, 3841], 3423: [3843, 3844, 3845], 3424: [3846, 3847], 3427: [3849], 3428: [3850, 3851, 3852, 3853], 3429: [3855, 3856], 3430: [3858, 3859, 3860], 3432: [3861], 3433: [3862, 3863, 3864], 3437: [3865, 3866], 3438: [3867, 3868, 3869], 3443: [3871], 3447: [3872, 3874, 3876], 3449: [3877, 3878, 3880], 3455: [3883, 3884, 3887], 3456: [3888], 3457: [3889], 3459: [3891, 3892], 3460: [3893, 3894], 3462: [3896, 3897, 3899], 3463: [3900, 3902, 3903], 3464: [3904], 3465: [3906, 3908], 3466: [3909, 3910], 3468: [3912], 3470: [3915], 3474: [3917], 3482: [3919, 3920], 3483: [3924], 3485: [3926, 3928], 3486: [3930, 3931, 3932], 3488: [3933, 3934], 3490: [3935], 3497: [3938, 3939], 3498: [3940, 3941, 3942, 3943, 3946], 3508: [3947, 3948], 3516: [3950, 3952], 3518: [3954], 3520: [3955, 3956, 3957], 3521: [3959, 3960], 3523: [3962, 3963, 3964, 3965], 3532: [3975], 3534: [3977, 3978], 3537: [3980, 3981], 3540: [3982, 3983], 3541: [3984, 3985], 3544: [3987, 3988, 3989, 3990], 3545: [3991], 3546: [3994, 3995, 3998, 3999], 3548: [4000, 4001], 3550: [4002], 3552: [4003, 4004], 3555: [4007, 4008, 4009, 4011], 3556: [4013, 4014], 3560: [4017, 4018], 3563: [4019], 3567: [4021], 3568: [4023], 3570: [4024, 4025, 4026, 4028], 3573: [4032, 4033], 3575: [4034, 4035], 3578: [4036], 3580: [4040], 3585: [4043, 4044], 3592: [4049], 3598: [4050, 4051], 3602: [4052], 3610: [4053, 4054, 4055], 3611: [4056, 4057], 3618: [4061], 3622: [4062, 4066], 3623: [4068, 4069, 4070], 3628: [4071, 4072], 3629: [4073, 4074], 3633: [4077, 4078], 3638: [4080, 4081, 4082], 3639: [4083], 3642: [4084, 4085], 3645: [4086], 3647: [4087, 4088, 4089, 4090], 3651: [4091, 4092, 4093, 4094], 3654: [4095, 4096], 3657: [4097, 4098, 4099], 3661: [4100, 4101, 4102, 4103, 4104], 3662: [4105, 4106], 3664: [4107, 4108], 3666: [4110], 3667: [4113], 3676: [4116, 4117, 4118], 3677: [4120, 4121], 3678: [4122, 4123], 3681: [4124, 4125, 4126], 3683: [4127], 3685: [4128], 3689: [4129, 4130], 3690: [4131, 4132, 4133], 3691: [4134, 4135, 4136], 3692: [4137, 4139], 3693: [4140, 4141, 4142, 4143], 3694: [4144], 3699: [4147, 4148, 4151], 3700: [4152, 4153, 4154, 4155], 3703: [4159, 4160], 3704: [4161, 4162, 4163], 3708: [4165, 4166], 3709: [4167], 3710: [4168, 4169], 3713: [4172], 3714: [4173, 4174], 3715: [4176, 4177], 3722: [4179, 4181, 4182, 4183], 3728: [4184], 3729: [4185, 4187], 3730: [4188, 4189], 3733: [4190, 4191, 4192], 3734: [4194, 4196], 3735: [4197, 4198, 4199, 4200], 3737: [4201, 4202, 4203], 3738: [4204, 4205], 3743: [4206, 4207], 3744: [4208], 3745: [4209, 4211], 3746: [4212, 4213, 4214], 3750: [4216, 4217, 4218], 3751: [4219, 4220, 4221], 3753: [4222, 4223, 4224], 3759: [4225, 4226], 3764: [4230, 4231], 3766: [4233], 3769: [4236, 4237, 4238, 4239], 3770: [4242], 3772: [4245, 4246, 4248, 4249], 3773: [4250, 4251], 3774: [4253], 3778: [4254], 3782: [4257], 3788: [4258, 4259, 4260], 3789: [4261, 4262, 4263], 3794: [4264, 4265], 3798: [4266], 3803: [4268, 4269, 4270, 4273, 4274], 3808: [4283], 3811: [4285], 3812: [4286, 4287, 4289], 3814: [4290, 4291], 3820: [4292], 3821: [4293, 4294, 4295], 3833: [4298, 4299], 3834: [4301, 4302], 3836: [4303], 3840: [4304], 3842: [4305], 3843: [4307], 3850: [4309, 4310], 3853: [4311, 4312, 4313], 3860: [4316, 4317], 3862: [4318, 4319, 4320], 3872: [4321, 4322, 4323], 3876: [4325, 4326], 3884: [4329], 3885: [4331, 4332], 3886: [4333, 4334], 3888: [4335], 3893: [4338, 4339], 3898: [4342], 3899: [4343, 4344], 3901: [4345, 4346], 3902: [4347, 4348, 4350], 3903: [4351, 4352, 4353], 3905: [4354, 4355, 4356], 3906: [4357, 4358, 4359], 3911: [4361], 3912: [4362], 3913: [4363, 4364], 3918: [4366, 4367], 3919: [4369], 3921: [4370, 4371], 3925: [4375, 4376, 4377, 4378, 4379], 3927: [4382], 3932: [4385, 4386], 3933: [4387], 3938: [4388, 4389], 3940: [4390], 3941: [4393], 3944: [4394, 4395], 3946: [4397, 4398], 3947: [4399, 4400], 3953: [4401], 3954: [4403, 4404], 3956: [4405, 4406, 4407], 3957: [4409, 4410, 4411, 4412], 3959: [4414, 4415], 3961: [4416, 4417], 3965: [4419], 3968: [4421, 4423], 3972: [4424, 4425], 3973: [4426, 4427], 3976: [4430, 4431], 3980: [4432], 3982: [4435], 3983: [4436], 3984: [4437, 4438, 4441], 3986: [4446, 4447], 3987: [4448, 4449], 3988: [4450, 4451], 3991: [4452, 4453], 3993: [4455, 4456], 3994: [4457, 4458, 4459, 4460, 4461], 3996: [4462], 3997: [4465], 4001: [4466, 4467, 4468], 4005: [4470], 4006: [4471], 4007: [4473], 4009: [4478, 4479, 4480], 4010: [4482, 4483, 4484], 4012: [4485], 4013: [4487, 4488, 4489], 4014: [4490, 4491, 4492], 4017: [4493, 4494], 4018: [4497, 4498, 4500], 4020: [4501, 4503], 4021: [4504, 4505, 4507, 4508, 4509], 4023: [4510, 4511, 4512, 4513], 4026: [4514, 4515, 4516], 4027: [4517, 4518, 4520, 4521, 4522, 4523], 4030: [4524, 4526, 4527], 4031: [4528, 4529, 4530], 4034: [4531, 4532, 4534, 4535], 4041: [4537], 4042: [4538, 4539, 4540], 4045: [4541, 4542], 4046: [4543], 4047: [4544, 4546], 4055: [4549, 4550], 4057: [4552, 4553], 4063: [4555, 4557, 4559], 4065: [4560], 4066: [4561], 4068: [4562], 4072: [4563], 4074: [4567, 4568], 4075: [4569], 4078: [4570, 4571], 4079: [4573], 4080: [4575, 4576], 4081: [4578, 4579, 4580], 4086: [4581, 4582], 4088: [4584], 4092: [4586, 4587], 4093: [4589, 4590], 4097: [4594, 4595], 4100: [4597], 4101: [4598, 4599], 4102: [4600, 4601], 4105: [4604, 4605], 4110: [4606, 4607, 4608, 4610], 4114: [4613, 4614], 4115: [4615, 4616], 4122: [4618, 4620, 4622], 4123: [4623], 4130: [4624], 4131: [4625], 4132: [4626], 4134: [4628, 4629], 4150: [4634, 4635, 4636], 4153: [4637], 4154: [4642], 4156: [4647, 4648], 4163: [4649, 4650], 4164: [4651, 4652], 4167: [4653], 4168: [4654, 4655, 4656, 4657], 4169: [4659, 4662], 4171: [4663, 4664, 4665, 4666], 4175: [4668, 4669, 4670, 4672], 4184: [4675, 4677], 4192: [4678, 4679], 4193: [4681, 4682], 4196: [4685, 4687], 4197: [4688, 4689], 4198: [4691], 4199: [4695], 4203: [4697, 4698], 4207: [4704, 4706], 4209: [4709, 4710], 4213: [4711, 4712], 4214: [4713, 4714, 4718], 4217: [4719, 4720], 4224: [4723, 4724], 4228: [4725, 4726, 4728, 4730], 4229: [4732], 4231: [4737, 4738], 4232: [4741], 4243: [4743], 4246: [4746, 4749, 4754], 4249: [4755, 4756, 4757], 4251: [4758, 4759, 4760, 4762], 4254: [4763], 4260: [4768, 4769], 4266: [4770, 4771, 4772], 4269: [4773, 4774, 4778], 4277: [4779], 4285: [4782, 4783, 4784], 4289: [4786, 4791], 4291: [4795, 4798, 4799], 4292: [4800, 4801], 4293: [4802, 4803, 4804, 4806], 4294: [4809, 4810, 4811], 4297: [4813], 4298: [4814, 4815, 4816], 4300: [4818, 4819], 4301: [4821, 4824], 4302: [4827, 4828], 4303: [4829, 4831], 4305: [4832, 4833], 4306: [4834, 4835], 4308: [4836, 4838, 4840], 4310: [4841, 4843], 4311: [4844], 4313: [4846], 4319: [4850], 4321: [4851, 4852, 4853], 4325: [4854], 4327: [4855, 4856], 4330: [4857, 4858], 4332: [4859], 4335: [4860, 4861, 4863, 4864], 4338: [4866, 4867, 4868], 4341: [4873, 4874, 4875], 4342: [4878], 4352: [4879], 4355: [4881], 4359: [4883], 4365: [4884, 4885, 4886, 4887, 4888], 4366: [4891], 4370: [4893], 4375: [4897], 4376: [4899, 4900], 4377: [4901], 4380: [4904, 4906, 4909], 4381: [4910, 4911], 4387: [4912, 4914, 4915], 4388: [4919, 4920], 4391: [4921], 4394: [4924, 4925], 4397: [4927], 4399: [4929, 4930, 4931], 4400: [4933, 4934], 4401: [4936], 4411: [4937, 4938, 4939, 4940], 4412: [4941, 4942], 4416: [4947, 4948], 4418: [4950], 4420: [4951], 4422: [4952, 4953, 4954, 4955], 4423: [4956, 4958], 4431: [4960, 4961, 4962, 4963], 4432: [4964], 4437: [4965, 4966, 4967, 4968, 4969], 4439: [4970, 4971], 4440: [4972, 4975], 4441: [4977], 4446: [4980], 4447: [4982, 4983, 4984], 4450: [4985], 4455: [4989], 4457: [4990, 4991, 4992], 4459: [4993, 4994, 4995], 4461: [4996, 4997, 4998], 4462: [4999], 4463: [5000, 5001, 5002, 5003], 4464: [5005, 5007, 5008], 4469: [5010], 4471: [5014, 5015], 4472: [5016], 4475: [5018, 5019], 4479: [5020, 5021, 5022], 4480: [5027, 5028, 5029, 5030], 4486: [5032], 4487: [5035], 4488: [5042, 5043], 4490: [5044], 4495: [5047, 5049], 4496: [5050, 5051], 4499: [5052, 5053], 4503: [5056, 5058, 5059], 4504: [5060, 5062, 5063], 4506: [5064, 5065], 4511: [5068, 5069], 4512: [5072, 5073], 4514: [5074, 5075, 5076], 4515: [5078, 5079, 5080], 4523: [5081], 4525: [5083], 4528: [5084, 5085, 5086], 4534: [5087], 4536: [5088], 4544: [5090, 5092], 4545: [5093], 4548: [5095, 5096, 5097, 5098, 5099], 4549: [5100, 5101], 4551: [5103, 5104], 4553: [5105, 5106], 4555: [5107], 4558: [5111], 4561: [5112, 5114], 4562: [5115], 4563: [5116, 5117], 4570: [5124], 4571: [5125], 4577: [5127, 5128, 5129], 4578: [5131, 5132], 4579: [5133, 5134], 4590: [5135, 5136, 5137], 4593: [5140, 5142], 4598: [5143], 4601: [5145], 4604: [5146, 5147], 4610: [5151, 5152], 4617: [5156, 5157], 4618: [5158], 4619: [5160, 5162, 5163, 5164], 4623: [5165, 5166, 5167], 4624: [5168, 5169], 4636: [5170, 5171, 5172, 5173, 5174, 5175], 4638: [5177, 5178, 5179], 4645: [5181], 4646: [5182, 5183], 4647: [5184, 5185], 4652: [5186], 4654: [5187, 5189], 4655: [5191, 5192], 4659: [5195, 5196], 4661: [5197, 5198, 5199, 5200], 4667: [5202, 5203, 5204, 5205], 4669: [5206], 4679: [5208], 4682: [5209, 5210], 4684: [5211, 5212], 4689: [5214], 4694: [5215, 5216, 5217], 4707: [5218, 5219], 4720: [5223], 4722: [5224], 4724: [5225, 5227], 4726: [5230, 5231, 5232, 5233], 4727: [5239], 4738: [5242], 4739: [5243, 5244], 4740: [5245], 4754: [5247], 4755: [5248, 5249], 4757: [5250, 5251, 5252], 4759: [5254], 4763: [5255, 5256], 4770: [5257], 4773: [5258, 5260], 4777: [5261], 4778: [5262], 4780: [5263, 5265], 4781: [5270], 4787: [5272, 5273], 4788: [5275, 5276], 4790: [5277, 5278, 5279], 4793: [5280], 4794: [5281, 5282], 4795: [5283], 4796: [5284, 5285, 5286, 5287], 4797: [5290], 4798: [5293], 4799: [5295, 5296], 4801: [5297], 4805: [5303, 5307], 4807: [5308, 5309], 4810: [5311], 4812: [5312], 4817: [5314], 4818: [5315], 4820: [5316], 4821: [5318, 5319, 5320], 4823: [5323], 4826: [5324, 5325], 4828: [5326], 4829: [5331, 5332], 4830: [5333], 4832: [5334, 5335], 4837: [5337, 5338], 4846: [5340, 5342], 4849: [5344, 5345, 5346, 5347], 4852: [5350], 4853: [5351], 4854: [5354], 4857: [5358], 4858: [5359, 5360], 4866: [5363, 5364, 5365], 4871: [5367, 5368], 4876: [5370], 4881: [5371, 5372, 5373], 4884: [5374, 5375], 4886: [5376, 5378], 4889: [5379, 5380, 5382], 4890: [5383], 4893: [5386, 5387, 5388], 4898: [5389, 5390], 4899: [5391], 4904: [5394, 5395, 5396], 4910: [5397, 5399], 4912: [5400, 5401, 5402, 5403], 4913: [5404], 4914: [5406, 5407], 4919: [5410, 5411], 4921: [5414, 5415], 4923: [5417, 5418, 5420], 4926: [5422, 5423, 5425, 5428], 4928: [5429, 5430, 5431], 4929: [5434, 5435, 5436], 4932: [5438], 4934: [5440, 5441, 5442], 4937: [5444], 4938: [5445, 5446], 4940: [5447], 4946: [5449, 5450], 4947: [5452, 5453], 4951: [5454, 5455], 4953: [5456, 5457], 4955: [5458], 4957: [5459, 5460, 5461], 4964: [5463, 5464, 5465, 5466, 5467, 5468], 4966: [5469, 5470], 4968: [5471, 5473, 5474, 5475], 4972: [5480], 4973: [5482, 5483, 5484], 4983: [5487, 5488], 4984: [5490], 4986: [5491, 5492, 5493, 5494], 4987: [5495], 4989: [5497], 4991: [5501], 4993: [5503], 5002: [5504, 5505, 5506, 5507], 5003: [5508, 5509], 5004: [5511, 5513], 5012: [5515], 5013: [5516, 5518, 5519], 5015: [5520], 5017: [5521, 5524], 5018: [5525], 5023: [5528], 5025: [5530], 5026: [5532], 5028: [5533], 5030: [5534], 5031: [5535, 5537], 5033: [5539], 5036: [5540, 5541], 5038: [5546], 5041: [5547, 5549], 5042: [5550], 5046: [5552, 5553], 5048: [5555, 5556], 5053: [5558], 5054: [5559, 5560], 5056: [5561, 5562], 5060: [5564, 5565, 5567], 5064: [5568], 5065: [5569], 5066: [5570, 5571, 5572], 5067: [5574, 5575], 5070: [5576, 5577, 5578], 5073: [5580], 5074: [5581, 5582, 5583], 5076: [5587], 5080: [5589], 5082: [5590], 5083: [5591, 5592], 5084: [5594], 5098: [5596], 5099: [5597], 5108: [5600, 5601, 5602], 5109: [5603, 5604], 5118: [5605, 5606, 5607], 5123: [5608], 5126: [5610, 5613, 5614], 5127: [5615, 5616], 5128: [5617, 5618, 5620], 5129: [5621], 5139: [5623], 5143: [5625, 5626], 5145: [5627], 5147: [5628], 5151: [5631], 5152: [5634, 5635], 5158: [5636, 5637, 5638, 5639], 5167: [5643, 5645], 5168: [5646, 5647, 5648, 5649], 5171: [5650, 5651, 5652], 5172: [5653, 5654], 5177: [5656], 5182: [5658, 5660, 5661], 5187: [5662], 5189: [5665, 5666, 5667], 5194: [5668, 5669], 5200: [5673, 5675, 5676, 5677], 5201: [5678, 5679, 5680], 5205: [5681, 5682, 5683, 5684], 5206: [5685, 5686, 5687], 5209: [5688, 5689], 5210: [5690, 5691], 5212: [5692, 5693, 5694], 5220: [5698, 5699], 5222: [5700, 5702], 5224: [5705], 5225: [5706, 5707], 5236: [5708], 5238: [5712, 5714], 5243: [5715, 5716], 5248: [5717, 5719, 5720], 5249: [5721, 5724], 5254: [5725, 5727, 5728], 5255: [5729, 5730], 5260: [5731], 5263: [5732, 5734], 5267: [5735, 5736, 5737], 5268: [5742, 5743, 5744, 5745, 5746, 5747], 5269: [5749, 5750], 5270: [5751, 5752], 5271: [5754, 5755, 5758], 5272: [5759, 5762, 5765, 5769], 5273: [5773, 5774], 5276: [5775, 5776], 5278: [5777], 5279: [5778, 5779, 5780, 5781], 5287: [5783, 5784], 5289: [5785], 5292: [5786], 5295: [5787, 5788, 5789], 5297: [5790, 5791], 5312: [5796, 5797], 5314: [5799], 5316: [5801, 5802], 5317: [5804, 5805, 5806], 5322: [5807, 5808, 5809, 5810, 5811], 5324: [5812, 5813, 5814], 5325: [5816, 5817, 5818], 5327: [5820], 5331: [5823], 5333: [5825], 5335: [5826], 5336: [5828, 5829], 5339: [5830, 5831], 5340: [5832, 5833, 5834, 5835], 5345: [5836], 5346: [5839, 5840], 5349: [5842, 5844, 5845], 5351: [5848, 5849, 5850], 5353: [5852], 5356: [5853, 5854, 5855], 5358: [5856, 5857], 5359: [5860], 5361: [5861, 5862, 5863, 5864], 5365: [5865], 5367: [5866, 5867], 5370: [5868, 5870], 5371: [5871], 5377: [5874, 5875], 5378: [5877, 5878], 5384: [5883, 5885], 5386: [5888, 5889, 5892], 5387: [5893], 5390: [5894], 5392: [5896, 5897, 5898], 5396: [5899, 5900, 5901, 5902, 5903, 5904], 5398: [5905, 5906, 5907], 5400: [5908], 5401: [5910], 5405: [5915], 5406: [5917, 5918], 5413: [5920, 5922], 5418: [5923, 5924], 5422: [5925, 5926], 5424: [5929, 5930], 5427: [5932, 5933, 5936], 5428: [5939, 5942], 5432: [5944, 5945], 5435: [5947, 5949], 5436: [5950, 5951], 5438: [5959, 5960], 5444: [5964, 5965, 5967], 5445: [5968], 5453: [5969, 5970, 5971], 5455: [5972], 5457: [5973, 5974, 5975], 5459: [5978, 5979, 5980], 5460: [5981, 5982], 5464: [5984, 5985], 5465: [5986, 5987], 5466: [5988, 5989, 5991, 5992], 5468: [5993, 5994], 5470: [5996, 5997, 5998], 5471: [5999, 6000], 5473: [6001, 6002], 5479: [6003, 6004], 5482: [6005, 6006], 5485: [6007], 5487: [6008, 6009], 5488: [6010], 5489: [6011, 6012, 6013], 5493: [6014, 6015], 5495: [6016, 6017, 6018], 5496: [6020], 5498: [6021, 6022], 5499: [6023], 5501: [6024], 5502: [6025, 6026], 5504: [6027, 6028], 5506: [6030, 6032], 5507: [6034, 6035, 6036], 5509: [6037, 6039, 6040], 5510: [6041, 6043, 6044], 5513: [6045, 6046, 6047], 5519: [6048], 5528: [6050], 5532: [6053, 6054], 5533: [6055, 6056, 6057], 5534: [6059, 6060], 5535: [6061, 6062], 5536: [6063, 6064], 5537: [6065, 6066], 5538: [6067], 5540: [6068, 6069, 6071, 6072, 6073], 5542: [6075, 6076], 5543: [6077, 6078], 5545: [6080, 6081], 5547: [6082, 6083, 6084], 5554: [6087, 6088], 5559: [6089, 6090, 6091], 5562: [6093], 5564: [6094], 5566: [6095, 6097], 5573: [6099, 6100, 6101], 5576: [6104], 5580: [6107, 6108, 6110, 6111], 5581: [6112], 5583: [6113, 6114, 6116, 6117], 5585: [6120], 5586: [6121, 6122, 6123], 5587: [6124], 5589: [6125, 6127], 5590: [6130], 5592: [6131, 6132, 6133], 5595: [6136, 6138], 5596: [6139, 6141], 5597: [6143], 5598: [6144, 6145, 6146, 6147], 5600: [6149], 5601: [6151, 6153], 5607: [6154], 5608: [6156], 5609: [6157, 6158], 5610: [6160, 6161], 5611: [6162, 6163, 6164, 6165, 6166, 6167], 5616: [6172], 5620: [6175, 6176, 6177, 6178, 6179, 6180], 5627: [6181, 6182], 5630: [6183, 6184, 6185, 6186, 6187], 5631: [6188, 6189], 5638: [6190, 6191], 5641: [6192], 5644: [6196], 5646: [6197, 6198], 5647: [6199], 5650: [6200], 5652: [6203, 6204, 6205], 5654: [6207], 5656: [6209, 6210], 5660: [6211, 6213], 5664: [6214, 6215, 6216, 6217], 5665: [6218, 6219], 5669: [6221, 6222], 5674: [6225], 5676: [6227, 6228], 5677: [6231, 6232, 6233], 5682: [6234, 6235], 5685: [6236, 6243, 6244], 5688: [6245, 6248, 6249], 5689: [6250, 6251], 5691: [6252, 6253, 6254], 5693: [6255, 6256], 5694: [6257], 5697: [6259], 5699: [6263, 6268], 5702: [6269], 5706: [6270, 6272, 6273], 5712: [6275, 6276], 5719: [6277, 6278, 6279], 5720: [6280, 6281], 5722: [6282, 6283], 5726: [6289], 5728: [6292, 6293, 6294], 5730: [6295, 6296], 5731: [6298], 5732: [6301, 6302], 5734: [6303, 6304, 6305], 5735: [6306], 5737: [6308, 6309], 5741: [6311], 5743: [6313], 5744: [6314], 5747: [6321, 6322], 5750: [6323, 6324], 5751: [6326, 6327, 6328], 5757: [6329, 6330, 6332, 6333, 6334], 5762: [6337, 6338], 5763: [6339, 6340, 6341, 6342, 6343], 5765: [6344, 6345, 6346, 6347, 6348], 5767: [6349, 6350, 6351, 6352, 6353], 5769: [6355, 6356, 6357], 5773: [6359, 6360, 6361], 5774: [6362, 6363], 5775: [6365, 6366, 6367], 5777: [6368, 6369], 5785: [6373], 5788: [6375], 5790: [6377, 6378, 6379, 6380], 5791: [6382], 5792: [6383], 5794: [6385], 5796: [6386, 6387], 5799: [6388, 6390], 5800: [6391, 6392], 5801: [6393, 6394], 5803: [6395], 5807: [6396, 6397, 6398], 5808: [6401, 6402, 6403], 5809: [6405, 6406, 6407, 6409], 5814: [6410, 6411], 5820: [6414], 5821: [6416], 5823: [6417], 5824: [6419, 6420, 6421, 6422, 6423], 5825: [6424], 5826: [6426, 6427], 5828: [6428, 6430], 5832: [6432, 6433, 6436], 5834: [6437, 6438, 6440, 6441], 5836: [6443, 6444, 6445, 6446], 5840: [6447, 6448], 5842: [6449, 6450], 5846: [6456], 5849: [6458, 6459], 5857: [6461, 6463], 5862: [6465], 5863: [6468, 6469], 5867: [6470, 6471, 6472], 5872: [6475], 5879: [6477], 5880: [6480, 6481, 6482, 6483], 5885: [6484, 6485], 5886: [6486], 5888: [6487, 6488], 5891: [6490], 5893: [6491], 5894: [6493, 6494], 5897: [6495], 5898: [6498, 6499], 5901: [6500, 6501], 5902: [6502], 5904: [6503, 6504, 6505], 5905: [6506, 6507, 6508], 5911: [6512, 6513, 6514, 6515], 5912: [6516], 5917: [6517, 6518], 5923: [6519, 6520], 5924: [6524], 5926: [6525, 6526], 5927: [6527], 5930: [6529], 5931: [6532], 5936: [6534, 6537], 5941: [6539, 6540], 5943: [6541], 5944: [6544], 5947: [6545, 6546], 5948: [6548], 5949: [6550, 6551, 6552], 5951: [6553], 5954: [6555], 5956: [6559], 5957: [6561], 5962: [6562], 5964: [6564], 5965: [6565, 6566, 6567], 5966: [6568, 6569], 5967: [6570], 5968: [6571], 5969: [6572, 6573, 6574], 5973: [6578, 6579, 6580, 6581, 6582], 5976: [6584, 6585], 5977: [6588], 5980: [6591, 6592, 6593, 6594, 6595], 5981: [6597, 6598], 5982: [6599, 6600, 6601], 5984: [6602], 5987: [6605, 6606], 5990: [6607, 6608], 5991: [6609, 6610, 6611, 6612, 6613], 5992: [6614, 6615, 6617], 5999: [6620, 6621, 6622], 6001: [6624], 6004: [6632, 6633, 6634], 6005: [6635, 6636], 6006: [6637, 6638, 6639], 6008: [6641], 6010: [6642, 6645], 6014: [6646, 6647], 6020: [6651], 6021: [6653], 6022: [6654, 6655, 6656], 6023: [6657, 6658, 6659], 6026: [6660], 6029: [6662, 6664, 6666], 6036: [6667, 6668], 6037: [6669, 6670], 6044: [6671, 6672, 6673], 6046: [6674, 6676, 6679, 6680], 6047: [6682, 6683, 6684, 6685, 6686, 6689], 6048: [6690, 6691], 6051: [6692, 6695, 6696, 6697], 6052: [6699, 6700], 6059: [6701], 6060: [6704, 6706, 6707, 6708], 6065: [6709], 6072: [6710], 6073: [6711, 6712], 6077: [6713, 6714, 6716], 6081: [6718, 6719, 6720, 6721], 6083: [6722], 6088: [6723, 6724], 6090: [6725], 6091: [6726, 6727], 6096: [6732, 6733], 6098: [6735], 6106: [6738, 6740], 6109: [6741], 6112: [6742, 6743, 6744, 6745, 6746, 6747, 6748, 6749], 6113: [6750, 6751], 6116: [6752], 6117: [6753, 6754], 6122: [6755, 6756], 6123: [6757, 6758, 6759], 6126: [6760, 6761], 6130: [6763, 6764], 6131: [6766, 6767, 6768, 6769], 6140: [6772], 6141: [6774], 6144: [6775, 6776], 6145: [6777, 6778], 6147: [6779, 6780, 6781], 6149: [6782], 6154: [6783, 6784], 6155: [6786, 6787], 6156: [6788, 6789], 6157: [6791, 6792], 6161: [6795, 6796], 6162: [6797, 6798], 6164: [6799], 6168: [6802, 6803, 6805], 6177: [6807, 6808], 6179: [6809], 6184: [6810, 6811], 6187: [6813, 6815], 6188: [6817], 6193: [6820, 6821, 6822], 6194: [6823, 6826, 6828], 6197: [6829, 6830], 6204: [6831], 6206: [6832, 6833], 6209: [6834], 6210: [6836, 6837], 6212: [6838, 6839], 6214: [6840], 6220: [6845, 6846], 6221: [6849, 6850], 6222: [6851, 6852], 6226: [6855, 6857, 6858], 6229: [6859, 6860, 6861, 6862, 6863], 6230: [6864, 6865], 6235: [6866, 6867], 6238: [6868], 6240: [6869], 6242: [6871], 6243: [6872, 6873, 6874, 6876, 6877, 6878], 6246: [6879, 6880, 6881], 6248: [6882, 6883, 6884], 6250: [6886, 6887], 6251: [6889, 6890], 6254: [6891, 6892], 6255: [6893], 6256: [6894, 6895], 6259: [6896, 6897], 6264: [6899, 6900, 6901], 6268: [6903, 6904], 6270: [6908, 6909], 6276: [6919], 6277: [6924, 6928], 6280: [6931], 6281: [6932, 6933], 6282: [6934], 6289: [6935], 6291: [6936, 6937], 6292: [6938], 6294: [6939, 6940, 6943], 6297: [6946, 6947, 6949, 6950, 6953, 6954], 6299: [6958], 6303: [6961, 6962], 6307: [6968, 6969], 6308: [6970, 6971, 6972, 6973, 6974], 6309: [6975], 6317: [6978, 6979], 6320: [6981], 6323: [6982], 6324: [6983, 6984], 6329: [6986, 6987], 6330: [6989], 6331: [6994, 6995], 6335: [6996, 6997, 6998], 6339: [6999, 7000, 7001], 6340: [7002, 7003, 7005], 6342: [7007], 6348: [7010, 7011, 7012, 7013], 6349: [7014, 7015, 7016], 6351: [7018], 6360: [7019], 6370: [7020], 6371: [7021, 7022], 6384: [7034, 7035], 6386: [7036, 7037, 7038], 6392: [7039, 7041], 6393: [7044, 7045], 6396: [7047, 7048], 6397: [7049, 7050, 7054, 7055], 6402: [7056, 7057, 7059, 7060], 6405: [7061, 7062], 6406: [7064], 6407: [7065, 7066], 6409: [7068, 7069], 6412: [7070, 7071], 6413: [7073], 6414: [7075, 7077], 6415: [7078], 6417: [7079], 6420: [7080], 6423: [7081, 7082], 6426: [7084, 7085], 6429: [7086, 7087], 6430: [7089], 6431: [7091, 7093], 6438: [7095, 7096, 7097], 6441: [7100, 7102], 6444: [7106, 7107, 7108], 6445: [7112], 6450: [7123, 7124, 7125], 6454: [7126], 6458: [7128], 6459: [7130], 6464: [7131, 7132, 7133, 7134], 6471: [7137], 6473: [7138, 7139], 6481: [7141, 7143, 7144, 7146], 6484: [7149, 7150, 7151], 6486: [7153, 7154, 7155], 6488: [7156], 6495: [7157], 6496: [7158, 7161], 6497: [7163, 7165], 6499: [7170], 6500: [7171], 6503: [7172, 7173, 7174, 7175, 7176, 7177, 7178], 6504: [7183], 6506: [7185], 6510: [7189], 6511: [7190, 7191, 7192], 6513: [7193], 6515: [7194], 6519: [7198], 6520: [7200], 6522: [7201, 7202], 6524: [7204, 7205, 7206, 7210], 6527: [7211, 7212], 6542: [7214, 7215], 6544: [7217, 7218], 6545: [7219, 7220, 7221, 7222, 7223, 7224, 7225], 6547: [7226, 7227, 7228], 6548: [7229], 6551: [7232, 7233, 7234], 6552: [7236], 6553: [7238, 7241], 6557: [7243, 7244, 7245], 6558: [7247], 6560: [7249, 7250, 7251, 7253], 6561: [7255, 7256, 7257], 6562: [7258, 7259], 6571: [7260, 7261], 6576: [7262], 6577: [7267], 6579: [7268], 6581: [7269, 7271, 7272], 6582: [7273, 7276, 7277], 6585: [7278, 7279, 7280, 7282], 6592: [7283, 7284, 7285], 6597: [7287], 6601: [7289, 7290], 6603: [7291], 6604: [7293, 7294, 7295], 6607: [7296, 7297], 6614: [7298, 7299], 6621: [7300], 6622: [7302], 6623: [7303, 7305], 6627: [7306, 7307], 6628: [7308, 7309], 6631: [7310, 7311, 7312], 6633: [7314], 6636: [7322], 6637: [7323, 7324], 6641: [7325, 7326], 6643: [7327], 6644: [7329, 7331, 7333], 6645: [7335, 7336], 6646: [7337], 6647: [7338], 6648: [7340, 7341], 6651: [7342], 6652: [7343, 7350], 6659: [7351, 7352, 7354], 6660: [7356, 7357, 7358], 6674: [7361, 7363, 7364], 6677: [7365], 6678: [7367, 7368, 7370], 6679: [7371, 7372, 7374], 6680: [7375], 6681: [7376, 7377], 6687: [7380, 7381], 6689: [7382, 7383], 6692: [7384], 6694: [7386, 7387], 6699: [7388, 7390, 7391, 7392, 7395, 7396], 6705: [7398, 7399, 7400], 6707: [7401, 7402, 7403], 6709: [7406], 6712: [7409, 7410], 6715: [7412, 7413, 7415], 6716: [7416, 7417], 6719: [7420, 7421], 6723: [7423], 6725: [7424, 7425], 6731: [7426, 7427], 6733: [7428, 7430, 7431], 6740: [7432, 7434], 6742: [7436], 6745: [7437, 7438, 7439, 7440], 6747: [7441], 6748: [7443, 7444], 6750: [7445, 7446], 6753: [7447], 6760: [7454, 7455, 7456, 7457], 6763: [7458, 7459], 6764: [7460], 6768: [7467, 7468, 7469], 6777: [7472], 6782: [7478], 6785: [7479], 6787: [7481, 7482, 7483, 7484, 7485], 6790: [7487], 6792: [7488], 6793: [7489, 7490], 6796: [7491, 7492], 6798: [7493, 7494], 6799: [7495, 7496], 6806: [7502, 7503, 7504, 7505], 6807: [7506, 7507], 6808: [7510], 6812: [7512], 6814: [7513, 7514], 6815: [7516, 7518], 6817: [7519, 7520], 6827: [7522, 7523], 6828: [7525], 6829: [7526, 7527, 7528], 6837: [7529, 7531, 7532, 7534], 6838: [7535, 7536, 7537], 6839: [7538], 6840: [7539, 7540, 7541, 7542], 6846: [7543, 7544, 7545], 6847: [7546], 6848: [7548], 6851: [7551], 6853: [7559, 7560, 7561], 6856: [7562, 7563, 7564], 6857: [7567], 6863: [7568, 7569], 6874: [7571, 7573, 7574], 6875: [7575, 7576], 6877: [7577, 7579], 6891: [7583], 6894: [7584, 7585], 6896: [7586, 7590, 7591, 7592], 6897: [7593, 7594], 6900: [7596], 6901: [7597, 7598], 6902: [7599], 6908: [7601], 6910: [7603, 7604], 6912: [7605, 7606], 6922: [7610, 7611], 6927: [7612], 6928: [7613], 6929: [7615, 7616, 7617], 6933: [7618], 6936: [7620, 7621], 6944: [7623, 7624], 6949: [7625, 7626, 7627], 6951: [7630, 7631], 6953: [7632, 7633], 6956: [7635], 6957: [7637], 6965: [7638, 7639], 6967: [7641, 7642, 7643], 6968: [7644, 7645, 7646], 6971: [7647, 7648], 6972: [7650, 7652, 7653], 6977: [7654], 6990: [7655, 7656, 7657], 6995: [7659, 7660], 6997: [7661, 7663, 7665], 7000: [7669], 7007: [7670, 7671], 7008: [7673, 7674, 7675, 7676, 7677], 7011: [7679], 7014: [7682], 7015: [7683], 7029: [7684], 7032: [7685, 7686, 7687], 7035: [7688, 7689, 7690], 7040: [7691, 7692, 7694], 7041: [7696], 7046: [7700, 7701], 7050: [7702], 7051: [7703, 7704, 7705], 7055: [7706, 7708, 7709], 7056: [7713, 7714], 7058: [7715], 7059: [7716, 7717, 7718, 7719], 7069: [7720], 7075: [7722, 7723], 7076: [7724, 7725], 7078: [7726, 7728, 7729, 7730], 7080: [7732, 7734, 7735], 7081: [7736], 7084: [7741, 7742, 7743, 7744], 7085: [7745, 7746], 7090: [7747], 7096: [7748], 7107: [7749, 7750], 7109: [7751, 7752, 7753], 7110: [7755, 7758], 7111: [7761, 7762], 7113: [7763, 7764, 7766, 7767], 7116: [7769, 7770, 7771, 7772], 7117: [7773, 7774, 7775], 7118: [7776, 7777, 7778, 7779], 7123: [7780], 7125: [7781, 7782], 7126: [7783], 7127: [7785, 7786], 7130: [7787, 7788], 7137: [7789, 7795], 7138: [7797, 7798], 7139: [7799], 7140: [7800, 7801], 7141: [7802], 7142: [7811, 7812, 7814], 7143: [7817], 7146: [7818], 7151: [7819], 7153: [7820, 7821, 7822], 7156: [7823], 7158: [7824, 7825], 7161: [7827, 7828], 7168: [7830, 7831, 7832], 7170: [7836, 7837], 7177: [7838, 7839, 7840], 7183: [7841, 7842], 7184: [7844], 7192: [7845, 7846], 7193: [7849, 7850], 7197: [7852], 7199: [7853, 7854], 7200: [7857, 7858, 7859, 7860], 7204: [7862], 7208: [7864, 7865, 7867], 7210: [7873], 7214: [7874, 7875], 7215: [7876, 7877], 7216: [7879, 7880], 7218: [7881, 7882], 7222: [7885, 7886, 7887, 7889], 7226: [7890, 7891], 7228: [7893, 7894, 7896], 7238: [7900, 7901], 7241: [7903, 7904, 7905], 7244: [7906], 7248: [7907], 7249: [7908, 7909], 7254: [7911], 7258: [7913, 7915, 7916], 7262: [7920, 7921], 7263: [7922, 7923, 7924, 7925, 7926], 7271: [7927, 7928], 7275: [7929, 7932], 7277: [7934, 7935], 7278: [7938], 7280: [7940], 7281: [7943, 7945, 7946], 7283: [7947, 7948, 7949], 7289: [7950], 7291: [7952, 7953], 7294: [7954, 7955], 7300: [7956], 7303: [7957, 7958, 7959, 7961], 7304: [7962], 7305: [7964, 7965, 7966], 7306: [7967, 7968, 7969, 7970, 7971], 7307: [7972, 7973], 7309: [7975, 7976, 7977], 7320: [7981], 7327: [7984], 7330: [7985], 7331: [7986], 7332: [7990, 7991], 7333: [7997, 7998], 7341: [8002, 8003, 8004], 7342: [8005], 7343: [8006, 8007, 8008, 8009], 7346: [8010, 8011], 7349: [8012], 7351: [8015, 8016, 8017], 7354: [8020, 8021, 8022, 8023, 8024], 7356: [8028, 8033, 8034], 7357: [8035, 8036], 7358: [8038], 7361: [8039, 8040, 8041], 7367: [8042, 8043, 8044], 7370: [8045], 7372: [8046, 8047, 8048], 7373: [8049], 7376: [8052, 8053], 7383: [8054], 7386: [8055, 8056], 7387: [8058, 8060], 7392: [8061, 8062, 8063, 8064], 7397: [8066, 8067], 7399: [8069, 8070], 7402: [8071, 8073], 7404: [8074], 7407: [8083, 8084], 7409: [8085, 8086], 7410: [8087, 8088], 7412: [8089], 7413: [8090], 7414: [8091, 8092], 7417: [8093, 8094, 8095, 8096, 8097, 8098, 8099], 7419: [8101, 8103, 8105], 7421: [8108, 8109, 8110], 7422: [8111], 7427: [8112, 8114], 7434: [8115, 8116, 8117], 7436: [8119], 7441: [8121, 8122, 8123, 8125], 7442: [8126], 7444: [8127, 8128, 8129, 8130, 8131, 8132, 8133], 7450: [8139, 8140], 7452: [8141], 7460: [8143], 7462: [8146], 7467: [8150], 7469: [8151], 7470: [8152, 8153], 7471: [8154], 7473: [8157, 8161, 8162], 7478: [8164, 8166, 8167], 7483: [8169], 7484: [8170, 8171, 8172], 7485: [8173], 7487: [8174, 8175], 7488: [8176], 7492: [8177, 8179], 7494: [8180, 8181, 8182], 7496: [8183, 8184, 8185], 7498: [8186], 7500: [8189], 7505: [8192], 7507: [8195, 8197], 7511: [8199], 7513: [8200, 8201], 7515: [8202, 8203, 8205], 7516: [8206, 8207], 7517: [8208, 8209], 7526: [8210], 7531: [8213, 8214, 8215], 7535: [8216, 8217], 7536: [8218], 7537: [8221, 8222], 7539: [8223, 8224], 7540: [8226], 7541: [8227, 8228], 7542: [8231, 8235, 8236], 7544: [8239], 7546: [8241], 7550: [8242, 8243], 7551: [8246, 8247], 7554: [8248, 8249], 7556: [8250, 8251], 7562: [8252, 8254], 7566: [8255, 8256, 8257], 7571: [8260, 8261], 7579: [8263, 8264], 7581: [8266], 7582: [8267, 8268, 8269], 7584: [8270, 8271], 7585: [8272, 8273], 7588: [8275], 7589: [8277, 8278], 7591: [8279], 7592: [8280, 8282], 7593: [8285], 7598: [8288], 7600: [8289, 8290, 8291, 8294], 7601: [8295, 8296], 7603: [8297], 7610: [8299, 8301], 7612: [8303], 7615: [8305, 8306, 8307], 7620: [8312, 8313, 8314], 7625: [8316], 7630: [8317, 8318], 7631: [8322, 8323], 7632: [8324, 8325], 7633: [8327], 7639: [8331], 7640: [8332, 8333], 7642: [8335], 7643: [8336, 8339, 8340], 7645: [8342, 8344], 7653: [8346, 8347, 8348], 7654: [8349], 7657: [8350, 8351, 8352], 7660: [8353, 8354, 8355], 7662: [8357, 8358], 7664: [8359, 8361], 7666: [8362, 8363, 8364, 8366], 7667: [8368], 7668: [8370, 8371, 8372], 7670: [8375, 8377], 7672: [8379, 8380], 7675: [8381], 7678: [8382, 8383], 7680: [8385, 8386], 7687: [8387, 8388], 7697: [8393], 7701: [8394], 7703: [8399], 7704: [8401], 7707: [8403, 8404], 7708: [8405, 8406], 7709: [8408, 8409], 7714: [8412], 7716: [8415], 7719: [8417, 8418, 8419], 7720: [8423, 8424, 8426], 7727: [8427], 7729: [8428, 8429], 7730: [8431, 8432], 7736: [8437, 8438], 7737: [8439], 7741: [8440, 8441, 8443], 7746: [8446, 8447, 8449], 7749: [8450, 8451, 8452], 7752: [8453, 8455, 8457], 7755: [8458, 8459, 8460], 7756: [8461, 8462], 7758: [8465, 8466], 7760: [8467, 8468, 8469], 7767: [8470, 8471, 8472], 7769: [8474, 8476], 7770: [8478, 8479, 8481, 8482, 8485], 7772: [8488, 8490, 8495], 7777: [8497], 7778: [8498, 8499], 7781: [8500, 8501], 7788: [8503, 8504], 7794: [8506, 8507, 8508], 7804: [8513], 7807: [8514, 8515, 8516], 7808: [8517, 8518], 7814: [8523, 8524], 7822: [8527], 7825: [8529, 8530], 7826: [8531], 7828: [8532], 7830: [8533, 8534], 7831: [8536, 8537], 7833: [8538], 7835: [8541, 8544], 7839: [8548], 7845: [8549, 8550, 8551], 7848: [8552, 8554], 7849: [8555], 7861: [8557, 8558, 8559, 8560], 7863: [8561, 8562], 7864: [8563], 7867: [8566, 8567, 8568], 7869: [8570], 7870: [8575, 8578], 7878: [8579], 7881: [8580], 7885: [8585, 8586, 8587], 7887: [8589, 8590], 7888: [8592], 7895: [8595], 7900: [8598], 7901: [8599], 7903: [8601, 8602], 7904: [8606], 7908: [8609], 7909: [8611, 8612, 8613, 8614, 8615, 8616, 8617], 7911: [8618], 7912: [8619, 8620], 7913: [8622, 8623], 7915: [8624, 8625, 8626, 8627], 7916: [8628, 8629], 7921: [8630, 8631, 8632], 7926: [8634, 8636, 8637], 7930: [8638], 7932: [8639], 7933: [8640], 7934: [8641], 7944: [8648, 8651], 7946: [8652], 7948: [8653], 7952: [8656, 8657, 8658, 8659], 7955: [8660, 8661, 8662, 8663], 7956: [8664, 8665, 8666, 8667], 7957: [8668], 7959: [8669], 7963: [8671, 8672], 7964: [8673, 8674], 7983: [8679], 7984: [8681, 8685, 8686], 7986: [8688, 8690, 8691], 7987: [8692, 8693], 7990: [8695, 8696], 7991: [8697], 7992: [8698, 8700], 7996: [8701, 8702, 8703], 7998: [8707, 8711], 8000: [8712, 8713, 8714], 8001: [8715, 8716], 8004: [8718], 8005: [8723, 8724, 8726], 8007: [8727], 8012: [8731, 8732], 8014: [8733, 8735], 8015: [8737], 8018: [8739, 8741, 8743, 8744], 8019: [8745], 8022: [8746, 8747], 8023: [8748], 8025: [8750, 8751, 8752, 8753], 8026: [8757], 8027: [8760], 8033: [8764], 8040: [8766], 8043: [8768], 8053: [8773], 8054: [8774], 8055: [8777], 8057: [8779, 8780, 8783, 8784, 8785, 8786], 8062: [8787, 8788, 8789], 8064: [8794, 8795], 8065: [8796, 8797], 8070: [8799], 8075: [8802, 8803], 8076: [8806, 8807, 8808, 8809], 8077: [8811], 8081: [8813, 8814], 8082: [8815, 8816], 8085: [8817], 8086: [8818], 8091: [8823, 8824, 8825], 8092: [8826, 8828], 8099: [8829], 8100: [8830, 8831, 8832], 8101: [8834], 8102: [8835, 8836], 8103: [8837, 8838], 8104: [8839, 8840, 8841], 8105: [8842, 8844], 8108: [8845, 8846, 8847], 8114: [8852, 8854, 8855], 8116: [8860], 8117: [8861, 8862, 8863], 8119: [8865], 8125: [8867, 8868], 8126: [8869, 8870], 8128: [8871, 8872], 8130: [8873, 8874], 8131: [8875, 8876, 8877, 8878], 8134: [8880], 8135: [8882, 8883, 8886], 8139: [8887, 8888, 8889], 8140: [8891, 8892, 8893], 8146: [8896], 8147: [8898, 8899, 8900], 8151: [8902], 8154: [8904, 8905], 8155: [8906, 8907], 8159: [8908, 8909, 8910], 8162: [8911, 8915], 8166: [8918], 8171: [8919], 8176: [8924], 8178: [8925, 8926, 8927], 8180: [8930, 8931, 8932], 8181: [8933], 8182: [8934], 8183: [8935, 8936, 8937, 8939], 8184: [8940, 8941, 8942], 8185: [8943, 8944], 8186: [8945, 8946], 8193: [8947, 8948], 8194: [8950], 8195: [8952], 8196: [8953], 8197: [8956], 8200: [8958], 8202: [8959], 8208: [8960], 8209: [8961, 8962, 8963], 8219: [8965, 8966], 8223: [8970, 8971, 8973], 8224: [8974, 8975], 8228: [8977, 8978], 8229: [8980], 8230: [8981, 8982, 8983, 8984], 8233: [8985, 8986], 8239: [8989, 8993], 8248: [8994, 8995, 8996], 8250: [8997, 8998], 8252: [8999, 9000], 8253: [9002], 8254: [9004, 9005, 9006, 9007], 8256: [9009], 8261: [9010], 8265: [9012, 9013], 8269: [9016], 8270: [9017, 9018, 9019], 8273: [9020, 9022], 8274: [9023, 9024], 8279: [9026, 9027, 9028, 9029], 8288: [9030, 9031, 9032], 8290: [9033], 8292: [9034], 8296: [9035, 9036], 8298: [9039], 8300: [9042], 8301: [9043], 8303: [9045, 9046, 9047, 9048], 8308: [9050, 9051, 9052], 8313: [9057, 9058], 8314: [9060], 8319: [9062, 9064], 8322: [9067], 8326: [9068, 9070, 9071], 8327: [9072, 9074], 8328: [9075, 9076, 9077], 8330: [9078, 9079], 8336: [9080], 8337: [9081, 9082], 8339: [9083, 9084, 9085], 8345: [9087, 9089], 8347: [9090, 9091], 8348: [9092, 9093, 9094], 8349: [9095, 9098, 9099], 8352: [9102, 9104], 8355: [9105, 9106, 9108], 8357: [9109], 8360: [9110, 9112], 8361: [9114, 9116], 8362: [9117, 9118], 8366: [9120, 9122], 8374: [9124, 9125], 8377: [9126], 8378: [9128, 9129, 9130], 8380: [9131, 9132], 8383: [9133], 8389: [9136], 8391: [9137], 8392: [9140], 8393: [9143, 9144, 9145], 8394: [9146, 9147], 8397: [9150, 9151], 8398: [9152], 8399: [9153, 9154], 8405: [9155, 9156], 8409: [9157, 9158, 9159], 8410: [9160], 8416: [9162], 8418: [9163, 9165], 8421: [9167, 9169], 8422: [9171], 8432: [9173, 9174], 8434: [9175], 8439: [9176, 9177], 8440: [9178], 8442: [9180, 9181], 8443: [9182, 9183, 9184], 8448: [9185, 9186], 8449: [9187], 8452: [9189, 9190], 8454: [9193, 9197], 8455: [9199, 9200, 9201], 8464: [9203, 9204], 8473: [9207], 8475: [9209], 8476: [9210, 9212], 8477: [9214], 8478: [9215, 9216], 8481: [9218], 8483: [9222, 9223], 8486: [9224, 9225], 8488: [9229, 9230], 8490: [9231], 8491: [9232], 8495: [9233, 9235, 9238], 8506: [9241], 8508: [9242, 9244], 8513: [9245, 9246, 9247], 8514: [9248], 8517: [9250], 8518: [9252], 8520: [9255, 9256], 8524: [9257, 9258, 9260, 9261], 8528: [9263, 9264], 8529: [9265, 9266, 9267], 8531: [9271, 9272], 8532: [9273, 9274], 8534: [9278, 9279], 8538: [9280], 8542: [9282], 8545: [9284, 9285], 8546: [9288], 8549: [9289, 9290], 8552: [9291], 8553: [9292], 8554: [9293], 8555: [9294, 9295], 8559: [9300, 9301], 8561: [9306, 9307], 8564: [9309, 9310, 9311], 8571: [9312, 9313], 8575: [9317, 9318, 9319, 9320], 8576: [9322, 9323], 8577: [9324, 9325], 8582: [9328, 9329], 8585: [9333, 9334, 9335], 8589: [9337], 8595: [9338], 8596: [9339], 8598: [9341, 9343], 8599: [9345], 8600: [9346, 9348, 9349], 8601: [9351, 9353], 8602: [9354, 9355], 8603: [9358], 8605: [9359, 9360], 8606: [9361, 9362], 8610: [9363, 9364], 8616: [9366], 8620: [9370, 9371, 9372, 9373], 8622: [9376], 8624: [9377], 8625: [9378, 9379, 9380], 8628: [9381, 9382, 9384], 8629: [9385, 9386], 8636: [9387, 9388], 8638: [9389, 9390, 9392], 8639: [9394, 9395], 8641: [9396], 8644: [9398], 8650: [9402, 9403, 9404], 8651: [9405], 8652: [9406], 8653: [9407, 9408, 9409], 8654: [9410, 9411], 8656: [9412, 9413, 9414], 8658: [9417, 9418, 9419, 9420], 8661: [9421, 9422, 9423], 8662: [9424], 8672: [9426, 9428], 8674: [9429, 9430, 9431], 8675: [9432, 9433], 8677: [9434, 9437, 9438], 8679: [9439], 8681: [9441, 9442, 9443, 9444], 8682: [9446], 8691: [9449, 9450], 8693: [9451], 8696: [9452], 8699: [9454], 8701: [9456], 8702: [9457, 9458, 9460, 9461, 9465], 8709: [9468, 9469], 8713: [9472, 9473], 8714: [9476], 8715: [9478, 9479, 9480], 8718: [9481], 8720: [9483, 9484, 9485], 8722: [9486, 9487, 9489], 8724: [9491, 9492], 8727: [9493, 9494], 8728: [9497, 9498], 8731: [9499, 9500, 9501], 8733: [9502, 9503], 8735: [9504, 9505], 8737: [9506], 8740: [9507, 9508], 8743: [9510, 9511], 8748: [9512, 9513], 8755: [9514, 9515], 8757: [9517], 8759: [9519], 8760: [9521, 9522, 9523, 9524], 8763: [9525, 9526, 9528], 8766: [9529, 9530], 8767: [9531], 8773: [9534], 8775: [9537], 8782: [9538, 9539, 9540, 9541, 9542], 8783: [9543, 9544, 9545], 8784: [9546], 8785: [9547], 8797: [9552, 9553, 9555], 8800: [9557], 8802: [9561], 8808: [9562, 9563], 8811: [9564, 9566], 8812: [9567], 8817: [9568, 9569], 8819: [9570], 8827: [9572, 9573, 9574], 8830: [9575], 8831: [9576, 9577, 9578, 9579], 8835: [9582, 9585, 9586], 8838: [9587], 8839: [9588, 9589, 9590, 9591], 8841: [9593, 9594], 8844: [9597], 8845: [9598, 9599], 8846: [9602], 8847: [9604, 9605], 8848: [9606, 9607, 9608], 8850: [9610], 8856: [9611, 9614], 8857: [9615], 8859: [9616, 9617, 9618], 8861: [9621], 8865: [9622], 8866: [9624], 8867: [9626, 9627, 9628], 8869: [9633], 8871: [9635, 9636, 9637], 8872: [9638, 9640], 8874: [9641], 8880: [9642, 9643], 8881: [9644, 9645], 8887: [9650, 9651, 9652], 8890: [9653, 9654], 8893: [9655, 9656], 8900: [9658, 9659, 9660, 9661], 8903: [9662, 9663, 9664, 9665], 8906: [9668, 9669, 9670], 8908: [9671, 9672], 8912: [9673, 9674], 8913: [9675, 9676], 8918: [9677, 9678], 8920: [9679, 9680, 9681, 9682], 8922: [9683], 8923: [9684], 8924: [9685], 8925: [9687], 8931: [9689, 9690], 8932: [9691], 8934: [9692], 8935: [9694, 9696, 9697], 8937: [9698, 9699], 8938: [9701, 9703, 9704], 8944: [9705], 8945: [9708, 9710, 9711, 9712], 8951: [9713], 8954: [9714], 8959: [9715], 8962: [9716], 8965: [9718, 9719], 8972: [9721], 8975: [9722], 8977: [9723], 8979: [9725], 8980: [9727], 8981: [9728, 9729], 8982: [9732, 9733], 8986: [9734, 9735], 8991: [9736, 9737], 8994: [9738], 8997: [9739, 9740], 8998: [9741], 8999: [9742, 9743], 9001: [9747, 9748], 9009: [9751], 9013: [9752, 9753, 9754, 9755], 9021: [9757, 9758], 9024: [9759], 9026: [9765, 9766], 9033: [9767, 9768, 9769, 9770, 9771], 9036: [9773], 9037: [9774, 9775], 9039: [9776, 9777, 9778], 9042: [9780, 9781], 9043: [9782, 9783, 9784], 9046: [9785], 9051: [9789, 9790], 9053: [9792, 9794], 9059: [9796, 9797, 9798], 9061: [9800, 9802], 9062: [9807, 9808, 9809], 9067: [9812, 9813], 9069: [9815], 9070: [9816], 9072: [9817, 9818], 9073: [9821], 9074: [9822, 9823, 9824, 9825], 9075: [9827, 9828], 9081: [9830, 9831], 9083: [9832], 9085: [9833, 9834], 9087: [9837, 9838], 9088: [9839, 9840], 9090: [9841, 9842], 9093: [9844], 9096: [9845, 9846], 9099: [9850], 9102: [9851, 9852], 9103: [9856, 9857], 9106: [9858], 9109: [9859], 9111: [9860, 9861, 9862, 9863, 9864], 9113: [9865], 9114: [9866, 9868], 9116: [9871], 9118: [9873, 9874], 9120: [9875, 9876, 9877, 9878], 9124: [9881, 9882, 9883, 9884], 9128: [9885, 9886, 9887], 9131: [9889, 9890], 9142: [9892, 9893], 9149: [9894], 9152: [9896, 9897, 9898], 9154: [9899, 9900, 9903], 9157: [9904, 9905, 9907, 9910], 9158: [9913, 9915, 9916], 9160: [9917, 9918], 9161: [9919, 9921, 9922], 9166: [9923, 9924], 9169: [9925, 9927], 9171: [9929, 9930], 9174: [9931, 9932, 9933, 9934], 9176: [9936, 9937], 9181: [9939, 9940, 9941, 9942, 9943], 9184: [9945, 9946], 9185: [9947], 9186: [9949, 9950], 9192: [9952], 9200: [9953], 9202: [9955, 9956], 9203: [9957], 9204: [9961], 9207: [9962], 9208: [9963, 9964, 9965], 9210: [9966, 9967, 9968], 9213: [9969, 9970, 9972, 9973], 9215: [9975], 9218: [9977, 9978], 9225: [9979], 9227: [9980, 9981, 9982], 9228: [9983, 9984, 9985], 9229: [9987, 9988, 9989], 9230: [9990], 9232: [9991, 9993, 9994], 9233: [9996, 9997], 9235: [9999, 10000, 10001], 9236: [10002], 9237: [10003], 9244: [10006, 10007], 9247: [10009], 9250: [10010, 10011], 9258: [10014, 10015, 10016], 9259: [10017, 10018], 9262: [10019, 10020], 9266: [10022, 10024, 10026], 9270: [10029], 9272: [10030], 9273: [10032, 10033], 9275: [10034, 10035, 10036], 9276: [10040], 9277: [10041, 10042, 10043, 10044], 9278: [10045, 10046, 10047], 9283: [10048], 9288: [10049, 10050, 10051], 9292: [10054], 9293: [10055], 9296: [10056], 9299: [10059, 10060, 10061], 9301: [10062, 10063], 9302: [10064, 10065, 10066], 9304: [10068, 10069], 9309: [10072, 10073], 9315: [10079, 10082, 10084], 9319: [10087, 10088, 10089], 9320: [10090, 10091], 9322: [10093, 10096, 10097], 9325: [10098, 10099, 10100], 9326: [10101, 10102], 9327: [10103], 9331: [10106, 10107], 9334: [10109, 10110, 10111], 9338: [10112, 10114, 10115, 10117], 9340: [10119, 10120], 9341: [10121], 9350: [10127], 9357: [10129, 10130, 10131, 10133], 9368: [10134], 9371: [10135, 10136], 9373: [10138], 9374: [10139, 10140], 9376: [10141], 9383: [10142], 9385: [10143], 9388: [10146, 10148], 9389: [10150], 9390: [10153, 10154], 9391: [10156, 10157], 9393: [10158, 10159], 9398: [10160, 10161, 10162], 9401: [10163, 10164], 9402: [10165], 9403: [10167, 10170], 9406: [10172], 9407: [10174], 9409: [10176], 9411: [10177, 10178, 10179], 9413: [10180, 10181, 10184, 10185], 9415: [10186, 10187], 9416: [10188], 9418: [10189, 10190], 9419: [10192, 10193], 9423: [10194, 10196], 9424: [10197], 9433: [10200, 10201], 9436: [10204], 9440: [10206], 9441: [10207, 10208], 9443: [10209, 10210, 10211], 9444: [10212, 10214], 9446: [10215, 10216, 10218, 10219], 9448: [10222, 10223], 9450: [10225, 10226], 9459: [10233, 10235, 10237], 9463: [10239], 9464: [10240], 9465: [10243, 10246], 9466: [10248, 10249, 10250, 10251, 10252, 10253, 10254, 10255], 9470: [10256, 10258], 9471: [10259, 10261], 9472: [10262, 10263], 9473: [10264, 10265, 10266], 9482: [10271], 9485: [10272, 10273, 10274], 9492: [10275, 10277], 9494: [10280, 10281, 10283], 9501: [10287, 10288, 10289], 9502: [10290], 9506: [10293], 9510: [10294], 9512: [10295], 9514: [10296, 10297], 9515: [10299], 9516: [10300], 9517: [10305, 10307, 10309], 9518: [10312], 9519: [10314, 10315, 10317], 9522: [10319, 10321], 9526: [10322, 10323, 10324, 10325], 9538: [10326, 10327], 9546: [10329, 10330, 10331], 9547: [10332], 9550: [10334, 10335, 10336], 9552: [10337, 10338], 9555: [10340], 9558: [10342, 10343], 9559: [10344, 10345], 9560: [10346], 9564: [10351, 10352], 9567: [10353, 10355, 10356], 9569: [10360, 10361], 9571: [10362], 9572: [10363, 10364, 10365, 10366, 10367], 9573: [10368, 10369], 9576: [10371], 9577: [10374], 9579: [10377, 10379, 10380], 9580: [10381, 10384, 10385], 9582: [10386, 10388], 9584: [10389, 10390], 9585: [10392, 10393], 9589: [10395], 9590: [10396, 10397], 9595: [10398], 9598: [10399, 10400], 9599: [10402, 10403, 10404, 10405], 9602: [10407, 10408], 9605: [10409], 9606: [10410], 9607: [10413, 10414], 9608: [10415, 10416, 10417], 9611: [10418, 10419], 9612: [10420], 9613: [10422, 10424], 9622: [10427], 9624: [10429, 10430, 10431], 9627: [10432, 10433], 9631: [10434, 10435, 10436], 9634: [10437, 10438, 10439, 10440], 9635: [10443], 9636: [10444, 10445, 10447, 10448], 9640: [10450, 10451], 9642: [10452, 10453, 10454], 9644: [10457, 10459], 9645: [10461, 10462], 9646: [10463], 9648: [10466], 9650: [10470, 10471], 9652: [10472, 10473], 9658: [10475, 10476, 10477], 9659: [10479], 9663: [10480, 10481], 9669: [10483], 9674: [10486, 10487], 9680: [10489, 10490, 10491, 10492], 9682: [10494, 10496, 10497], 9686: [10499], 9687: [10500, 10501], 9690: [10504, 10505, 10506], 9695: [10508], 9696: [10512, 10513], 9701: [10514, 10515], 9707: [10516], 9708: [10517, 10518, 10519, 10521], 9709: [10523], 9713: [10524, 10525], 9714: [10527], 9718: [10532, 10533, 10534], 9720: [10536, 10538], 9722: [10539, 10540], 9726: [10541], 9728: [10543], 9731: [10547, 10548], 9735: [10549, 10550, 10551], 9747: [10553], 9750: [10554, 10555], 9751: [10557, 10558], 9756: [10560, 10562], 9759: [10563], 9760: [10564, 10565], 9761: [10567, 10568], 9762: [10569, 10570], 9764: [10571, 10572, 10573], 9766: [10579, 10580], 9770: [10582, 10583, 10584], 9772: [10585], 9774: [10586], 9776: [10587, 10588], 9778: [10591], 9779: [10593, 10594], 9781: [10595, 10596, 10597], 9785: [10598, 10599, 10601], 9786: [10603, 10606, 10611, 10618], 9788: [10621, 10623], 9791: [10624, 10626, 10627, 10629, 10631], 9796: [10633, 10634], 9797: [10636], 9799: [10640], 9800: [10641], 9802: [10644, 10645], 9803: [10646, 10647], 9804: [10651, 10652, 10653], 9809: [10654, 10655, 10656, 10658, 10659], 9812: [10660, 10661, 10662], 9815: [10663, 10664, 10665], 9817: [10666], 9819: [10667, 10668], 9820: [10670, 10671, 10674, 10675], 9821: [10676], 9824: [10680, 10681], 9825: [10682, 10683, 10684], 9830: [10685], 9832: [10688, 10689], 9833: [10690], 9841: [10692], 9846: [10698], 9847: [10700, 10702], 9853: [10707, 10708], 9855: [10710], 9859: [10712, 10713], 9868: [10714, 10715], 9871: [10716, 10717], 9873: [10719, 10720], 9875: [10723, 10724, 10725], 9878: [10728, 10729], 9879: [10730, 10732, 10733, 10734], 9881: [10735], 9882: [10736, 10737, 10738, 10739], 9887: [10740, 10741], 9892: [10744, 10745], 9893: [10746, 10747], 9895: [10748, 10749, 10750], 9899: [10752], 9900: [10754, 10755], 9905: [10757, 10759], 9906: [10761, 10762, 10763], 9908: [10764, 10765, 10768, 10769], 9909: [10771, 10772], 9923: [10777, 10778, 10779, 10780], 9924: [10783], 9926: [10785, 10786, 10787], 9927: [10788], 9935: [10790, 10791, 10792], 9937: [10794, 10795], 9940: [10796], 9949: [10799, 10800], 9950: [10801, 10802], 9951: [10803, 10805, 10806, 10807, 10808, 10809], 9959: [10813], 9960: [10814, 10815], 9963: [10816, 10817, 10818, 10819], 9971: [10821, 10822, 10823, 10824, 10825, 10826], 9974: [10829, 10830], 9979: [10833], 9980: [10835], 9986: [10838, 10839, 10840], 9987: [10841], 9988: [10844, 10846, 10847, 10848, 10849], 9997: [10850], 10004: [10851], 10006: [10855], 10013: [10859], 10014: [10861], 10015: [10863, 10864, 10865, 10866, 10867], 10017: [10868], 10019: [10869], 10020: [10870], 10021: [10871, 10872], 10033: [10874, 10875, 10876], 10034: [10877], 10035: [10878, 10879], 10045: [10880, 10881], 10048: [10882, 10883], 10051: [10884, 10885, 10887], 10055: [10888, 10889], 10057: [10890, 10891, 10892], 10059: [10894, 10895], 10060: [10898, 10899], 10061: [10901, 10902], 10063: [10903, 10904], 10067: [10906], 10070: [10907], 10071: [10908], 10072: [10909, 10910], 10078: [10912, 10913], 10079: [10914, 10917], 10080: [10918], 10081: [10920], 10083: [10922, 10923], 10088: [10928], 10091: [10929], 10094: [10930, 10931, 10932, 10933], 10095: [10934], 10100: [10935, 10936], 10103: [10939, 10940, 10941], 10109: [10942, 10943, 10944], 10113: [10948], 10117: [10952, 10953, 10954], 10120: [10957], 10122: [10959, 10960], 10124: [10961], 10125: [10963, 10965], 10130: [10966, 10967, 10968], 10132: [10969, 10970, 10971, 10974], 10133: [10976, 10978, 10980], 10134: [10981], 10135: [10982, 10983], 10137: [10986], 10140: [10987, 10988], 10143: [10989, 10990, 10991], 10145: [10992], 10150: [10993, 10994, 10995], 10154: [10999, 11001, 11002, 11003, 11004], 10155: [11005, 11006], 10159: [11009, 11010, 11011], 10162: [11012], 10165: [11015, 11016], 10171: [11019, 11020, 11021], 10173: [11022, 11023], 10175: [11027, 11028, 11029], 10178: [11030, 11031], 10179: [11032], 10181: [11034, 11035], 10184: [11037], 10185: [11038, 11039, 11042, 11045], 10186: [11047, 11048], 10189: [11049, 11050, 11051, 11052], 10193: [11053, 11054], 10201: [11061], 10203: [11062], 10205: [11066], 10206: [11068], 10209: [11071, 11072], 10213: [11073, 11074], 10214: [11077, 11078], 10216: [11079, 11080], 10222: [11082, 11083, 11084, 11085], 10223: [11086], 10224: [11088], 10229: [11099], 10232: [11102, 11103], 10236: [11106, 11107, 11108, 11109], 10242: [11110, 11112, 11113, 11114, 11115], 10243: [11118, 11119, 11121], 10246: [11124], 10247: [11126], 10248: [11127, 11128], 10249: [11129, 11130, 11131], 10250: [11132, 11133], 10251: [11134], 10261: [11135, 11137, 11140, 11141], 10268: [11144], 10270: [11147, 11148], 10272: [11149], 10273: [11150], 10275: [11152, 11153, 11156, 11157], 10277: [11158, 11159], 10291: [11161], 10292: [11162, 11163, 11164], 10295: [11165], 10296: [11166, 11167, 11168, 11169], 10297: [11170], 10298: [11171, 11172], 10301: [11173], 10303: [11174], 10307: [11175, 11176, 11177, 11178], 10310: [11179, 11180], 10311: [11181, 11182, 11183], 10313: [11184], 10321: [11186], 10324: [11189], 10325: [11191, 11192], 10332: [11193], 10334: [11195, 11197], 10338: [11199, 11200], 10347: [11204, 11205], 10349: [11207, 11208], 10351: [11209], 10352: [11210, 11211], 10353: [11219, 11221], 10354: [11222, 11223, 11224], 10355: [11225, 11226, 11228, 11229, 11230], 10357: [11235, 11237], 10359: [11239, 11240, 11241], 10362: [11242, 11243], 10363: [11244, 11245, 11246, 11247], 10374: [11255, 11256, 11257, 11258, 11259], 10376: [11262, 11264], 10379: [11269], 10380: [11270, 11271, 11272], 10383: [11273], 10384: [11276, 11277], 10387: [11278], 10389: [11279, 11280], 10394: [11281, 11282], 10395: [11283, 11284, 11285, 11286], 10401: [11288, 11289], 10403: [11290], 10404: [11291], 10405: [11292, 11293, 11294], 10407: [11295, 11296, 11297], 10408: [11298, 11299], 10409: [11300, 11301, 11304], 10410: [11305, 11306, 11307, 11308], 10411: [11309, 11310], 10416: [11317], 10431: [11325, 11326, 11328], 10437: [11329, 11331, 11332], 10438: [11333, 11334, 11335, 11336], 10439: [11337, 11338, 11339], 10441: [11340, 11341, 11342], 10442: [11343, 11344, 11345, 11346, 11347, 11348, 11349, 11350], 10443: [11351, 11353], 10445: [11354], 10451: [11357], 10452: [11358, 11359], 10454: [11360], 10455: [11361], 10456: [11362, 11363], 10459: [11367, 11368], 10461: [11370, 11372], 10462: [11373, 11374], 10466: [11375, 11376, 11377], 10467: [11378, 11379, 11380], 10468: [11381], 10471: [11383, 11384, 11385, 11386], 10473: [11388, 11389, 11390, 11392], 10477: [11393], 10484: [11394, 11395, 11397, 11398], 10488: [11401, 11402, 11403, 11404], 10489: [11405, 11406], 10491: [11407], 10492: [11408, 11409], 10493: [11410, 11411], 10494: [11412], 10496: [11415, 11416, 11417], 10498: [11418, 11419, 11421, 11422, 11423], 10501: [11424, 11425, 11427], 10502: [11428], 10504: [11429, 11430], 10510: [11431, 11432], 10511: [11434], 10512: [11435, 11437], 10513: [11438], 10514: [11439], 10518: [11443], 10520: [11444, 11445], 10521: [11446, 11447], 10524: [11450], 10530: [11452, 11453], 10532: [11456, 11457, 11458, 11459], 10534: [11460, 11461, 11462], 10536: [11463, 11464], 10540: [11465], 10541: [11466], 10542: [11468, 11469], 10544: [11471], 10545: [11472], 10549: [11475, 11476, 11477, 11478], 10552: [11481, 11482, 11483], 10555: [11485], 10557: [11486, 11487], 10560: [11489, 11490], 10564: [11491, 11492, 11493], 10576: [11498], 10577: [11499, 11500], 10579: [11502, 11503, 11504, 11505, 11506], 10587: [11507], 10588: [11508, 11509], 10595: [11516], 10598: [11518], 10599: [11519], 10600: [11520, 11521], 10602: [11522, 11523, 11524], 10603: [11525, 11526], 10605: [11527, 11528], 10606: [11530, 11531], 10609: [11532], 10613: [11534], 10617: [11541, 11542], 10621: [11543], 10625: [11544], 10633: [11546], 10635: [11547], 10639: [11549], 10640: [11550], 10641: [11551, 11552], 10642: [11554, 11555], 10654: [11557, 11558], 10655: [11560, 11561, 11562, 11563], 10657: [11564, 11565], 10658: [11566, 11567], 10660: [11569, 11570], 10662: [11571, 11572], 10663: [11573], 10665: [11575], 10666: [11577, 11578, 11579, 11580], 10667: [11581, 11582, 11583, 11584], 10669: [11585, 11587, 11588, 11589], 10670: [11592, 11593], 10672: [11594, 11595], 10674: [11596], 10676: [11597], 10678: [11599, 11600], 10681: [11602, 11603], 10683: [11604, 11605], 10688: [11608], 10689: [11610, 11611], 10699: [11612, 11614, 11617], 10702: [11618], 10704: [11621, 11623, 11624], 10706: [11626], 10708: [11629], 10709: [11632], 10711: [11634, 11635], 10714: [11636, 11637], 10715: [11639, 11640], 10717: [11641, 11642], 10718: [11643, 11644, 11645], 10724: [11646, 11647], 10726: [11648, 11649, 11651], 10727: [11652, 11653, 11654], 10729: [11655], 10730: [11657, 11658, 11659], 10731: [11660], 10737: [11661, 11662, 11663], 10741: [11664, 11665], 10748: [11667, 11668], 10749: [11670], 10752: [11673, 11674], 10755: [11676, 11677], 10761: [11678, 11679, 11680], 10762: [11681, 11683], 10763: [11684, 11685], 10764: [11687], 10766: [11689, 11690], 10768: [11692], 10771: [11693, 11694, 11695], 10773: [11696, 11699], 10774: [11701, 11703], 10775: [11704, 11705, 11706], 10778: [11707], 10781: [11709], 10794: [11713, 11714], 10795: [11716, 11717], 10797: [11719, 11720, 11721], 10802: [11722], 10803: [11723], 10804: [11724, 11725, 11726], 10810: [11735, 11736, 11737], 10813: [11741, 11742], 10814: [11743], 10819: [11745, 11746], 10821: [11747], 10823: [11748], 10824: [11750, 11751, 11752], 10826: [11753], 10827: [11754, 11755], 10828: [11756, 11757, 11758], 10834: [11764, 11765], 10835: [11766], 10836: [11768, 11770, 11771], 10838: [11773, 11774, 11775, 11776], 10842: [11778, 11779, 11780, 11781], 10844: [11782, 11783], 10846: [11784], 10847: [11785, 11786], 10848: [11789], 10852: [11790, 11791, 11792], 10854: [11793, 11794], 10855: [11798, 11799, 11800], 10859: [11802], 10860: [11805], 10862: [11806, 11808, 11813], 10864: [11814], 10867: [11815], 10868: [11816, 11817, 11818, 11819], 10873: [11821, 11822], 10881: [11826], 10885: [11827, 11828], 10889: [11831], 10891: [11832, 11833], 10894: [11835], 10899: [11836], 10903: [11837], 10906: [11838], 10908: [11839], 10917: [11842], 10918: [11844], 10919: [11845], 10924: [11847, 11848, 11849, 11851], 10925: [11852, 11853], 10926: [11855, 11856, 11857], 10936: [11862, 11863], 10937: [11865, 11867], 10941: [11870, 11871], 10943: [11872], 10945: [11873], 10946: [11876, 11877], 10949: [11878, 11879, 11880], 10951: [11882, 11883, 11887], 10952: [11888], 10953: [11890, 11891, 11892], 10955: [11893, 11894], 10956: [11895, 11897, 11899], 10958: [11903], 10960: [11904, 11905], 10961: [11906], 10964: [11909], 10969: [11910, 11913], 10970: [11915, 11916], 10971: [11917, 11918, 11919], 10974: [11920], 10975: [11922], 10978: [11923], 10986: [11924, 11925], 10988: [11927], 10996: [11928, 11929], 11004: [11930], 11006: [11932], 11010: [11933], 11012: [11935], 11021: [11939], 11030: [11941], 11031: [11944, 11945], 11032: [11946], 11034: [11947], 11035: [11948, 11949, 11950], 11037: [11951], 11038: [11952], 11050: [11956, 11957, 11958, 11959, 11960], 11054: [11962, 11964, 11965], 11055: [11966, 11967], 11058: [11968, 11969], 11059: [11970, 11971], 11066: [11973, 11974], 11068: [11975, 11978], 11072: [11982, 11983, 11986, 11988], 11076: [11990], 11077: [11992, 11993, 11994], 11078: [11996], 11083: [11999, 12000], 11086: [12001, 12002, 12003], 11090: [12004, 12005], 11092: [12006, 12007, 12008, 12009], 11096: [12010, 12011], 11097: [12012], 11098: [12014], 11099: [12018], 11102: [12022, 12023, 12024], 11103: [12025, 12026], 11104: [12028, 12030], 11105: [12032], 11106: [12033, 12034], 11110: [12037, 12038], 11112: [12039, 12040], 11122: [12042], 11130: [12043, 12045, 12046], 11133: [12047, 12048], 11138: [12050], 11142: [12051, 12052, 12053, 12054], 11144: [12057, 12058], 11145: [12061, 12062], 11147: [12063], 11151: [12064, 12067, 12068], 11152: [12070, 12071, 12072], 11155: [12074, 12075, 12076], 11158: [12079], 11159: [12082, 12083], 11161: [12085, 12086, 12087], 11163: [12088, 12089, 12090], 11164: [12091, 12092], 11165: [12095, 12096], 11166: [12098, 12099], 11168: [12100, 12104], 11169: [12106], 11172: [12107], 11175: [12108], 11178: [12113, 12115], 11179: [12116, 12117], 11180: [12118], 11182: [12120, 12121, 12122], 11183: [12123, 12124, 12125], 11185: [12126, 12128, 12129], 11187: [12134], 11189: [12135], 11191: [12136, 12137, 12138], 11193: [12140, 12141], 11195: [12142, 12143, 12144], 11196: [12145, 12146, 12147], 11197: [12149], 11198: [12150, 12152], 11210: [12156], 11212: [12158], 11215: [12161, 12162], 11216: [12164, 12165], 11217: [12166, 12168, 12169, 12170], 11219: [12172], 11229: [12175], 11230: [12176, 12177], 11239: [12178, 12179, 12180, 12183], 11240: [12184, 12185, 12186], 11242: [12187], 11247: [12188, 12189, 12190], 11248: [12191, 12192], 11259: [12195], 11267: [12197, 12199], 11271: [12201, 12202], 11273: [12204, 12205, 12206], 11275: [12208, 12209], 11276: [12210, 12211], 11277: [12212, 12213], 11283: [12217], 11285: [12218, 12219, 12220], 11287: [12221, 12222], 11296: [12230], 11299: [12231, 12232], 11301: [12235], 11302: [12237, 12238, 12240], 11307: [12241, 12242, 12243], 11310: [12248, 12249, 12250], 11317: [12251], 11321: [12253], 11325: [12254], 11326: [12258], 11328: [12259], 11332: [12261, 12262, 12263, 12264], 11333: [12267], 11337: [12269, 12270], 11342: [12271, 12272], 11343: [12273, 12274, 12275], 11348: [12276, 12277, 12278, 12279, 12280, 12281], 11349: [12282, 12283], 11352: [12285], 11354: [12292], 11356: [12293], 11357: [12294, 12295], 11362: [12296, 12298], 11366: [12300, 12301], 11377: [12305, 12306, 12307, 12308], 11378: [12309], 11382: [12315], 11383: [12317, 12320], 11384: [12321, 12323], 11385: [12324], 11387: [12327, 12328, 12329, 12330], 11390: [12331], 11398: [12333, 12334, 12335], 11400: [12336, 12337], 11408: [12338, 12341, 12342], 11412: [12343], 11413: [12344], 11420: [12345, 12346], 11421: [12347, 12348], 11423: [12351, 12352], 11426: [12355, 12356], 11428: [12357, 12358, 12359], 11430: [12362, 12363], 11438: [12368, 12370], 11441: [12371, 12372], 11445: [12373, 12374, 12375], 11446: [12376], 11450: [12377], 11451: [12378, 12379, 12380], 11454: [12387], 11457: [12392, 12393, 12394, 12395], 11460: [12396], 11461: [12397, 12398], 11462: [12400, 12401], 11463: [12403, 12404, 12405], 11473: [12410], 11475: [12412, 12413], 11476: [12414], 11482: [12415], 11486: [12418, 12419], 11488: [12422], 11490: [12423, 12424, 12425], 11495: [12428], 11496: [12429], 11503: [12430, 12431], 11504: [12432, 12433], 11506: [12434, 12435, 12436], 11508: [12440], 11509: [12442, 12443], 11516: [12444], 11517: [12445, 12446], 11523: [12449, 12450, 12451], 11526: [12453], 11535: [12455, 12456, 12458, 12459], 11538: [12461, 12463], 11539: [12464, 12465], 11540: [12466], 11542: [12467, 12468, 12469, 12470], 11544: [12471, 12472], 11545: [12474], 11547: [12476], 11554: [12478, 12479], 11556: [12480], 11557: [12482], 11559: [12484], 11560: [12485, 12486], 11567: [12487, 12488, 12489, 12490], 11568: [12491], 11569: [12493, 12494, 12495], 11570: [12500, 12501], 11571: [12502], 11573: [12504, 12506], 11577: [12509, 12510, 12512], 11579: [12514], 11580: [12517, 12519], 11585: [12522, 12523], 11586: [12524], 11587: [12525], 11591: [12526], 11593: [12533], 11595: [12534, 12535, 12536], 11599: [12538, 12539, 12540], 11601: [12541, 12542], 11603: [12544], 11606: [12547], 11607: [12549, 12550, 12551, 12552, 12553, 12554], 11611: [12555, 12556, 12557], 11612: [12558], 11613: [12559], 11616: [12562], 11620: [12563], 11622: [12565, 12566, 12567], 11623: [12568, 12569, 12570], 11625: [12571, 12572], 11627: [12573], 11633: [12574], 11636: [12575, 12576], 11637: [12577], 11639: [12578, 12579, 12580, 12581, 12582], 11641: [12583, 12584, 12585, 12586], 11642: [12587, 12588], 11644: [12589, 12590], 11647: [12591, 12592], 11649: [12594, 12595, 12596], 11651: [12597], 11652: [12598, 12599], 11655: [12600, 12602, 12603, 12605], 11660: [12607], 11662: [12609, 12610], 11665: [12613, 12614, 12616, 12618], 11668: [12619], 11669: [12624, 12625, 12626], 11672: [12629], 11674: [12630, 12631, 12632], 11676: [12634, 12635, 12636], 11678: [12637, 12639, 12640, 12641, 12642], 11679: [12643], 11680: [12645], 11681: [12646, 12647, 12648, 12649], 11684: [12650], 11691: [12652, 12654], 11693: [12655], 11694: [12656], 11700: [12657, 12658], 11701: [12659, 12660], 11704: [12663, 12664, 12666], 11706: [12667, 12670], 11707: [12673, 12674, 12675, 12676, 12677], 11709: [12679, 12680], 11715: [12681, 12682, 12683, 12686], 11717: [12687], 11719: [12688], 11720: [12690, 12691], 11721: [12693, 12694], 11725: [12697], 11728: [12698, 12699], 11730: [12700, 12701], 11732: [12706, 12708, 12710], 11733: [12712, 12713], 11736: [12714, 12715, 12716], 11737: [12717, 12719], 11740: [12721, 12722, 12723, 12724], 11746: [12727, 12730], 11749: [12731], 11752: [12732, 12733, 12734], 11753: [12735], 11760: [12737, 12738], 11762: [12740], 11767: [12742, 12743], 11772: [12745, 12746, 12747], 11778: [12757], 11785: [12758, 12759], 11786: [12761, 12763], 11788: [12766, 12767, 12768], 11792: [12769], 11801: [12775], 11803: [12777, 12778], 11805: [12779], 11808: [12780], 11812: [12782, 12783], 11814: [12784, 12785], 11815: [12788, 12789, 12790, 12791], 11818: [12792], 11820: [12793], 11826: [12797, 12798], 11828: [12799], 11829: [12801, 12802, 12805, 12806, 12807, 12808], 11832: [12809, 12810, 12811], 11833: [12812], 11834: [12815, 12816], 11836: [12817, 12818], 11837: [12819], 11841: [12820], 11844: [12821, 12822], 11845: [12823, 12825], 11848: [12829, 12830, 12831], 11849: [12833, 12834], 11853: [12836, 12837], 11857: [12838, 12839, 12841, 12842], 11858: [12843, 12847], 11862: [12848], 11865: [12851, 12853, 12854], 11869: [12856], 11870: [12860, 12861], 11871: [12862, 12863, 12864], 11873: [12865, 12866], 11874: [12867, 12868, 12869], 11876: [12872], 11878: [12874, 12875], 11879: [12876], 11883: [12877, 12878, 12879], 11885: [12880, 12882], 11886: [12883, 12884], 11889: [12887], 11891: [12888, 12889, 12890, 12891, 12892, 12893], 11895: [12895, 12896, 12897], 11897: [12898, 12899], 11901: [12901], 11904: [12902], 11910: [12908, 12909], 11913: [12910], 11914: [12911, 12912], 11917: [12913, 12914, 12915, 12916], 11919: [12918, 12919], 11920: [12920, 12921], 11921: [12922, 12923, 12924], 11923: [12925, 12926, 12927], 11927: [12928, 12929], 11928: [12930, 12931, 12932], 11929: [12933, 12934], 11934: [12936], 11935: [12938, 12939, 12940, 12941, 12942, 12943], 11936: [12947], 11940: [12948], 11943: [12950], 11945: [12951], 11950: [12954], 11957: [12957], 11958: [12958, 12959], 11962: [12960, 12961], 11964: [12963], 11965: [12964, 12965], 11966: [12967, 12968, 12969, 12970], 11973: [12971], 11975: [12972, 12974], 11988: [12978, 12979], 11991: [12980], 11996: [12982, 12983], 11997: [12984, 12985, 12986], 12005: [12987, 12988, 12989], 12007: [12991, 12992, 12995, 12996], 12010: [13000], 12013: [13002, 13003], 12014: [13004, 13005, 13006, 13007], 12016: [13009, 13010, 13011, 13012], 12018: [13014, 13016, 13017, 13018], 12020: [13022, 13023, 13025], 12029: [13027], 12031: [13028], 12037: [13030], 12041: [13033, 13034], 12043: [13038], 12044: [13039, 13040], 12045: [13041, 13043, 13047, 13048], 12049: [13049], 12050: [13050, 13051], 12051: [13052], 12052: [13053], 12059: [13058, 13060], 12060: [13062, 13064, 13066], 12062: [13067, 13068, 13069], 12065: [13070], 12066: [13071, 13072, 13074, 13075], 12069: [13076, 13077], 12072: [13080, 13081], 12073: [13082, 13083], 12075: [13085, 13086, 13088], 12078: [13089, 13090, 13093], 12079: [13095], 12082: [13096], 12088: [13100, 13103, 13104, 13105, 13106], 12089: [13107], 12094: [13109, 13110], 12098: [13112, 13113, 13114, 13115, 13116, 13117, 13118], 12102: [13119], 12104: [13121], 12107: [13122, 13123, 13124], 12108: [13127, 13129], 12109: [13130, 13131, 13132], 12112: [13134], 12114: [13136, 13137], 12117: [13138, 13139], 12118: [13140], 12121: [13142, 13143], 12122: [13144, 13145], 12125: [13146, 13147, 13148], 12126: [13149, 13150], 12129: [13151, 13152], 12130: [13154, 13156], 12131: [13158, 13159], 12133: [13160], 12134: [13161, 13162, 13163], 12135: [13165, 13166], 12137: [13167, 13168], 12142: [13169, 13170], 12143: [13172], 12145: [13173, 13174, 13175], 12146: [13176, 13178, 13179], 12149: [13181, 13182], 12154: [13183, 13185], 12156: [13186], 12160: [13190, 13191, 13192, 13193], 12162: [13199, 13200], 12164: [13202, 13204, 13205], 12171: [13207, 13208, 13209, 13211], 12172: [13212, 13213], 12176: [13217, 13218], 12179: [13221], 12180: [13222], 12181: [13223], 12185: [13224], 12186: [13228, 13229, 13230], 12188: [13232, 13233], 12192: [13235], 12193: [13237, 13239], 12194: [13240, 13241], 12196: [13242, 13243], 12197: [13244, 13245, 13246], 12202: [13247], 12203: [13253, 13254], 12208: [13256], 12215: [13257, 13258], 12216: [13259, 13260], 12225: [13261], 12228: [13262], 12232: [13263, 13265], 12233: [13266, 13267, 13268, 13269], 12238: [13272], 12239: [13273, 13274], 12240: [13276], 12241: [13281, 13283], 12248: [13284], 12254: [13288, 13289, 13290, 13291], 12255: [13292], 12259: [13294], 12260: [13296], 12263: [13298, 13299], 12267: [13300, 13301, 13303], 12268: [13304], 12271: [13306, 13308, 13309], 12272: [13311, 13312], 12283: [13316, 13317], 12284: [13320, 13321, 13322, 13323], 12286: [13326], 12289: [13327, 13328], 12292: [13333, 13334, 13335, 13336], 12295: [13338, 13339], 12296: [13340], 12300: [13341, 13345], 12301: [13346, 13347, 13348], 12303: [13349], 12305: [13350], 12312: [13351], 12313: [13352, 13353], 12315: [13355, 13356], 12317: [13357], 12318: [13362], 12322: [13363], 12323: [13365, 13366, 13367], 12326: [13368], 12327: [13369], 12330: [13370, 13371], 12331: [13373, 13375], 12345: [13376, 13377], 12357: [13380, 13381], 12362: [13382], 12363: [13384], 12366: [13387], 12368: [13389, 13390, 13392], 12370: [13393], 12371: [13395], 12374: [13397], 12375: [13398, 13399], 12381: [13402, 13403], 12382: [13404, 13405, 13407], 12386: [13410, 13411], 12388: [13412, 13413], 12389: [13414], 12391: [13415, 13416, 13417, 13418], 12398: [13420, 13421, 13422], 12407: [13424], 12408: [13426, 13427], 12413: [13430, 13431, 13432, 13433, 13434, 13435, 13436, 13437], 12415: [13439], 12417: [13442, 13443], 12418: [13444], 12421: [13446, 13448], 12424: [13449, 13450], 12426: [13452, 13453, 13455, 13456], 12427: [13458, 13459], 12428: [13460, 13461, 13462, 13463], 12433: [13464, 13465], 12434: [13466, 13467, 13469], 12447: [13470, 13471], 12450: [13472], 12451: [13473], 12453: [13475], 12456: [13476, 13477, 13478], 12464: [13480], 12466: [13481], 12467: [13483], 12470: [13484], 12477: [13485, 13486, 13487, 13488, 13489, 13490, 13491, 13492, 13493], 12478: [13494], 12482: [13495], 12483: [13496, 13497, 13498, 13499, 13500], 12486: [13501], 12488: [13502], 12490: [13506, 13507, 13508], 12494: [13509], 12497: [13511, 13512], 12499: [13516, 13517], 12501: [13518], 12507: [13519], 12508: [13520], 12510: [13522, 13523, 13524], 12511: [13525, 13527], 12514: [13528, 13529], 12518: [13531], 12525: [13537], 12528: [13538, 13539, 13540], 12535: [13544, 13545, 13546], 12539: [13547, 13548], 12541: [13551, 13552, 13553, 13554], 12544: [13555, 13556, 13557], 12545: [13559], 12546: [13560, 13561], 12547: [13562, 13563, 13564], 12550: [13565], 12551: [13566], 12556: [13569, 13570, 13571, 13572], 12561: [13573, 13574], 12565: [13576], 12566: [13578, 13579], 12568: [13581], 12569: [13584], 12571: [13588, 13591, 13592]})\n"
     ]
    }
   ],
   "source": [
    "preg_map = nsfg.MakePregMap(live)\n",
    "print(preg_map)"
   ]
  },
  {
   "cell_type": "code",
   "execution_count": 94,
   "metadata": {},
   "outputs": [
    {
     "data": {
      "text/plain": [
       "thinkstats2.Hist"
      ]
     },
     "execution_count": 94,
     "metadata": {},
     "output_type": "execute_result"
    }
   ],
   "source": [
    "hist = thinkstats2.Hist()\n",
    "for caseid, indices in preg_map.items():\n",
    "    if len(indices) >= 2:\n",
    "        first = preg.iloc[indices[0]].prglngth\n",
    "        others = preg.iloc[indices[1]].prglngth\n",
    "        diff = others - first\n",
    "        hist[diff] += 1"
   ]
  },
  {
   "cell_type": "code",
   "execution_count": 90,
   "metadata": {},
   "outputs": [
    {
     "data": {
      "image/png": "[encoded data removed]",
      "text/plain": [
       "<Figure size 432x288 with 1 Axes>"
      ]
     },
     "metadata": {
      "needs_background": "light"
     },
     "output_type": "display_data"
    }
   ],
   "source": [
    "thinkplot.Hist(hist)"
   ]
  },
  {
   "cell_type": "code",
   "execution_count": 79,
   "metadata": {},
   "outputs": [
    {
     "data": {
      "text/plain": [
       "-0.056367432150313125"
      ]
     },
     "execution_count": 79,
     "metadata": {},
     "output_type": "execute_result"
    }
   ],
   "source": [
    "pmf = thinkstats2.Pmf(hist)\n",
    "pmf.Mean()"
   ]
  },
  {
   "cell_type": "markdown",
   "metadata": {},
   "source": [
    "## 3.4 Exercise"
   ]
  },
  {
   "cell_type": "markdown",
   "metadata": {},
   "source": [
    "**Exercise:** In most foot races, everyone starts at the same time. If you are a fast runner, you usually pass a lot of people at the beginning of the race, but after a few miles everyone around you is going at the same speed.\n",
    "When I ran a long-distance (209 miles) relay race for the first time, I noticed an odd phenomenon: when I overtook another runner, I was usually much faster, and when another runner overtook me, he was usually much faster.\n",
    "\n",
    "At first I thought that the distribution of speeds might be bimodal; that is, there were many slow runners and many fast runners, but few at my speed.\n",
    "\n",
    "Then I realized that I was the victim of a bias similar to the effect of class size. The race was unusual in two ways: it used a staggered start, so teams started at different times; also, many teams included runners at different levels of ability.\n",
    "\n",
    "As a result, runners were spread out along the course with little relationship between speed and location. When I joined the race, the runners near me were (pretty much) a random sample of the runners in the race.\n",
    "\n",
    "So where does the bias come from? During my time on the course, the chance of overtaking a runner, or being overtaken, is proportional to the difference in our speeds. I am more likely to catch a slow runner, and more likely to be caught by a fast runner. But runners at the same speed are unlikely to see each other.\n",
    "\n",
    "Write a function called `ObservedPmf` that takes a `Pmf` representing the actual distribution of runners’ speeds, and the speed of a running observer, and returns a new `Pmf` representing the distribution of runners’ speeds as seen by the observer.\n",
    "\n",
    "To test your function, you can use `relay.py`, which reads the results from the James Joyce Ramble 10K in Dedham MA and converts the pace of each runner to mph.\n",
    "\n",
    "Compute the distribution of speeds you would observe if you ran a relay race at 7 mph with this group of runners."
   ]
  },
  {
   "cell_type": "code",
   "execution_count": 80,
   "metadata": {},
   "outputs": [],
   "source": [
    "import relay\n",
    "\n",
    "results = relay.ReadResults()\n",
    "speeds = relay.GetSpeeds(results)\n",
    "speeds = relay.BinData(speeds, 3, 12, 100)"
   ]
  },
  {
   "cell_type": "code",
   "execution_count": 81,
   "metadata": {},
   "outputs": [
    {
     "data": {
      "image/png": "[encoded data removed]",
      "text/plain": [
       "<Figure size 432x288 with 1 Axes>"
      ]
     },
     "metadata": {
      "needs_background": "light"
     },
     "output_type": "display_data"
    }
   ],
   "source": [
    "pmf = thinkstats2.Pmf(speeds, 'actual speeds')\n",
    "thinkplot.Pmf(pmf)\n",
    "thinkplot.Config(xlabel='Speed (mph)', ylabel='PMF')"
   ]
  },
  {
   "cell_type": "code",
   "execution_count": 82,
   "metadata": {},
   "outputs": [],
   "source": [
    "def ObservedPmf(pmf, speed, label=None):\n",
    "    \"\"\"Returns a new Pmf representing speeds observed at a given speed.\n",
    "\n",
    "    The chance of observing a runner is proportional to the difference\n",
    "    in speed.\n",
    "\n",
    "    Args:\n",
    "        pmf: distribution of actual speeds\n",
    "        speed: speed of the observing runner\n",
    "        label: string label for the new dist\n",
    "\n",
    "    Returns:\n",
    "        Pmf object\n",
    "    \"\"\"\n",
    "    new = pmf.Copy(label=label)\n",
    "    for val in new.Values():\n",
    "        diff = abs(val - speed)\n",
    "        new[val] *= diff\n",
    "    new.Normalize()\n",
    "    return new"
   ]
  },
  {
   "cell_type": "code",
   "execution_count": 83,
   "metadata": {},
   "outputs": [
    {
     "data": {
      "image/png": "[encoded data removed]",
      "text/plain": [
       "<Figure size 432x288 with 1 Axes>"
      ]
     },
     "metadata": {
      "needs_background": "light"
     },
     "output_type": "display_data"
    }
   ],
   "source": [
    "biased = ObservedPmf(pmf, 7, label='observed speeds')\n",
    "thinkplot.Pmf(biased)\n",
    "thinkplot.Config(xlabel='Speed (mph)', ylabel='PMF')"
   ]
  },
  {
   "cell_type": "code",
   "execution_count": null,
   "metadata": {},
   "outputs": [],
   "source": []
  }
 ],
 "metadata": {
  "kernelspec": {
   "display_name": "Python 3",
   "language": "python",
   "name": "python3"
  },
  "language_info": {
   "codemirror_mode": {
    "name": "ipython",
    "version": 3
   },
   "file_extension": ".py",
   "mimetype": "text/x-python",
   "name": "python",
   "nbconvert_exporter": "python",
   "pygments_lexer": "ipython3",
   "version": "3.7.4"
  }
 },
 "nbformat": 4,
 "nbformat_minor": 1
}
